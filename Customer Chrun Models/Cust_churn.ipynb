{
 "cells": [
  {
   "cell_type": "markdown",
   "id": "266c4a9b",
   "metadata": {},
   "source": [
    "**Predict Customer Churn using dataset from Kaggle** "
   ]
  },
  {
   "cell_type": "code",
   "execution_count": 15,
   "id": "46b3bb96",
   "metadata": {},
   "outputs": [],
   "source": [
    "# Importing the required packages\n",
    "import numpy as np\n",
    "import pandas as pd\n",
    "from sklearn.metrics import confusion_matrix\n",
    "from sklearn.model_selection import train_test_split\n",
    "from sklearn.tree import DecisionTreeClassifier as dtc # tree algorithm\n",
    "from sklearn.ensemble import RandomForestRegressor\n",
    "from sklearn.metrics import accuracy_score\n",
    "from sklearn.model_selection import KFold\n",
    "from sklearn.model_selection import cross_val_score\n",
    "\n",
    "from sklearn.metrics import mean_squared_error, r2_score\n",
    "\n",
    "import matplotlib.pyplot as plt\n",
    "import seaborn as sns\n",
    "from seaborn import pairplot\n",
    "%matplotlib inline\n",
    "\n",
    "Churn_df = pd.read_csv('Churn_Modelling.csv')"
   ]
  },
  {
   "cell_type": "markdown",
   "id": "33a6ea29",
   "metadata": {},
   "source": [
    "**Get info on columns in dataset** "
   ]
  },
  {
   "cell_type": "code",
   "execution_count": 16,
   "id": "d90714d5",
   "metadata": {
    "scrolled": true
   },
   "outputs": [
    {
     "data": {
      "text/html": [
       "<div>\n",
       "<style scoped>\n",
       "    .dataframe tbody tr th:only-of-type {\n",
       "        vertical-align: middle;\n",
       "    }\n",
       "\n",
       "    .dataframe tbody tr th {\n",
       "        vertical-align: top;\n",
       "    }\n",
       "\n",
       "    .dataframe thead th {\n",
       "        text-align: right;\n",
       "    }\n",
       "</style>\n",
       "<table border=\"1\" class=\"dataframe\">\n",
       "  <thead>\n",
       "    <tr style=\"text-align: right;\">\n",
       "      <th></th>\n",
       "      <th>RowNumber</th>\n",
       "      <th>CustomerId</th>\n",
       "      <th>CreditScore</th>\n",
       "      <th>Age</th>\n",
       "      <th>Tenure</th>\n",
       "      <th>Balance</th>\n",
       "      <th>NumOfProducts</th>\n",
       "      <th>HasCrCard</th>\n",
       "      <th>IsActiveMember</th>\n",
       "      <th>EstimatedSalary</th>\n",
       "      <th>Exited</th>\n",
       "    </tr>\n",
       "  </thead>\n",
       "  <tbody>\n",
       "    <tr>\n",
       "      <th>count</th>\n",
       "      <td>10000.00000</td>\n",
       "      <td>1.000000e+04</td>\n",
       "      <td>10000.000000</td>\n",
       "      <td>10000.000000</td>\n",
       "      <td>10000.000000</td>\n",
       "      <td>10000.000000</td>\n",
       "      <td>10000.000000</td>\n",
       "      <td>10000.00000</td>\n",
       "      <td>10000.000000</td>\n",
       "      <td>10000.000000</td>\n",
       "      <td>10000.000000</td>\n",
       "    </tr>\n",
       "    <tr>\n",
       "      <th>mean</th>\n",
       "      <td>5000.50000</td>\n",
       "      <td>1.569094e+07</td>\n",
       "      <td>650.528800</td>\n",
       "      <td>38.921800</td>\n",
       "      <td>5.012800</td>\n",
       "      <td>76485.889288</td>\n",
       "      <td>1.530200</td>\n",
       "      <td>0.70550</td>\n",
       "      <td>0.515100</td>\n",
       "      <td>100090.239881</td>\n",
       "      <td>0.203700</td>\n",
       "    </tr>\n",
       "    <tr>\n",
       "      <th>std</th>\n",
       "      <td>2886.89568</td>\n",
       "      <td>7.193619e+04</td>\n",
       "      <td>96.653299</td>\n",
       "      <td>10.487806</td>\n",
       "      <td>2.892174</td>\n",
       "      <td>62397.405202</td>\n",
       "      <td>0.581654</td>\n",
       "      <td>0.45584</td>\n",
       "      <td>0.499797</td>\n",
       "      <td>57510.492818</td>\n",
       "      <td>0.402769</td>\n",
       "    </tr>\n",
       "    <tr>\n",
       "      <th>min</th>\n",
       "      <td>1.00000</td>\n",
       "      <td>1.556570e+07</td>\n",
       "      <td>350.000000</td>\n",
       "      <td>18.000000</td>\n",
       "      <td>0.000000</td>\n",
       "      <td>0.000000</td>\n",
       "      <td>1.000000</td>\n",
       "      <td>0.00000</td>\n",
       "      <td>0.000000</td>\n",
       "      <td>11.580000</td>\n",
       "      <td>0.000000</td>\n",
       "    </tr>\n",
       "    <tr>\n",
       "      <th>25%</th>\n",
       "      <td>2500.75000</td>\n",
       "      <td>1.562853e+07</td>\n",
       "      <td>584.000000</td>\n",
       "      <td>32.000000</td>\n",
       "      <td>3.000000</td>\n",
       "      <td>0.000000</td>\n",
       "      <td>1.000000</td>\n",
       "      <td>0.00000</td>\n",
       "      <td>0.000000</td>\n",
       "      <td>51002.110000</td>\n",
       "      <td>0.000000</td>\n",
       "    </tr>\n",
       "    <tr>\n",
       "      <th>50%</th>\n",
       "      <td>5000.50000</td>\n",
       "      <td>1.569074e+07</td>\n",
       "      <td>652.000000</td>\n",
       "      <td>37.000000</td>\n",
       "      <td>5.000000</td>\n",
       "      <td>97198.540000</td>\n",
       "      <td>1.000000</td>\n",
       "      <td>1.00000</td>\n",
       "      <td>1.000000</td>\n",
       "      <td>100193.915000</td>\n",
       "      <td>0.000000</td>\n",
       "    </tr>\n",
       "    <tr>\n",
       "      <th>75%</th>\n",
       "      <td>7500.25000</td>\n",
       "      <td>1.575323e+07</td>\n",
       "      <td>718.000000</td>\n",
       "      <td>44.000000</td>\n",
       "      <td>7.000000</td>\n",
       "      <td>127644.240000</td>\n",
       "      <td>2.000000</td>\n",
       "      <td>1.00000</td>\n",
       "      <td>1.000000</td>\n",
       "      <td>149388.247500</td>\n",
       "      <td>0.000000</td>\n",
       "    </tr>\n",
       "    <tr>\n",
       "      <th>max</th>\n",
       "      <td>10000.00000</td>\n",
       "      <td>1.581569e+07</td>\n",
       "      <td>850.000000</td>\n",
       "      <td>92.000000</td>\n",
       "      <td>10.000000</td>\n",
       "      <td>250898.090000</td>\n",
       "      <td>4.000000</td>\n",
       "      <td>1.00000</td>\n",
       "      <td>1.000000</td>\n",
       "      <td>199992.480000</td>\n",
       "      <td>1.000000</td>\n",
       "    </tr>\n",
       "  </tbody>\n",
       "</table>\n",
       "</div>"
      ],
      "text/plain": [
       "         RowNumber    CustomerId   CreditScore           Age        Tenure  \\\n",
       "count  10000.00000  1.000000e+04  10000.000000  10000.000000  10000.000000   \n",
       "mean    5000.50000  1.569094e+07    650.528800     38.921800      5.012800   \n",
       "std     2886.89568  7.193619e+04     96.653299     10.487806      2.892174   \n",
       "min        1.00000  1.556570e+07    350.000000     18.000000      0.000000   \n",
       "25%     2500.75000  1.562853e+07    584.000000     32.000000      3.000000   \n",
       "50%     5000.50000  1.569074e+07    652.000000     37.000000      5.000000   \n",
       "75%     7500.25000  1.575323e+07    718.000000     44.000000      7.000000   \n",
       "max    10000.00000  1.581569e+07    850.000000     92.000000     10.000000   \n",
       "\n",
       "             Balance  NumOfProducts    HasCrCard  IsActiveMember  \\\n",
       "count   10000.000000   10000.000000  10000.00000    10000.000000   \n",
       "mean    76485.889288       1.530200      0.70550        0.515100   \n",
       "std     62397.405202       0.581654      0.45584        0.499797   \n",
       "min         0.000000       1.000000      0.00000        0.000000   \n",
       "25%         0.000000       1.000000      0.00000        0.000000   \n",
       "50%     97198.540000       1.000000      1.00000        1.000000   \n",
       "75%    127644.240000       2.000000      1.00000        1.000000   \n",
       "max    250898.090000       4.000000      1.00000        1.000000   \n",
       "\n",
       "       EstimatedSalary        Exited  \n",
       "count     10000.000000  10000.000000  \n",
       "mean     100090.239881      0.203700  \n",
       "std       57510.492818      0.402769  \n",
       "min          11.580000      0.000000  \n",
       "25%       51002.110000      0.000000  \n",
       "50%      100193.915000      0.000000  \n",
       "75%      149388.247500      0.000000  \n",
       "max      199992.480000      1.000000  "
      ]
     },
     "execution_count": 16,
     "metadata": {},
     "output_type": "execute_result"
    }
   ],
   "source": [
    "Churn_df.describe()"
   ]
  },
  {
   "cell_type": "markdown",
   "id": "d368097a",
   "metadata": {},
   "source": [
    "**Find shape of dataset**"
   ]
  },
  {
   "cell_type": "code",
   "execution_count": 17,
   "id": "07ac6f55",
   "metadata": {},
   "outputs": [
    {
     "data": {
      "text/plain": [
       "(10000, 14)"
      ]
     },
     "execution_count": 17,
     "metadata": {},
     "output_type": "execute_result"
    }
   ],
   "source": [
    "Churn_df.shape"
   ]
  },
  {
   "cell_type": "markdown",
   "id": "da5a1fbd",
   "metadata": {},
   "source": [
    "**Display first 5 rows of dataset**"
   ]
  },
  {
   "cell_type": "code",
   "execution_count": 18,
   "id": "eade150c",
   "metadata": {},
   "outputs": [
    {
     "data": {
      "text/html": [
       "<div>\n",
       "<style scoped>\n",
       "    .dataframe tbody tr th:only-of-type {\n",
       "        vertical-align: middle;\n",
       "    }\n",
       "\n",
       "    .dataframe tbody tr th {\n",
       "        vertical-align: top;\n",
       "    }\n",
       "\n",
       "    .dataframe thead th {\n",
       "        text-align: right;\n",
       "    }\n",
       "</style>\n",
       "<table border=\"1\" class=\"dataframe\">\n",
       "  <thead>\n",
       "    <tr style=\"text-align: right;\">\n",
       "      <th></th>\n",
       "      <th>RowNumber</th>\n",
       "      <th>CustomerId</th>\n",
       "      <th>Surname</th>\n",
       "      <th>CreditScore</th>\n",
       "      <th>Geography</th>\n",
       "      <th>Gender</th>\n",
       "      <th>Age</th>\n",
       "      <th>Tenure</th>\n",
       "      <th>Balance</th>\n",
       "      <th>NumOfProducts</th>\n",
       "      <th>HasCrCard</th>\n",
       "      <th>IsActiveMember</th>\n",
       "      <th>EstimatedSalary</th>\n",
       "      <th>Exited</th>\n",
       "    </tr>\n",
       "  </thead>\n",
       "  <tbody>\n",
       "    <tr>\n",
       "      <th>0</th>\n",
       "      <td>1</td>\n",
       "      <td>15634602</td>\n",
       "      <td>Hargrave</td>\n",
       "      <td>619</td>\n",
       "      <td>France</td>\n",
       "      <td>Female</td>\n",
       "      <td>42</td>\n",
       "      <td>2</td>\n",
       "      <td>0.00</td>\n",
       "      <td>1</td>\n",
       "      <td>1</td>\n",
       "      <td>1</td>\n",
       "      <td>101348.88</td>\n",
       "      <td>1</td>\n",
       "    </tr>\n",
       "    <tr>\n",
       "      <th>1</th>\n",
       "      <td>2</td>\n",
       "      <td>15647311</td>\n",
       "      <td>Hill</td>\n",
       "      <td>608</td>\n",
       "      <td>Spain</td>\n",
       "      <td>Female</td>\n",
       "      <td>41</td>\n",
       "      <td>1</td>\n",
       "      <td>83807.86</td>\n",
       "      <td>1</td>\n",
       "      <td>0</td>\n",
       "      <td>1</td>\n",
       "      <td>112542.58</td>\n",
       "      <td>0</td>\n",
       "    </tr>\n",
       "    <tr>\n",
       "      <th>2</th>\n",
       "      <td>3</td>\n",
       "      <td>15619304</td>\n",
       "      <td>Onio</td>\n",
       "      <td>502</td>\n",
       "      <td>France</td>\n",
       "      <td>Female</td>\n",
       "      <td>42</td>\n",
       "      <td>8</td>\n",
       "      <td>159660.80</td>\n",
       "      <td>3</td>\n",
       "      <td>1</td>\n",
       "      <td>0</td>\n",
       "      <td>113931.57</td>\n",
       "      <td>1</td>\n",
       "    </tr>\n",
       "    <tr>\n",
       "      <th>3</th>\n",
       "      <td>4</td>\n",
       "      <td>15701354</td>\n",
       "      <td>Boni</td>\n",
       "      <td>699</td>\n",
       "      <td>France</td>\n",
       "      <td>Female</td>\n",
       "      <td>39</td>\n",
       "      <td>1</td>\n",
       "      <td>0.00</td>\n",
       "      <td>2</td>\n",
       "      <td>0</td>\n",
       "      <td>0</td>\n",
       "      <td>93826.63</td>\n",
       "      <td>0</td>\n",
       "    </tr>\n",
       "    <tr>\n",
       "      <th>4</th>\n",
       "      <td>5</td>\n",
       "      <td>15737888</td>\n",
       "      <td>Mitchell</td>\n",
       "      <td>850</td>\n",
       "      <td>Spain</td>\n",
       "      <td>Female</td>\n",
       "      <td>43</td>\n",
       "      <td>2</td>\n",
       "      <td>125510.82</td>\n",
       "      <td>1</td>\n",
       "      <td>1</td>\n",
       "      <td>1</td>\n",
       "      <td>79084.10</td>\n",
       "      <td>0</td>\n",
       "    </tr>\n",
       "  </tbody>\n",
       "</table>\n",
       "</div>"
      ],
      "text/plain": [
       "   RowNumber  CustomerId   Surname  CreditScore Geography  Gender  Age  \\\n",
       "0          1    15634602  Hargrave          619    France  Female   42   \n",
       "1          2    15647311      Hill          608     Spain  Female   41   \n",
       "2          3    15619304      Onio          502    France  Female   42   \n",
       "3          4    15701354      Boni          699    France  Female   39   \n",
       "4          5    15737888  Mitchell          850     Spain  Female   43   \n",
       "\n",
       "   Tenure    Balance  NumOfProducts  HasCrCard  IsActiveMember  \\\n",
       "0       2       0.00              1          1               1   \n",
       "1       1   83807.86              1          0               1   \n",
       "2       8  159660.80              3          1               0   \n",
       "3       1       0.00              2          0               0   \n",
       "4       2  125510.82              1          1               1   \n",
       "\n",
       "   EstimatedSalary  Exited  \n",
       "0        101348.88       1  \n",
       "1        112542.58       0  \n",
       "2        113931.57       1  \n",
       "3         93826.63       0  \n",
       "4         79084.10       0  "
      ]
     },
     "execution_count": 18,
     "metadata": {},
     "output_type": "execute_result"
    }
   ],
   "source": [
    "Churn_df.head()"
   ]
  },
  {
   "cell_type": "markdown",
   "id": "c01b84cc",
   "metadata": {},
   "source": [
    "**Display last 5 rows**"
   ]
  },
  {
   "cell_type": "code",
   "execution_count": 19,
   "id": "674a6b89",
   "metadata": {},
   "outputs": [
    {
     "data": {
      "text/html": [
       "<div>\n",
       "<style scoped>\n",
       "    .dataframe tbody tr th:only-of-type {\n",
       "        vertical-align: middle;\n",
       "    }\n",
       "\n",
       "    .dataframe tbody tr th {\n",
       "        vertical-align: top;\n",
       "    }\n",
       "\n",
       "    .dataframe thead th {\n",
       "        text-align: right;\n",
       "    }\n",
       "</style>\n",
       "<table border=\"1\" class=\"dataframe\">\n",
       "  <thead>\n",
       "    <tr style=\"text-align: right;\">\n",
       "      <th></th>\n",
       "      <th>RowNumber</th>\n",
       "      <th>CustomerId</th>\n",
       "      <th>Surname</th>\n",
       "      <th>CreditScore</th>\n",
       "      <th>Geography</th>\n",
       "      <th>Gender</th>\n",
       "      <th>Age</th>\n",
       "      <th>Tenure</th>\n",
       "      <th>Balance</th>\n",
       "      <th>NumOfProducts</th>\n",
       "      <th>HasCrCard</th>\n",
       "      <th>IsActiveMember</th>\n",
       "      <th>EstimatedSalary</th>\n",
       "      <th>Exited</th>\n",
       "    </tr>\n",
       "  </thead>\n",
       "  <tbody>\n",
       "    <tr>\n",
       "      <th>9995</th>\n",
       "      <td>9996</td>\n",
       "      <td>15606229</td>\n",
       "      <td>Obijiaku</td>\n",
       "      <td>771</td>\n",
       "      <td>France</td>\n",
       "      <td>Male</td>\n",
       "      <td>39</td>\n",
       "      <td>5</td>\n",
       "      <td>0.00</td>\n",
       "      <td>2</td>\n",
       "      <td>1</td>\n",
       "      <td>0</td>\n",
       "      <td>96270.64</td>\n",
       "      <td>0</td>\n",
       "    </tr>\n",
       "    <tr>\n",
       "      <th>9996</th>\n",
       "      <td>9997</td>\n",
       "      <td>15569892</td>\n",
       "      <td>Johnstone</td>\n",
       "      <td>516</td>\n",
       "      <td>France</td>\n",
       "      <td>Male</td>\n",
       "      <td>35</td>\n",
       "      <td>10</td>\n",
       "      <td>57369.61</td>\n",
       "      <td>1</td>\n",
       "      <td>1</td>\n",
       "      <td>1</td>\n",
       "      <td>101699.77</td>\n",
       "      <td>0</td>\n",
       "    </tr>\n",
       "    <tr>\n",
       "      <th>9997</th>\n",
       "      <td>9998</td>\n",
       "      <td>15584532</td>\n",
       "      <td>Liu</td>\n",
       "      <td>709</td>\n",
       "      <td>France</td>\n",
       "      <td>Female</td>\n",
       "      <td>36</td>\n",
       "      <td>7</td>\n",
       "      <td>0.00</td>\n",
       "      <td>1</td>\n",
       "      <td>0</td>\n",
       "      <td>1</td>\n",
       "      <td>42085.58</td>\n",
       "      <td>1</td>\n",
       "    </tr>\n",
       "    <tr>\n",
       "      <th>9998</th>\n",
       "      <td>9999</td>\n",
       "      <td>15682355</td>\n",
       "      <td>Sabbatini</td>\n",
       "      <td>772</td>\n",
       "      <td>Germany</td>\n",
       "      <td>Male</td>\n",
       "      <td>42</td>\n",
       "      <td>3</td>\n",
       "      <td>75075.31</td>\n",
       "      <td>2</td>\n",
       "      <td>1</td>\n",
       "      <td>0</td>\n",
       "      <td>92888.52</td>\n",
       "      <td>1</td>\n",
       "    </tr>\n",
       "    <tr>\n",
       "      <th>9999</th>\n",
       "      <td>10000</td>\n",
       "      <td>15628319</td>\n",
       "      <td>Walker</td>\n",
       "      <td>792</td>\n",
       "      <td>France</td>\n",
       "      <td>Female</td>\n",
       "      <td>28</td>\n",
       "      <td>4</td>\n",
       "      <td>130142.79</td>\n",
       "      <td>1</td>\n",
       "      <td>1</td>\n",
       "      <td>0</td>\n",
       "      <td>38190.78</td>\n",
       "      <td>0</td>\n",
       "    </tr>\n",
       "  </tbody>\n",
       "</table>\n",
       "</div>"
      ],
      "text/plain": [
       "      RowNumber  CustomerId    Surname  CreditScore Geography  Gender  Age  \\\n",
       "9995       9996    15606229   Obijiaku          771    France    Male   39   \n",
       "9996       9997    15569892  Johnstone          516    France    Male   35   \n",
       "9997       9998    15584532        Liu          709    France  Female   36   \n",
       "9998       9999    15682355  Sabbatini          772   Germany    Male   42   \n",
       "9999      10000    15628319     Walker          792    France  Female   28   \n",
       "\n",
       "      Tenure    Balance  NumOfProducts  HasCrCard  IsActiveMember  \\\n",
       "9995       5       0.00              2          1               0   \n",
       "9996      10   57369.61              1          1               1   \n",
       "9997       7       0.00              1          0               1   \n",
       "9998       3   75075.31              2          1               0   \n",
       "9999       4  130142.79              1          1               0   \n",
       "\n",
       "      EstimatedSalary  Exited  \n",
       "9995         96270.64       0  \n",
       "9996        101699.77       0  \n",
       "9997         42085.58       1  \n",
       "9998         92888.52       1  \n",
       "9999         38190.78       0  "
      ]
     },
     "execution_count": 19,
     "metadata": {},
     "output_type": "execute_result"
    }
   ],
   "source": [
    "Churn_df.tail()"
   ]
  },
  {
   "cell_type": "markdown",
   "id": "3cefb5f4",
   "metadata": {},
   "source": [
    "**Find unique rows in Geography for converting to categorical values later**"
   ]
  },
  {
   "cell_type": "code",
   "execution_count": 20,
   "id": "e8d71c74",
   "metadata": {},
   "outputs": [
    {
     "data": {
      "text/plain": [
       "array(['France', 'Spain', 'Germany'], dtype=object)"
      ]
     },
     "execution_count": 20,
     "metadata": {},
     "output_type": "execute_result"
    }
   ],
   "source": [
    "Churn_df.Geography.unique()"
   ]
  },
  {
   "cell_type": "markdown",
   "id": "54c3f82d",
   "metadata": {},
   "source": [
    "**Find unique rows in Gender for converting to categorical values later**"
   ]
  },
  {
   "cell_type": "code",
   "execution_count": 21,
   "id": "3c5449d8",
   "metadata": {},
   "outputs": [
    {
     "data": {
      "text/plain": [
       "array(['Female', 'Male'], dtype=object)"
      ]
     },
     "execution_count": 21,
     "metadata": {},
     "output_type": "execute_result"
    }
   ],
   "source": [
    "Churn_df.Gender.unique()"
   ]
  },
  {
   "cell_type": "markdown",
   "id": "8543cc1d",
   "metadata": {},
   "source": [
    "**Find # of null rows"
   ]
  },
  {
   "cell_type": "code",
   "execution_count": 22,
   "id": "58f965d4",
   "metadata": {},
   "outputs": [
    {
     "data": {
      "text/plain": [
       "0"
      ]
     },
     "execution_count": 22,
     "metadata": {},
     "output_type": "execute_result"
    }
   ],
   "source": [
    "Churn_df.isna().sum().sum()"
   ]
  },
  {
   "cell_type": "markdown",
   "id": "aaac2f52",
   "metadata": {},
   "source": [
    "**Count of customers exited and stayed**"
   ]
  },
  {
   "cell_type": "code",
   "execution_count": 23,
   "id": "5ee47be0",
   "metadata": {},
   "outputs": [
    {
     "data": {
      "image/png": "[encoded data removed]",
      "text/plain": [
       "<Figure size 432x432 with 1 Axes>"
      ]
     },
     "metadata": {
      "needs_background": "light"
     },
     "output_type": "display_data"
    }
   ],
   "source": [
    "plt.figure(figsize=(6,6))\n",
    "sns.countplot(x=Churn_df['Exited'])\n",
    "plt.show()"
   ]
  },
  {
   "cell_type": "markdown",
   "id": "8bdbb415",
   "metadata": {},
   "source": [
    "**Display Column names # of nulls and datatype** "
   ]
  },
  {
   "cell_type": "code",
   "execution_count": 24,
   "id": "9c61a0a8",
   "metadata": {},
   "outputs": [
    {
     "name": "stdout",
     "output_type": "stream",
     "text": [
      "<class 'pandas.core.frame.DataFrame'>\n",
      "RangeIndex: 10000 entries, 0 to 9999\n",
      "Data columns (total 14 columns):\n",
      " #   Column           Non-Null Count  Dtype  \n",
      "---  ------           --------------  -----  \n",
      " 0   RowNumber        10000 non-null  int64  \n",
      " 1   CustomerId       10000 non-null  int64  \n",
      " 2   Surname          10000 non-null  object \n",
      " 3   CreditScore      10000 non-null  int64  \n",
      " 4   Geography        10000 non-null  object \n",
      " 5   Gender           10000 non-null  object \n",
      " 6   Age              10000 non-null  int64  \n",
      " 7   Tenure           10000 non-null  int64  \n",
      " 8   Balance          10000 non-null  float64\n",
      " 9   NumOfProducts    10000 non-null  int64  \n",
      " 10  HasCrCard        10000 non-null  int64  \n",
      " 11  IsActiveMember   10000 non-null  int64  \n",
      " 12  EstimatedSalary  10000 non-null  float64\n",
      " 13  Exited           10000 non-null  int64  \n",
      "dtypes: float64(2), int64(9), object(3)\n",
      "memory usage: 1.1+ MB\n"
     ]
    }
   ],
   "source": [
    "Churn_df.info()"
   ]
  },
  {
   "cell_type": "markdown",
   "id": "cead30dd",
   "metadata": {},
   "source": [
    "**Create Box plots of numeric variables in dataset compared to exited**"
   ]
  },
  {
   "cell_type": "code",
   "execution_count": 25,
   "id": "bcc2c16f",
   "metadata": {},
   "outputs": [
    {
     "data": {
      "image/png": "[encoded data removed]",
      "text/plain": [
       "<Figure size 432x432 with 1 Axes>"
      ]
     },
     "metadata": {
      "needs_background": "light"
     },
     "output_type": "display_data"
    },
    {
     "data": {
      "image/png": "[encoded data removed]",
      "text/plain": [
       "<Figure size 432x432 with 1 Axes>"
      ]
     },
     "metadata": {
      "needs_background": "light"
     },
     "output_type": "display_data"
    },
    {
     "data": {
      "image/png": "[encoded data removed]",
      "text/plain": [
       "<Figure size 432x432 with 1 Axes>"
      ]
     },
     "metadata": {
      "needs_background": "light"
     },
     "output_type": "display_data"
    },
    {
     "data": {
      "image/png": "[encoded data removed]",
      "text/plain": [
       "<Figure size 432x432 with 1 Axes>"
      ]
     },
     "metadata": {
      "needs_background": "light"
     },
     "output_type": "display_data"
    },
    {
     "data": {
      "image/png": "[encoded data removed]",
      "text/plain": [
       "<Figure size 432x432 with 1 Axes>"
      ]
     },
     "metadata": {
      "needs_background": "light"
     },
     "output_type": "display_data"
    },
    {
     "data": {
      "image/png": "[encoded data removed]",
      "text/plain": [
       "<Figure size 432x432 with 1 Axes>"
      ]
     },
     "metadata": {
      "needs_background": "light"
     },
     "output_type": "display_data"
    }
   ],
   "source": [
    "from matplotlib import pyplot as plt\n",
    "%matplotlib inline\n",
    "\n",
    "features = ['CreditScore','Age','Tenure','Balance','NumOfProducts','EstimatedSalary']\n",
    "for col in features:\n",
    "    Churn_df.boxplot(column=col, by='Exited', figsize=(6,6))\n",
    "    plt.title(col)\n",
    "plt.show()"
   ]
  },
  {
   "cell_type": "markdown",
   "id": "b8e2ef7f",
   "metadata": {},
   "source": [
    "**See Categorical Variables with respect to Exited. Code copied from Analytics Vidyha**"
   ]
  },
  {
   "cell_type": "code",
   "execution_count": 26,
   "id": "fdaf6455",
   "metadata": {},
   "outputs": [
    {
     "data": {
      "image/png": "[encoded data removed]",
      "text/plain": [
       "<Figure size 432x288 with 1 Axes>"
      ]
     },
     "metadata": {
      "needs_background": "light"
     },
     "output_type": "display_data"
    },
    {
     "data": {
      "image/png": "[encoded data removed]",
      "text/plain": [
       "<Figure size 432x288 with 1 Axes>"
      ]
     },
     "metadata": {
      "needs_background": "light"
     },
     "output_type": "display_data"
    },
    {
     "data": {
      "image/png": "[encoded data removed]",
      "text/plain": [
       "<Figure size 432x288 with 1 Axes>"
      ]
     },
     "metadata": {
      "needs_background": "light"
     },
     "output_type": "display_data"
    },
    {
     "data": {
      "image/png": "[encoded data removed]",
      "text/plain": [
       "<Figure size 432x288 with 1 Axes>"
      ]
     },
     "metadata": {
      "needs_background": "light"
     },
     "output_type": "display_data"
    }
   ],
   "source": [
    "for i, predictor in enumerate(Churn_df.drop(columns = ['Exited','RowNumber','CustomerId','Surname','EstimatedSalary','CreditScore','Age','Tenure','Balance','NumOfProducts','EstimatedSalary'])):\n",
    "    plt.figure(i)\n",
    "    sns.countplot(data=Churn_df, x= predictor, hue = 'Exited')"
   ]
  },
  {
   "cell_type": "markdown",
   "id": "5856036e",
   "metadata": {},
   "source": [
    "**Drop row number, surname and customer id which do not have anything to do with churn**"
   ]
  },
  {
   "cell_type": "code",
   "execution_count": 27,
   "id": "3d212015",
   "metadata": {},
   "outputs": [],
   "source": [
    "Churn_df = Churn_df.drop(columns=['RowNumber','Surname','CustomerId'])"
   ]
  },
  {
   "cell_type": "markdown",
   "id": "9169605c",
   "metadata": {},
   "source": [
    "**Correlation values**"
   ]
  },
  {
   "cell_type": "code",
   "execution_count": 28,
   "id": "7f5d65ed",
   "metadata": {},
   "outputs": [
    {
     "name": "stdout",
     "output_type": "stream",
     "text": [
      "                 CreditScore       Age    Tenure   Balance  NumOfProducts  \\\n",
      "Exited             -0.027094  0.285323 -0.014001  0.118533      -0.047820   \n",
      "Age                -0.003965  1.000000 -0.009997  0.028308      -0.030680   \n",
      "Balance             0.006268  0.028308 -0.012254  1.000000      -0.304180   \n",
      "EstimatedSalary    -0.001384 -0.007201  0.007784  0.012797       0.014204   \n",
      "HasCrCard          -0.005458 -0.011721  0.022583 -0.014858       0.003183   \n",
      "Tenure              0.000842 -0.009997  1.000000 -0.012254       0.013444   \n",
      "CreditScore         1.000000 -0.003965  0.000842  0.006268       0.012238   \n",
      "NumOfProducts       0.012238 -0.030680  0.013444 -0.304180       1.000000   \n",
      "IsActiveMember      0.025651  0.085472 -0.028362 -0.010084       0.009612   \n",
      "\n",
      "                 HasCrCard  IsActiveMember  EstimatedSalary    Exited  \n",
      "Exited           -0.007138       -0.156128         0.012097  1.000000  \n",
      "Age              -0.011721        0.085472        -0.007201  0.285323  \n",
      "Balance          -0.014858       -0.010084         0.012797  0.118533  \n",
      "EstimatedSalary  -0.009933       -0.011421         1.000000  0.012097  \n",
      "HasCrCard         1.000000       -0.011866        -0.009933 -0.007138  \n",
      "Tenure            0.022583       -0.028362         0.007784 -0.014001  \n",
      "CreditScore      -0.005458        0.025651        -0.001384 -0.027094  \n",
      "NumOfProducts     0.003183        0.009612         0.014204 -0.047820  \n",
      "IsActiveMember   -0.011866        1.000000        -0.011421 -0.156128  \n"
     ]
    }
   ],
   "source": [
    "corrM = Churn_df.corr()\n",
    "corrM = corrM.sort_values(by ='Exited',ascending=False)\n",
    "print(corrM)"
   ]
  },
  {
   "cell_type": "markdown",
   "id": "5b674ce9",
   "metadata": {},
   "source": [
    "**Create Correlation heatmap**"
   ]
  },
  {
   "cell_type": "code",
   "execution_count": 29,
   "id": "8dbef55b",
   "metadata": {},
   "outputs": [
    {
     "data": {
      "image/png": "[encoded data removed]",
      "text/plain": [
       "<Figure size 864x648 with 2 Axes>"
      ]
     },
     "metadata": {
      "needs_background": "light"
     },
     "output_type": "display_data"
    }
   ],
   "source": [
    "import seaborn as sns\n",
    "import matplotlib.pyplot as plt\n",
    "\n",
    "corrmat = Churn_df.corr()\n",
    "f, ax = plt.subplots(figsize=(12, 9))\n",
    "sns.heatmap(corrmat,vmax=.8,  square=True);"
   ]
  },
  {
   "cell_type": "markdown",
   "id": "4ff035d2",
   "metadata": {},
   "source": [
    "**Create boxplots of Exited by Age, IsActiveMemeber,Balance and Credit Score**"
   ]
  },
  {
   "cell_type": "code",
   "execution_count": 30,
   "id": "7df77d82",
   "metadata": {},
   "outputs": [
    {
     "data": {
      "image/png": "[encoded data removed]",
      "text/plain": [
       "<Figure size 360x360 with 1 Axes>"
      ]
     },
     "metadata": {
      "needs_background": "light"
     },
     "output_type": "display_data"
    },
    {
     "data": {
      "image/png": "[encoded data removed]",
      "text/plain": [
       "<Figure size 360x360 with 1 Axes>"
      ]
     },
     "metadata": {
      "needs_background": "light"
     },
     "output_type": "display_data"
    },
    {
     "data": {
      "image/png": "[encoded data removed]",
      "text/plain": [
       "<Figure size 360x360 with 1 Axes>"
      ]
     },
     "metadata": {
      "needs_background": "light"
     },
     "output_type": "display_data"
    },
    {
     "data": {
      "image/png": "[encoded data removed]",
      "text/plain": [
       "<Figure size 360x360 with 1 Axes>"
      ]
     },
     "metadata": {
      "needs_background": "light"
     },
     "output_type": "display_data"
    }
   ],
   "source": [
    "sns.catplot(x=\"Exited\", y=\"Age\",  kind=\"box\",data=Churn_df)\n",
    "sns.catplot(x=\"Exited\", y=\"IsActiveMember\",  kind=\"box\",data=Churn_df)\n",
    "sns.catplot(x=\"Exited\", y=\"Balance\",  kind=\"box\",data=Churn_df);\n",
    "sns.catplot(x=\"Exited\", y=\"CreditScore\",  kind=\"box\",data=Churn_df);"
   ]
  },
  {
   "cell_type": "markdown",
   "id": "8381bb12",
   "metadata": {},
   "source": [
    "**Show skewness**"
   ]
  },
  {
   "cell_type": "code",
   "execution_count": 31,
   "id": "b537ae0f",
   "metadata": {},
   "outputs": [
    {
     "name": "stdout",
     "output_type": "stream",
     "text": [
      "Skewness: -0.141109\n"
     ]
    }
   ],
   "source": [
    "print(\"Skewness: %f\" % Churn_df['Balance'].skew())"
   ]
  },
  {
   "cell_type": "markdown",
   "id": "7dfb1333",
   "metadata": {},
   "source": [
    "**Ordinal Encode Exited, Georgrphy and Gender**"
   ]
  },
  {
   "cell_type": "code",
   "execution_count": 32,
   "id": "c12a9dfb",
   "metadata": {},
   "outputs": [],
   "source": [
    "from sklearn.preprocessing import OrdinalEncoder\n",
    "enc = OrdinalEncoder()\n",
    "enc.fit(Churn_df[['Exited']])\n",
    "Churn_df[['Exited']] = enc.transform(Churn_df[['Exited']])"
   ]
  },
  {
   "cell_type": "code",
   "execution_count": 33,
   "id": "6342843b",
   "metadata": {},
   "outputs": [],
   "source": [
    "enc = OrdinalEncoder()\n",
    "enc.fit(Churn_df[['Geography']])\n",
    "Churn_df[['Geography']] = enc.transform(Churn_df[['Geography']])"
   ]
  },
  {
   "cell_type": "code",
   "execution_count": 34,
   "id": "06122fb7",
   "metadata": {},
   "outputs": [],
   "source": [
    "enc = OrdinalEncoder()\n",
    "enc.fit(Churn_df[['Gender']])\n",
    "Churn_df[['Gender']] = enc.transform(Churn_df[['Gender']])"
   ]
  },
  {
   "cell_type": "markdown",
   "id": "2d923501",
   "metadata": {},
   "source": [
    "**Ooderdinal Enc Exited, Georgrphy and Gender**"
   ]
  },
  {
   "cell_type": "code",
   "execution_count": 35,
   "id": "a25d03b3",
   "metadata": {},
   "outputs": [],
   "source": [
    "Churn_df = Churn_df.astype({\"Exited\":\"int\",\"Gender\":\"int\",\"Geography\":\"int\"})\n"
   ]
  },
  {
   "cell_type": "code",
   "execution_count": 36,
   "id": "a74663ed",
   "metadata": {},
   "outputs": [],
   "source": [
    "feature_cols  = ['CreditScore', 'Geography', 'Gender', 'Age', 'Tenure', 'Balance', 'NumOfProducts', 'HasCrCard', 'IsActiveMember', 'EstimatedSalary']\n",
    "target = Churn_df['Exited']\n",
    "X = Churn_df[feature_cols]\n",
    "y = target"
   ]
  },
  {
   "cell_type": "code",
   "execution_count": 37,
   "id": "0016312a",
   "metadata": {},
   "outputs": [],
   "source": [
    "from sklearn.model_selection import train_test_split\n",
    "X_train,X_test,y_train,y_test=train_test_split(X,y,test_size=0.25,random_state=0)"
   ]
  },
  {
   "cell_type": "markdown",
   "id": "04cac16c",
   "metadata": {},
   "source": [
    "**Model using a decision tree**"
   ]
  },
  {
   "cell_type": "code",
   "execution_count": 38,
   "id": "1b7900a7",
   "metadata": {},
   "outputs": [],
   "source": [
    "from sklearn import tree\n",
    "model = dtc(criterion = 'entropy', max_depth = 4)\n",
    "model.fit(X_train, y_train)\n",
    "y_pred = model.predict(X_test)"
   ]
  },
  {
   "cell_type": "markdown",
   "id": "0636b47e",
   "metadata": {},
   "source": [
    "**Determine Accuracy of model**"
   ]
  },
  {
   "cell_type": "code",
   "execution_count": 39,
   "id": "9c41f85e",
   "metadata": {},
   "outputs": [
    {
     "data": {
      "text/plain": [
       "0.8572"
      ]
     },
     "execution_count": 39,
     "metadata": {},
     "output_type": "execute_result"
    }
   ],
   "source": [
    "accuracy_score(y_test, y_pred)"
   ]
  },
  {
   "cell_type": "markdown",
   "id": "bc496b18",
   "metadata": {},
   "source": [
    "**Text representation of Decision Tree**"
   ]
  },
  {
   "cell_type": "code",
   "execution_count": 40,
   "id": "40100e62",
   "metadata": {},
   "outputs": [
    {
     "name": "stdout",
     "output_type": "stream",
     "text": [
      "|--- feature_3 <= 41.50\n",
      "|   |--- feature_6 <= 2.50\n",
      "|   |   |--- feature_6 <= 1.50\n",
      "|   |   |   |--- feature_3 <= 34.50\n",
      "|   |   |   |   |--- class: 0\n",
      "|   |   |   |--- feature_3 >  34.50\n",
      "|   |   |   |   |--- class: 0\n",
      "|   |   |--- feature_6 >  1.50\n",
      "|   |   |   |--- feature_5 <= 1884.34\n",
      "|   |   |   |   |--- class: 0\n",
      "|   |   |   |--- feature_5 >  1884.34\n",
      "|   |   |   |   |--- class: 0\n",
      "|   |--- feature_6 >  2.50\n",
      "|   |   |--- feature_5 <= 23194.08\n",
      "|   |   |   |--- feature_9 <= 168592.80\n",
      "|   |   |   |   |--- class: 0\n",
      "|   |   |   |--- feature_9 >  168592.80\n",
      "|   |   |   |   |--- class: 1\n",
      "|   |   |--- feature_5 >  23194.08\n",
      "|   |   |   |--- feature_4 <= 5.50\n",
      "|   |   |   |   |--- class: 1\n",
      "|   |   |   |--- feature_4 >  5.50\n",
      "|   |   |   |   |--- class: 1\n",
      "|--- feature_3 >  41.50\n",
      "|   |--- feature_6 <= 2.50\n",
      "|   |   |--- feature_6 <= 1.50\n",
      "|   |   |   |--- feature_8 <= 0.50\n",
      "|   |   |   |   |--- class: 1\n",
      "|   |   |   |--- feature_8 >  0.50\n",
      "|   |   |   |   |--- class: 0\n",
      "|   |   |--- feature_6 >  1.50\n",
      "|   |   |   |--- feature_5 <= 42398.04\n",
      "|   |   |   |   |--- class: 0\n",
      "|   |   |   |--- feature_5 >  42398.04\n",
      "|   |   |   |   |--- class: 0\n",
      "|   |--- feature_6 >  2.50\n",
      "|   |   |--- feature_3 <= 66.00\n",
      "|   |   |   |--- feature_5 <= 21886.33\n",
      "|   |   |   |   |--- class: 1\n",
      "|   |   |   |--- feature_5 >  21886.33\n",
      "|   |   |   |   |--- class: 1\n",
      "|   |   |--- feature_3 >  66.00\n",
      "|   |   |   |--- feature_5 <= 43019.11\n",
      "|   |   |   |   |--- class: 0\n",
      "|   |   |   |--- feature_5 >  43019.11\n",
      "|   |   |   |   |--- class: 1\n",
      "\n"
     ]
    }
   ],
   "source": [
    "text_representation = tree.export_text(model)\n",
    "print(text_representation)\n"
   ]
  },
  {
   "cell_type": "markdown",
   "id": "e2b3ac10",
   "metadata": {},
   "source": [
    "**Create Confusion Matrix**"
   ]
  },
  {
   "cell_type": "code",
   "execution_count": 41,
   "id": "ca83b7c6",
   "metadata": {},
   "outputs": [
    {
     "data": {
      "text/html": [
       "<div>\n",
       "<style scoped>\n",
       "    .dataframe tbody tr th:only-of-type {\n",
       "        vertical-align: middle;\n",
       "    }\n",
       "\n",
       "    .dataframe tbody tr th {\n",
       "        vertical-align: top;\n",
       "    }\n",
       "\n",
       "    .dataframe thead th {\n",
       "        text-align: right;\n",
       "    }\n",
       "</style>\n",
       "<table border=\"1\" class=\"dataframe\">\n",
       "  <thead>\n",
       "    <tr style=\"text-align: right;\">\n",
       "      <th>Predicted</th>\n",
       "      <th>0</th>\n",
       "      <th>1</th>\n",
       "      <th>All</th>\n",
       "    </tr>\n",
       "    <tr>\n",
       "      <th>True</th>\n",
       "      <th></th>\n",
       "      <th></th>\n",
       "      <th></th>\n",
       "    </tr>\n",
       "  </thead>\n",
       "  <tbody>\n",
       "    <tr>\n",
       "      <th>0</th>\n",
       "      <td>1907</td>\n",
       "      <td>84</td>\n",
       "      <td>1991</td>\n",
       "    </tr>\n",
       "    <tr>\n",
       "      <th>1</th>\n",
       "      <td>273</td>\n",
       "      <td>236</td>\n",
       "      <td>509</td>\n",
       "    </tr>\n",
       "    <tr>\n",
       "      <th>All</th>\n",
       "      <td>2180</td>\n",
       "      <td>320</td>\n",
       "      <td>2500</td>\n",
       "    </tr>\n",
       "  </tbody>\n",
       "</table>\n",
       "</div>"
      ],
      "text/plain": [
       "Predicted     0    1   All\n",
       "True                      \n",
       "0          1907   84  1991\n",
       "1           273  236   509\n",
       "All        2180  320  2500"
      ]
     },
     "execution_count": 41,
     "metadata": {},
     "output_type": "execute_result"
    }
   ],
   "source": [
    "pd.crosstab(y_test, y_pred, rownames=['True'], colnames=['Predicted'], margins=True)"
   ]
  },
  {
   "cell_type": "markdown",
   "id": "d7b3b002",
   "metadata": {},
   "source": [
    "**Metrics Classification of model**"
   ]
  },
  {
   "cell_type": "code",
   "execution_count": 42,
   "id": "b0c20a04",
   "metadata": {},
   "outputs": [
    {
     "name": "stdout",
     "output_type": "stream",
     "text": [
      "              precision    recall  f1-score   support\n",
      "\n",
      "           0       0.87      0.96      0.91      1991\n",
      "           1       0.74      0.46      0.57       509\n",
      "\n",
      "    accuracy                           0.86      2500\n",
      "   macro avg       0.81      0.71      0.74      2500\n",
      "weighted avg       0.85      0.86      0.84      2500\n",
      "\n"
     ]
    }
   ],
   "source": [
    "import sklearn.metrics as metrics\n",
    "print(metrics.classification_report(y_test, y_pred))"
   ]
  },
  {
   "cell_type": "markdown",
   "id": "4e237c3a",
   "metadata": {},
   "source": [
    "**Calculate ROC and create roc curve**"
   ]
  },
  {
   "cell_type": "code",
   "execution_count": 43,
   "id": "92e6619d",
   "metadata": {},
   "outputs": [],
   "source": [
    "fpr, tpr, _ = metrics.roc_curve(y_test,  y_pred)"
   ]
  },
  {
   "cell_type": "code",
   "execution_count": 44,
   "id": "259b9b5d",
   "metadata": {},
   "outputs": [
    {
     "data": {
      "image/png": "[encoded data removed]",
      "text/plain": [
       "<Figure size 432x288 with 1 Axes>"
      ]
     },
     "metadata": {
      "needs_background": "light"
     },
     "output_type": "display_data"
    }
   ],
   "source": [
    "#create ROC curve\n",
    "plt.plot(fpr,tpr)\n",
    "plt.ylabel('True Positive Rate')\n",
    "plt.xlabel('False Positive Rate')\n",
    "plt.show()"
   ]
  },
  {
   "cell_type": "markdown",
   "id": "3bad5afe",
   "metadata": {},
   "source": [
    "**Run Support Vector to see if it is more accurate than Decision tree** "
   ]
  },
  {
   "cell_type": "code",
   "execution_count": 45,
   "id": "e2eab84b",
   "metadata": {},
   "outputs": [
    {
     "data": {
      "text/plain": [
       "SVC()"
      ]
     },
     "execution_count": 45,
     "metadata": {},
     "output_type": "execute_result"
    }
   ],
   "source": [
    "from sklearn.svm import SVC\n",
    "model = SVC( )\n",
    "model.fit(X_train, y_train)"
   ]
  },
  {
   "cell_type": "code",
   "execution_count": 46,
   "id": "ce781a1e",
   "metadata": {},
   "outputs": [
    {
     "name": "stdout",
     "output_type": "stream",
     "text": [
      "Cross Validation Scores are [0.78733333 0.79533333 0.81266667 0.78933333 0.79666667]\n",
      "Average Cross Validation score :0.7962666666666667\n"
     ]
    }
   ],
   "source": [
    "model.score(X_test, y_test)\n",
    "kf=KFold(n_splits=5)\n",
    "score=cross_val_score(model,X_train,y_train,cv=kf)\n",
    "print(\"Cross Validation Scores are {}\".format(score))\n",
    "print(\"Average Cross Validation score :{}\".format(score.mean()))"
   ]
  },
  {
   "cell_type": "markdown",
   "id": "89c51044",
   "metadata": {},
   "source": [
    "**Run logistic regression with cross validation to see if it is more accurate than Decision tree** "
   ]
  },
  {
   "cell_type": "code",
   "execution_count": 47,
   "id": "77f07a3d",
   "metadata": {},
   "outputs": [
    {
     "name": "stdout",
     "output_type": "stream",
     "text": [
      "Cross Validation Scores are [0.77666667 0.79       0.80933333 0.78533333 0.79333333]\n",
      "Average Cross Validation score :0.7909333333333334\n"
     ]
    }
   ],
   "source": [
    "from sklearn.linear_model import LogisticRegression\n",
    "from sklearn.model_selection import cross_val_score,KFold\n",
    "\n",
    "logreg = LogisticRegression()\n",
    "# logreg.fit(X_train,y_train)\n",
    "# y_pred=logreg.predict(X_test)\n",
    "kf=KFold(n_splits=5)\n",
    "score=cross_val_score(logreg,X_train,y_train,cv=kf)\n",
    "print(\"Cross Validation Scores are {}\".format(score))\n",
    "print(\"Average Cross Validation score :{}\".format(score.mean()))"
   ]
  },
  {
   "cell_type": "markdown",
   "id": "a3c26bef",
   "metadata": {},
   "source": [
    "**Run Random Forest to see if it is more accurate than Decision tree** "
   ]
  },
  {
   "cell_type": "code",
   "execution_count": 48,
   "id": "0fe8257f",
   "metadata": {},
   "outputs": [],
   "source": [
    "from sklearn.ensemble import RandomForestClassifier\n",
    "clf = RandomForestClassifier(n_estimators=170)\n",
    "clf.fit(X_train,y_train);"
   ]
  },
  {
   "cell_type": "markdown",
   "id": "042421d9",
   "metadata": {},
   "source": [
    "**Random Forest appears to be the best at 86.36 vs 85.72 for decision tree**"
   ]
  },
  {
   "cell_type": "code",
   "execution_count": 49,
   "id": "6d41ccb7",
   "metadata": {},
   "outputs": [
    {
     "name": "stdout",
     "output_type": "stream",
     "text": [
      "Accuracy: 86.36\n"
     ]
    }
   ],
   "source": [
    "y_pred=clf.predict(X_test)\n",
    "Accuracy = metrics.accuracy_score(y_test, y_pred)\n",
    "print('Accuracy: %.2f' % (Accuracy*100))\n"
   ]
  },
  {
   "cell_type": "markdown",
   "id": "313fd54b",
   "metadata": {},
   "source": [
    "**Run Classification report for Random Forest**"
   ]
  },
  {
   "cell_type": "code",
   "execution_count": 50,
   "id": "2a3fec9a",
   "metadata": {},
   "outputs": [
    {
     "name": "stdout",
     "output_type": "stream",
     "text": [
      "              precision    recall  f1-score   support\n",
      "\n",
      "           0       0.88      0.96      0.92      1991\n",
      "           1       0.75      0.50      0.60       509\n",
      "\n",
      "    accuracy                           0.86      2500\n",
      "   macro avg       0.82      0.73      0.76      2500\n",
      "weighted avg       0.85      0.86      0.85      2500\n",
      "\n"
     ]
    }
   ],
   "source": [
    "import sklearn.metrics as metrics\n",
    "print(metrics.classification_report(y_test, y_pred))"
   ]
  },
  {
   "cell_type": "markdown",
   "id": "affed9d0",
   "metadata": {},
   "source": [
    "**use boosting ensemble**"
   ]
  },
  {
   "cell_type": "code",
   "execution_count": 51,
   "id": "60c19820",
   "metadata": {},
   "outputs": [
    {
     "name": "stdout",
     "output_type": "stream",
     "text": [
      "0.8592000000000001\n"
     ]
    }
   ],
   "source": [
    "import pandas\n",
    "from sklearn import model_selection\n",
    "from sklearn.ensemble import GradientBoostingClassifier\n",
    "seed = 7\n",
    "num_trees = 100\n",
    "kfold = model_selection.KFold(n_splits=10, random_state=None)\n",
    "model = GradientBoostingClassifier(n_estimators=num_trees, random_state=seed)\n",
    "results = model_selection.cross_val_score(model, X_test, y_test, cv=kfold)\n",
    "print(results.mean())"
   ]
  },
  {
   "cell_type": "markdown",
   "id": "531e20aa",
   "metadata": {},
   "source": [
    "**Mean .8592 so it is near the top but not as good as Random Forest**"
   ]
  },
  {
   "cell_type": "code",
   "execution_count": null,
   "id": "202f0dfc",
   "metadata": {},
   "outputs": [],
   "source": []
  }
 ],
 "metadata": {
  "kernelspec": {
   "display_name": "Python 3 (ipykernel)",
   "language": "python",
   "name": "python3"
  },
  "language_info": {
   "codemirror_mode": {
    "name": "ipython",
    "version": 3
   },
   "file_extension": ".py",
   "mimetype": "text/x-python",
   "name": "python",
   "nbconvert_exporter": "python",
   "pygments_lexer": "ipython3",
   "version": "3.9.7"
  }
 },
 "nbformat": 4,
 "nbformat_minor": 5
}
