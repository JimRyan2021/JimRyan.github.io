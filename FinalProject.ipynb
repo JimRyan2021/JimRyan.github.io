{
 "cells": [
  {
   "cell_type": "code",
   "execution_count": 1,
   "metadata": {},
   "outputs": [],
   "source": [
    "import tweepy\n",
    "import pandas as pd\n",
    "from textblob import TextBlob\n",
    "import nltk\n",
    "import csv"
   ]
  },
  {
   "cell_type": "code",
   "execution_count": 2,
   "metadata": {},
   "outputs": [],
   "source": [
    "%run ~/twitter_credentials.py"
   ]
  },
  {
   "cell_type": "code",
   "execution_count": 3,
   "metadata": {},
   "outputs": [],
   "source": [
    "\n",
    "#Use tweepy.OAuthHandler to ```create an authentication using the given key and secret\n",
    "auth = tweepy.OAuthHandler(consumer_key=con_key, consumer_secret=con_secret)\n",
    "auth.set_access_token(acc_token, acc_secret)\n",
    "\n",
    "#Connect to the Twitter API using the authentication\n",
    "api = tweepy.API(auth)"
   ]
  },
  {
   "cell_type": "code",
   "execution_count": 4,
   "metadata": {},
   "outputs": [],
   "source": [
    "class MyStreamListener(tweepy.StreamListener):\n",
    "\n",
    "    def __init__(self):\n",
    "        \n",
    "        super(MyStreamListener, self).__init__()\n",
    "        self.num_tweets = 0\n",
    "        self.tweet_list = []\n",
    "        self.rt_status = 'RT @'\n",
    "        self.retweet_id = ''\n",
    "\n",
    "    def on_status(self, status):\n",
    "        if self.num_tweets < 1000:\n",
    "            if self.rt_status in status.text:# can also retweet using RT @ and doesn't show up as retweet\n",
    "                tweet_is_Retweet = True\n",
    "                self.retweet_id = status.text.split('RT')[1].split(':')[0]\n",
    "            else:\n",
    "                tweet_is_Retweet = False\n",
    "                self.retweet_id = ''\n",
    "                \n",
    "            if hasattr(status, 'retweeted_status'):\n",
    "                try:\n",
    "                    tweet = status.retweeted_status.extended_tweet[\"full_text\"]\n",
    "                               \n",
    "                except:\n",
    "                    tweet = status.retweeted_status.text\n",
    "                     \n",
    "            else:\n",
    "                try:\n",
    "                    tweet = status.extended_tweet[\"full_text\"]\n",
    "                     \n",
    "                except AttributeError:\n",
    "                    tweet = status.text\n",
    "                     \n",
    "    \n",
    "            #tweet = status.text\n",
    "            self.num_tweets  += 1\n",
    "            tweet_len = 0       \n",
    "            analysis = TextBlob(tweet)\n",
    "            subjectivity =  analysis.sentiment.subjectivity\n",
    "            polarity = analysis.sentiment.polarity \n",
    "            screen_name = status.user.screen_name   \n",
    "            retweet_at = self.retweet_id\n",
    "            retweet_count = status.retweet_count\n",
    "            tweet_len = len(tweet)\n",
    "            in_reply_to_screen_name = status.in_reply_to_screen_name\n",
    "            full_tweet_list = [screen_name, tweet, polarity,subjectivity,retweet_count,retweet_at,in_reply_to_screen_name,tweet_len,tweet_is_Retweet]\n",
    "            self.tweet_list.append(full_tweet_list)\n",
    "             \n",
    "        else:\n",
    "            #tweet_df = pd.DataFrame(columns=['screen_name', 'tweet', 'polarity','subjectivity','retweet_count','retweet_at',in_reply_to_screen_name','tweet_len','tweet_is_Retweet'])\n",
    "            tweet_df = pd.DataFrame(self.tweet_list,columns=['screen_name', 'tweet', 'polarity','subjectivity','retweet_count','retweet_at','in_reply_to_screen_name','tweet_len','tweet_is_Retweet'])\n",
    "            tweet_df.to_csv('Brexit_tweets.csv',index = False)\n",
    "            myStream.disconnect()\n",
    "            return\n",
    "            \n",
    "    def on_error(self, status_code):\n",
    "            print ('Encountered error with status code:', status_code)\n",
    "            return True # Don't kill the stream\n",
    "\n",
    "    def on_timeout(self):\n",
    "        tweet_df = pd.DataFrame(self.tweet_list,columns=['screen_name', 'tweet', 'polarity','subjectivity','retweet_count','retweet_at','in_reply_to_screen_name','tweet_len','tweet_is_Retweet'])\n",
    "        tweet_df.to_csv('Brexit_tweets.csv',index = False)\n",
    "        print('Timeout...')\n",
    "        return True # Don't kill the stream\n"
   ]
  },
  {
   "cell_type": "code",
   "execution_count": 5,
   "metadata": {},
   "outputs": [],
   "source": [
    "myStreamListener = MyStreamListener()\n",
    "myStream = tweepy.Stream(auth = api.auth, listener=myStreamListener)"
   ]
  },
  {
   "cell_type": "code",
   "execution_count": 6,
   "metadata": {},
   "outputs": [],
   "source": [
    "myStream.filter(track=['#Brexit'], is_async=True,languages=[\"en\"])"
   ]
  }
 ],
 "metadata": {
  "kernelspec": {
   "display_name": "Python 3",
   "language": "python",
   "name": "python3"
  },
  "language_info": {
   "codemirror_mode": {
    "name": "ipython",
    "version": 3
   },
   "file_extension": ".py",
   "mimetype": "text/x-python",
   "name": "python",
   "nbconvert_exporter": "python",
   "pygments_lexer": "ipython3",
   "version": "3.7.3"
  }
 },
 "nbformat": 4,
 "nbformat_minor": 2
}
