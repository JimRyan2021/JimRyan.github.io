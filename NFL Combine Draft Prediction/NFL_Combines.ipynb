{
 "cells": [
  {
   "cell_type": "markdown",
   "id": "94633c36",
   "metadata": {},
   "source": [
    "***Import Needed Libraries***"
   ]
  },
  {
   "cell_type": "code",
   "execution_count": 1,
   "id": "4248251e",
   "metadata": {},
   "outputs": [],
   "source": [
    "#Import libraries etc\n",
    "\n",
    "import pandas as pd\n",
    "import re\n",
    "from pandas.api.types import is_string_dtype\n",
    "from pandas.api.types import is_numeric_dtype\n",
    "import numpy as np\n",
    "from sklearn.linear_model import LogisticRegression\n",
    "from sklearn.preprocessing import StandardScaler\n",
    "from sklearn.preprocessing import OrdinalEncoder\n",
    "from sklearn.metrics import mean_squared_error, r2_score\n",
    "from sklearn.model_selection import cross_val_score\n",
    "from sklearn.model_selection import KFold\n",
    "from sklearn.model_selection import GridSearchCV\n",
    "from sklearn.pipeline import make_pipeline\n",
    "import statsmodels.api as sm\n",
    "import warnings # supress warnings\n",
    "warnings.filterwarnings('ignore')"
   ]
  },
  {
   "cell_type": "markdown",
   "id": "2890272e",
   "metadata": {},
   "source": [
    "***#Function to read in passed URL, read url into dataframe, fill in missing year with year return dataframe***"
   ]
  },
  {
   "cell_type": "code",
   "execution_count": 2,
   "id": "a56d43fa",
   "metadata": {},
   "outputs": [
    {
     "data": {
      "text/html": [
       "<div>\n",
       "<style scoped>\n",
       "    .dataframe tbody tr th:only-of-type {\n",
       "        vertical-align: middle;\n",
       "    }\n",
       "\n",
       "    .dataframe tbody tr th {\n",
       "        vertical-align: top;\n",
       "    }\n",
       "\n",
       "    .dataframe thead th {\n",
       "        text-align: right;\n",
       "    }\n",
       "</style>\n",
       "<table border=\"1\" class=\"dataframe\">\n",
       "  <thead>\n",
       "    <tr style=\"text-align: right;\">\n",
       "      <th></th>\n",
       "      <th>Player</th>\n",
       "      <th>Pos</th>\n",
       "      <th>School</th>\n",
       "      <th>College</th>\n",
       "      <th>Ht</th>\n",
       "      <th>Wt</th>\n",
       "      <th>40yd</th>\n",
       "      <th>Vertical</th>\n",
       "      <th>Bench</th>\n",
       "      <th>Broad Jump</th>\n",
       "      <th>3Cone</th>\n",
       "      <th>Shuttle</th>\n",
       "      <th>Drafted (tm/rnd/yr)</th>\n",
       "    </tr>\n",
       "  </thead>\n",
       "  <tbody>\n",
       "    <tr>\n",
       "      <th>0</th>\n",
       "      <td>Cal Adomitis</td>\n",
       "      <td>LS</td>\n",
       "      <td>Pittsburgh</td>\n",
       "      <td>College Stats</td>\n",
       "      <td>6-2</td>\n",
       "      <td>235</td>\n",
       "      <td>4.97</td>\n",
       "      <td>29.5</td>\n",
       "      <td>18</td>\n",
       "      <td>107</td>\n",
       "      <td>7.53</td>\n",
       "      <td>4.62</td>\n",
       "      <td>2022</td>\n",
       "    </tr>\n",
       "    <tr>\n",
       "      <th>1</th>\n",
       "      <td>Austin Allen</td>\n",
       "      <td>TE</td>\n",
       "      <td>Nebraska</td>\n",
       "      <td>College Stats</td>\n",
       "      <td>6-8</td>\n",
       "      <td>253</td>\n",
       "      <td>4.83</td>\n",
       "      <td>34.0</td>\n",
       "      <td>0</td>\n",
       "      <td>121</td>\n",
       "      <td>7.00</td>\n",
       "      <td>4.26</td>\n",
       "      <td>2022</td>\n",
       "    </tr>\n",
       "    <tr>\n",
       "      <th>2</th>\n",
       "      <td>Chase Allen</td>\n",
       "      <td>TE</td>\n",
       "      <td>Iowa St.</td>\n",
       "      <td>College Stats</td>\n",
       "      <td>6-6</td>\n",
       "      <td>251</td>\n",
       "      <td>0</td>\n",
       "      <td>33.5</td>\n",
       "      <td>0</td>\n",
       "      <td>117</td>\n",
       "      <td>7.03</td>\n",
       "      <td>4.43</td>\n",
       "      <td>2022</td>\n",
       "    </tr>\n",
       "    <tr>\n",
       "      <th>3</th>\n",
       "      <td>Christopher Allen</td>\n",
       "      <td>EDGE</td>\n",
       "      <td>Alabama</td>\n",
       "      <td>College Stats</td>\n",
       "      <td>6-4</td>\n",
       "      <td>241</td>\n",
       "      <td>0</td>\n",
       "      <td>0</td>\n",
       "      <td>0</td>\n",
       "      <td>0</td>\n",
       "      <td>0</td>\n",
       "      <td>0</td>\n",
       "      <td>2022</td>\n",
       "    </tr>\n",
       "    <tr>\n",
       "      <th>4</th>\n",
       "      <td>Tyler Allgeier</td>\n",
       "      <td>RB</td>\n",
       "      <td>BYU</td>\n",
       "      <td>College Stats</td>\n",
       "      <td>5-11</td>\n",
       "      <td>224</td>\n",
       "      <td>4.60</td>\n",
       "      <td>33.0</td>\n",
       "      <td>0</td>\n",
       "      <td>120</td>\n",
       "      <td>0</td>\n",
       "      <td>0</td>\n",
       "      <td>Atlanta Falcons / 5th / 151st pick / 2022</td>\n",
       "    </tr>\n",
       "  </tbody>\n",
       "</table>\n",
       "</div>"
      ],
      "text/plain": [
       "              Player   Pos      School        College    Ht   Wt  40yd  \\\n",
       "0       Cal Adomitis    LS  Pittsburgh  College Stats   6-2  235  4.97   \n",
       "1       Austin Allen    TE    Nebraska  College Stats   6-8  253  4.83   \n",
       "2        Chase Allen    TE    Iowa St.  College Stats   6-6  251     0   \n",
       "3  Christopher Allen  EDGE     Alabama  College Stats   6-4  241     0   \n",
       "4     Tyler Allgeier    RB         BYU  College Stats  5-11  224  4.60   \n",
       "\n",
       "  Vertical Bench Broad Jump 3Cone Shuttle  \\\n",
       "0     29.5    18        107  7.53    4.62   \n",
       "1     34.0     0        121  7.00    4.26   \n",
       "2     33.5     0        117  7.03    4.43   \n",
       "3        0     0          0     0       0   \n",
       "4     33.0     0        120     0       0   \n",
       "\n",
       "                         Drafted (tm/rnd/yr)  \n",
       "0                                       2022  \n",
       "1                                       2022  \n",
       "2                                       2022  \n",
       "3                                       2022  \n",
       "4  Atlanta Falcons / 5th / 151st pick / 2022  "
      ]
     },
     "execution_count": 2,
     "metadata": {},
     "output_type": "execute_result"
    }
   ],
   "source": [
    "def comb_df(url_nm,yr):\n",
    "    result = pd.DataFrame()\n",
    "    result = pd.read_html(url)[0]    \n",
    "    result['Drafted (tm/rnd/yr)'] = result['Drafted (tm/rnd/yr)'].fillna(yr) \n",
    "    result.update(result[['40yd','Vertical','Bench','Broad Jump','3Cone','Shuttle']].fillna(0))\n",
    "    return result\n",
    "\n",
    "url = 'https://www.pro-football-reference.com/draft/2022-combine.htm'\n",
    "df_2022 = comb_df(url,2022)\n",
    "df_2022.head()"
   ]
  },
  {
   "cell_type": "markdown",
   "id": "44792677",
   "metadata": {},
   "source": [
    "**Create Dataframe to hold all rows from all years**"
   ]
  },
  {
   "cell_type": "code",
   "execution_count": 3,
   "id": "beb4dff1",
   "metadata": {},
   "outputs": [],
   "source": [
    "df_combine = pd.DataFrame() \n",
    "df_combine = df_combine.append(df_2022)\n",
    "df_combine = df_combine[df_combine['Pos'] != 'Pos']"
   ]
  },
  {
   "cell_type": "markdown",
   "id": "cfc74620",
   "metadata": {},
   "source": [
    "**Import 2021 combine results.** \n",
    "***Note: 2021 Combine was cancelled due to pandemic. Results of players pro days was used***"
   ]
  },
  {
   "cell_type": "code",
   "execution_count": 4,
   "id": "9ed924aa",
   "metadata": {},
   "outputs": [],
   "source": [
    "# 2020 NFL Combine Results\n",
    "url = 'https://www.pro-football-reference.com/draft/2019-combine.htm'\n",
    "df_2021 = comb_df(url,2021)\n",
    "df_2021 = df_2021[df_2021['Pos'] != 'Pos']\n",
    "df_combine = df_combine.append(df_2021)"
   ]
  },
  {
   "cell_type": "markdown",
   "id": "73eec375",
   "metadata": {},
   "source": [
    "**Import 2020 combine results.**"
   ]
  },
  {
   "cell_type": "code",
   "execution_count": 5,
   "id": "bfc58b30",
   "metadata": {},
   "outputs": [],
   "source": [
    "# 2020 NFL Combine Results\n",
    "url = 'https://www.pro-football-reference.com/draft/2019-combine.htm'\n",
    "df_2020 = comb_df(url,2020)\n",
    "df_2020 = df_2020[df_2020['Pos'] != 'Pos']\n",
    "df_combine = df_combine.append(df_2020)"
   ]
  },
  {
   "cell_type": "markdown",
   "id": "663efd2e",
   "metadata": {},
   "source": [
    "***Import 2019 combine results***"
   ]
  },
  {
   "cell_type": "code",
   "execution_count": 6,
   "id": "1aea7c53",
   "metadata": {},
   "outputs": [],
   "source": [
    "# 2019 NFL Combine Results\n",
    "url = 'https://www.pro-football-reference.com/draft/2019-combine.htm'\n",
    "df_2019 = comb_df(url,2019)\n",
    "df_2019 = df_2019[df_2019['Pos'] != 'Pos']\n",
    "df_combine = df_combine.append(df_2019)"
   ]
  },
  {
   "cell_type": "markdown",
   "id": "a9e4268b",
   "metadata": {},
   "source": [
    "***Import 2018 combine results and append to combine dataframe***"
   ]
  },
  {
   "cell_type": "code",
   "execution_count": 7,
   "id": "b33e199e",
   "metadata": {},
   "outputs": [],
   "source": [
    "# 2018 NFL Combine Results\n",
    "url = 'https://www.pro-football-reference.com/draft/2018-combine.htm'\n",
    "df_2018 = comb_df(url,2018)\n",
    "df_2018 = df_2018[df_2018['Pos'] != 'Pos']\n",
    "df_combine = df_combine.append(df_2018)\n"
   ]
  },
  {
   "cell_type": "markdown",
   "id": "d94932e3",
   "metadata": {},
   "source": [
    "***Import 2017 combine results and append to combine dataframe***"
   ]
  },
  {
   "cell_type": "code",
   "execution_count": 8,
   "id": "8e539a85",
   "metadata": {},
   "outputs": [],
   "source": [
    "# 2017 NFL Combine Results\n",
    "url = 'https://www.pro-football-reference.com/draft/2017-combine.htm'\n",
    "df_2017 = comb_df(url,2017)\n",
    "df_2017 = df_2017[df_2017['Pos'] != 'Pos']\n",
    "df_combine = df_combine.append(df_2017)"
   ]
  },
  {
   "cell_type": "markdown",
   "id": "d1e48fc4",
   "metadata": {},
   "source": [
    "***Import 2016 combine results and append to combine dataframe***"
   ]
  },
  {
   "cell_type": "code",
   "execution_count": 9,
   "id": "b5cedefc",
   "metadata": {},
   "outputs": [],
   "source": [
    "# 2016 NFL Combine Results\n",
    "url = 'https://www.pro-football-reference.com/draft/2016-combine.htm'\n",
    "df_2016 = comb_df(url,2016)\n",
    "df_2016 = df_2016[df_2016['Pos'] != 'Pos']\n",
    "df_combine = df_combine.append(df_2016)"
   ]
  },
  {
   "cell_type": "markdown",
   "id": "ec9016da",
   "metadata": {},
   "source": [
    "**Import 2015 combine results and append to combine dataframe**"
   ]
  },
  {
   "cell_type": "code",
   "execution_count": 10,
   "id": "8e635b89",
   "metadata": {},
   "outputs": [],
   "source": [
    "# 2015 NFL Combine Results\n",
    "url = 'https://www.pro-football-reference.com/draft/2015-combine.htm'\n",
    "df_2015 = comb_df(url,2015)\n",
    "df_2015 = df_2015[df_2015['Pos'] != 'Pos']\n",
    "df_combine = df_combine.append(df_2015)"
   ]
  },
  {
   "cell_type": "markdown",
   "id": "965726d3",
   "metadata": {},
   "source": [
    "**Encode school name as a number using Ordinal encoder function**"
   ]
  },
  {
   "cell_type": "code",
   "execution_count": 11,
   "id": "d674d2eb",
   "metadata": {},
   "outputs": [],
   "source": [
    "enc = OrdinalEncoder()\n",
    "enc.fit(df_combine[['School']])\n",
    "df_combine[['School']] = enc.transform(df_combine[['School']])"
   ]
  },
  {
   "cell_type": "markdown",
   "id": "5f446446",
   "metadata": {},
   "source": [
    "**Split column 'Drafted (tm/rnd/yr)' into 4 columns - Team, Round, Pick and Year**"
   ]
  },
  {
   "cell_type": "code",
   "execution_count": 12,
   "id": "f64bdcd4",
   "metadata": {},
   "outputs": [],
   "source": [
    "df_combine[['Team', 'Round','Pick', 'Year']] = df_combine['Drafted (tm/rnd/yr)'].str.split('/', expand=True)\n",
    "df_combine = df_combine.drop(columns=['Drafted (tm/rnd/yr)'],)"
   ]
  },
  {
   "cell_type": "markdown",
   "id": "0e042328",
   "metadata": {},
   "source": [
    "**Drop suffix on round number leaving just round player drafted in.  0 = not drafted.**"
   ]
  },
  {
   "cell_type": "code",
   "execution_count": 13,
   "id": "95cd79ac",
   "metadata": {},
   "outputs": [],
   "source": [
    "\n",
    "char_to_replace = {'nd ' : '', 'st ':'','rd ':'','th ':'', 'pick ':''}\n",
    "for key, value in char_to_replace.items():\n",
    "    df_combine['Pick'] = df_combine['Pick'].str.replace(key,value)  \n",
    "for key, value in char_to_replace.items():\n",
    "    df_combine['Round'] = df_combine['Round'].str.replace(key,value)\n",
    "df_combine.update(df_combine[['Team']].fillna('None'))   \n",
    "df_combine.update(df_combine[['Round','Pick','Year']].fillna(0))"
   ]
  },
  {
   "cell_type": "markdown",
   "id": "2e7294fa",
   "metadata": {},
   "source": [
    "**Remove any title rows interspersed in dataframe**"
   ]
  },
  {
   "cell_type": "code",
   "execution_count": 14,
   "id": "1550d5cc",
   "metadata": {},
   "outputs": [],
   "source": [
    "df_combine = df_combine[df_combine['Pos'] != 'Pos']"
   ]
  },
  {
   "cell_type": "markdown",
   "id": "58d63f2b",
   "metadata": {},
   "source": [
    "**Convert positions from character to numeric**"
   ]
  },
  {
   "cell_type": "code",
   "execution_count": 15,
   "id": "ad6d4643",
   "metadata": {},
   "outputs": [],
   "source": [
    "conditions = [\n",
    "    (df_combine['Pos'] == 'S'),\n",
    "    (df_combine['Pos'] == 'OT'),\n",
    "    (df_combine['Pos'] == 'LB'),\n",
    "    (df_combine['Pos'] == 'EDGE'),\n",
    "    (df_combine['Pos'] == 'DL'),\n",
    "    (df_combine['Pos'] == 'RB'),\n",
    "    (df_combine['Pos'] == 'WR'),\n",
    "    (df_combine['Pos'] == 'CB'),\n",
    "    (df_combine['Pos'] == 'P'),\n",
    "    (df_combine['Pos'] == 'OL'),\n",
    "    (df_combine['Pos'] == 'TE'),\n",
    "    (df_combine['Pos'] == 'QB'),\n",
    "    (df_combine['Pos'] == 'K'),\n",
    "    (df_combine['Pos'] == 'LS'),\n",
    "    (df_combine['Pos'] == 'FB'),\n",
    "    (df_combine['Pos'] == 'C'),\n",
    "    (df_combine['Pos'] == 'DE'),\n",
    "    (df_combine['Pos'] == 'DT'),\n",
    "    (df_combine['Pos'] == 'ILB'),\n",
    "    (df_combine['Pos'] == 'OLB'),\n",
    "    (df_combine['Pos'] == 'OG'),\n",
    "    (df_combine['Pos'] == 'DB')\n",
    "]\n",
    "choices = [1,2,3,4,5,6,7,8,9,10,11,12,13,14,15,16,17,18,19,20,21,22]\n",
    "df_combine['Pos'] = np.select(conditions,choices, default=0)"
   ]
  },
  {
   "cell_type": "markdown",
   "id": "c7aba67e",
   "metadata": {},
   "source": [
    "**Split Height into 2 separate columns 1 for feet 1 for inches so 6-2 becomes 2 separate columns 6 2**"
   ]
  },
  {
   "cell_type": "code",
   "execution_count": 16,
   "id": "7895f8e8",
   "metadata": {},
   "outputs": [],
   "source": [
    "df_combine[['Feet', 'Inches']] = df_combine['Ht'].str.split('-', expand=True)\n",
    "df_combine[\"Feet\"] = pd.to_numeric(df_combine[\"Feet\"])\n",
    "df_combine[\"Inches\"] = pd.to_numeric(df_combine[\"Inches\"])"
   ]
  },
  {
   "cell_type": "markdown",
   "id": "8c55ffb3",
   "metadata": {},
   "source": [
    "**Multiply feet by 12 to convert feet to inches. Add feet converted to inches to inches to get height in inches**"
   ]
  },
  {
   "cell_type": "code",
   "execution_count": 17,
   "id": "0ddcb4e2",
   "metadata": {},
   "outputs": [],
   "source": [
    "df_combine[\"Feet\"] = df_combine[\"Feet\"] * 12\n",
    "df_combine['Ht'] = df_combine[\"Feet\"] + df_combine[\"Inches\"]\n",
    "df_combine = df_combine.drop(columns=['Feet','Inches'])"
   ]
  },
  {
   "cell_type": "markdown",
   "id": "3b45820e",
   "metadata": {},
   "source": [
    "**Convert all columns to numeric and fill in any missing values with 0**"
   ]
  },
  {
   "cell_type": "code",
   "execution_count": 18,
   "id": "d46805df",
   "metadata": {},
   "outputs": [],
   "source": [
    "df_combine[\"Pos\"] = pd.to_numeric(df_combine[\"Pos\"])\n",
    "df_combine[\"Wt\"] = pd.to_numeric(df_combine[\"Wt\"])\n",
    "df_combine[\"40yd\"] = pd.to_numeric(df_combine[\"40yd\"])\n",
    "df_combine[\"Vertical\"] = pd.to_numeric(df_combine[\"Vertical\"])\n",
    "df_combine[\"Bench\"] = pd.to_numeric(df_combine[\"Bench\"])\n",
    "df_combine[\"Broad Jump\"] = pd.to_numeric(df_combine[\"Broad Jump\"])\n",
    "df_combine[\"3Cone\"] = pd.to_numeric(df_combine[\"3Cone\"])\n",
    "df_combine[\"Shuttle\"] = pd.to_numeric(df_combine[\"Shuttle\"])\n",
    "df_combine[\"Round\"] = pd.to_numeric(df_combine[\"Round\"])\n",
    "df_combine[\"Pick\"] = pd.to_numeric(df_combine[\"Pick\"])\n",
    "df_combine[\"Year\"] = pd.to_numeric(df_combine[\"Year\"])\n",
    "df_combine = df_combine.fillna(0)"
   ]
  },
  {
   "cell_type": "markdown",
   "id": "31a1882b",
   "metadata": {},
   "source": [
    "**populate drafted column with 0 where Round = 0 otherwise populate it with 1 if it has a value greater than 0.**\n",
    "**drop columns"
   ]
  },
  {
   "cell_type": "code",
   "execution_count": 19,
   "id": "513ffdfa",
   "metadata": {},
   "outputs": [],
   "source": [
    "df_combine['Drafted'] = np.where(df_combine['Round']!= 0, 1, 0)\n",
    "df_combine1 = df_combine\n",
    "df_combine1 = df_combine1.drop(columns=['Player','College','Team','Round','Year','Pick'])"
   ]
  },
  {
   "cell_type": "markdown",
   "id": "be7415fd",
   "metadata": {},
   "source": [
    "**Describe dataframe of 2015 thru 2021 draft**"
   ]
  },
  {
   "cell_type": "code",
   "execution_count": 20,
   "id": "782da3eb",
   "metadata": {},
   "outputs": [
    {
     "data": {
      "text/html": [
       "<div>\n",
       "<style scoped>\n",
       "    .dataframe tbody tr th:only-of-type {\n",
       "        vertical-align: middle;\n",
       "    }\n",
       "\n",
       "    .dataframe tbody tr th {\n",
       "        vertical-align: top;\n",
       "    }\n",
       "\n",
       "    .dataframe thead th {\n",
       "        text-align: right;\n",
       "    }\n",
       "</style>\n",
       "<table border=\"1\" class=\"dataframe\">\n",
       "  <thead>\n",
       "    <tr style=\"text-align: right;\">\n",
       "      <th></th>\n",
       "      <th>Pos</th>\n",
       "      <th>School</th>\n",
       "      <th>Ht</th>\n",
       "      <th>Wt</th>\n",
       "      <th>40yd</th>\n",
       "      <th>Vertical</th>\n",
       "      <th>Bench</th>\n",
       "      <th>Broad Jump</th>\n",
       "      <th>3Cone</th>\n",
       "      <th>Shuttle</th>\n",
       "      <th>Drafted</th>\n",
       "    </tr>\n",
       "  </thead>\n",
       "  <tbody>\n",
       "    <tr>\n",
       "      <th>count</th>\n",
       "      <td>2649.000000</td>\n",
       "      <td>2649.000000</td>\n",
       "      <td>2649.000000</td>\n",
       "      <td>2649.000000</td>\n",
       "      <td>2649.000000</td>\n",
       "      <td>2649.000000</td>\n",
       "      <td>2649.000000</td>\n",
       "      <td>2649.000000</td>\n",
       "      <td>2649.000000</td>\n",
       "      <td>2649.000000</td>\n",
       "      <td>2649.000000</td>\n",
       "    </tr>\n",
       "    <tr>\n",
       "      <th>mean</th>\n",
       "      <td>8.661759</td>\n",
       "      <td>122.234051</td>\n",
       "      <td>74.011325</td>\n",
       "      <td>242.215176</td>\n",
       "      <td>3.967074</td>\n",
       "      <td>25.765383</td>\n",
       "      <td>13.357116</td>\n",
       "      <td>90.276708</td>\n",
       "      <td>4.153749</td>\n",
       "      <td>2.645878</td>\n",
       "      <td>0.654964</td>\n",
       "    </tr>\n",
       "    <tr>\n",
       "      <th>std</th>\n",
       "      <td>5.793166</td>\n",
       "      <td>71.201225</td>\n",
       "      <td>2.597761</td>\n",
       "      <td>44.764318</td>\n",
       "      <td>1.788668</td>\n",
       "      <td>14.103241</td>\n",
       "      <td>10.481356</td>\n",
       "      <td>49.342903</td>\n",
       "      <td>3.615704</td>\n",
       "      <td>2.170804</td>\n",
       "      <td>0.475470</td>\n",
       "    </tr>\n",
       "    <tr>\n",
       "      <th>min</th>\n",
       "      <td>1.000000</td>\n",
       "      <td>0.000000</td>\n",
       "      <td>66.000000</td>\n",
       "      <td>156.000000</td>\n",
       "      <td>0.000000</td>\n",
       "      <td>0.000000</td>\n",
       "      <td>0.000000</td>\n",
       "      <td>0.000000</td>\n",
       "      <td>0.000000</td>\n",
       "      <td>0.000000</td>\n",
       "      <td>0.000000</td>\n",
       "    </tr>\n",
       "    <tr>\n",
       "      <th>25%</th>\n",
       "      <td>4.000000</td>\n",
       "      <td>62.000000</td>\n",
       "      <td>72.000000</td>\n",
       "      <td>205.000000</td>\n",
       "      <td>4.440000</td>\n",
       "      <td>25.500000</td>\n",
       "      <td>0.000000</td>\n",
       "      <td>98.000000</td>\n",
       "      <td>0.000000</td>\n",
       "      <td>0.000000</td>\n",
       "      <td>0.000000</td>\n",
       "    </tr>\n",
       "    <tr>\n",
       "      <th>50%</th>\n",
       "      <td>7.000000</td>\n",
       "      <td>117.000000</td>\n",
       "      <td>74.000000</td>\n",
       "      <td>231.000000</td>\n",
       "      <td>4.600000</td>\n",
       "      <td>31.500000</td>\n",
       "      <td>16.000000</td>\n",
       "      <td>115.000000</td>\n",
       "      <td>6.870000</td>\n",
       "      <td>4.150000</td>\n",
       "      <td>1.000000</td>\n",
       "    </tr>\n",
       "    <tr>\n",
       "      <th>75%</th>\n",
       "      <td>12.000000</td>\n",
       "      <td>191.000000</td>\n",
       "      <td>76.000000</td>\n",
       "      <td>280.000000</td>\n",
       "      <td>4.890000</td>\n",
       "      <td>35.000000</td>\n",
       "      <td>22.000000</td>\n",
       "      <td>121.000000</td>\n",
       "      <td>7.240000</td>\n",
       "      <td>4.410000</td>\n",
       "      <td>1.000000</td>\n",
       "    </tr>\n",
       "    <tr>\n",
       "      <th>max</th>\n",
       "      <td>22.000000</td>\n",
       "      <td>240.000000</td>\n",
       "      <td>82.000000</td>\n",
       "      <td>384.000000</td>\n",
       "      <td>5.850000</td>\n",
       "      <td>45.000000</td>\n",
       "      <td>42.000000</td>\n",
       "      <td>147.000000</td>\n",
       "      <td>8.720000</td>\n",
       "      <td>5.380000</td>\n",
       "      <td>1.000000</td>\n",
       "    </tr>\n",
       "  </tbody>\n",
       "</table>\n",
       "</div>"
      ],
      "text/plain": [
       "               Pos       School           Ht           Wt         40yd  \\\n",
       "count  2649.000000  2649.000000  2649.000000  2649.000000  2649.000000   \n",
       "mean      8.661759   122.234051    74.011325   242.215176     3.967074   \n",
       "std       5.793166    71.201225     2.597761    44.764318     1.788668   \n",
       "min       1.000000     0.000000    66.000000   156.000000     0.000000   \n",
       "25%       4.000000    62.000000    72.000000   205.000000     4.440000   \n",
       "50%       7.000000   117.000000    74.000000   231.000000     4.600000   \n",
       "75%      12.000000   191.000000    76.000000   280.000000     4.890000   \n",
       "max      22.000000   240.000000    82.000000   384.000000     5.850000   \n",
       "\n",
       "          Vertical        Bench   Broad Jump        3Cone      Shuttle  \\\n",
       "count  2649.000000  2649.000000  2649.000000  2649.000000  2649.000000   \n",
       "mean     25.765383    13.357116    90.276708     4.153749     2.645878   \n",
       "std      14.103241    10.481356    49.342903     3.615704     2.170804   \n",
       "min       0.000000     0.000000     0.000000     0.000000     0.000000   \n",
       "25%      25.500000     0.000000    98.000000     0.000000     0.000000   \n",
       "50%      31.500000    16.000000   115.000000     6.870000     4.150000   \n",
       "75%      35.000000    22.000000   121.000000     7.240000     4.410000   \n",
       "max      45.000000    42.000000   147.000000     8.720000     5.380000   \n",
       "\n",
       "           Drafted  \n",
       "count  2649.000000  \n",
       "mean      0.654964  \n",
       "std       0.475470  \n",
       "min       0.000000  \n",
       "25%       0.000000  \n",
       "50%       1.000000  \n",
       "75%       1.000000  \n",
       "max       1.000000  "
      ]
     },
     "execution_count": 20,
     "metadata": {},
     "output_type": "execute_result"
    }
   ],
   "source": [
    "#describe dataframe of 2015 thru 2021 draft\n",
    "df_combine1.describe()"
   ]
  },
  {
   "cell_type": "markdown",
   "id": "8a0c0ede",
   "metadata": {},
   "source": [
    "**Create Correlation Matrix of fields** "
   ]
  },
  {
   "cell_type": "code",
   "execution_count": 21,
   "id": "ee1459bb",
   "metadata": {
    "scrolled": true
   },
   "outputs": [
    {
     "name": "stdout",
     "output_type": "stream",
     "text": [
      "                 Pos    School        Ht        Wt      40yd  Vertical  \\\n",
      "Vertical   -0.048125  0.027576 -0.087853 -0.142870  0.445453  1.000000   \n",
      "Broad Jump -0.044456  0.044915 -0.063005 -0.097968  0.452272  0.864853   \n",
      "School      0.013833  1.000000  0.029464  0.014640  0.058620  0.027576   \n",
      "Drafted     0.027125  0.004439  0.049638  0.088088  0.070211  0.104162   \n",
      "Bench       0.051863  0.052467  0.103652  0.346929  0.146233  0.139631   \n",
      "Shuttle     0.097662  0.058394  0.176978  0.212929  0.387124  0.523709   \n",
      "3Cone       0.098213  0.038713  0.166011  0.196460  0.370964  0.489905   \n",
      "40yd        0.133501  0.058620  0.060678  0.110646  1.000000  0.445453   \n",
      "Ht          0.165974  0.029464  1.000000  0.705394  0.060678 -0.087853   \n",
      "Wt          0.250303  0.014640  0.705394  1.000000  0.110646 -0.142870   \n",
      "Pos         1.000000  0.013833  0.165974  0.250303  0.133501 -0.048125   \n",
      "\n",
      "               Bench  Broad Jump     3Cone   Shuttle   Drafted  \n",
      "Vertical    0.139631    0.864853  0.489905  0.523709  0.104162  \n",
      "Broad Jump  0.154826    1.000000  0.513464  0.536452  0.083830  \n",
      "School      0.052467    0.044915  0.038713  0.058394  0.004439  \n",
      "Drafted     0.078233    0.083830  0.055536  0.057137  1.000000  \n",
      "Bench       1.000000    0.154826  0.241927  0.250195  0.078233  \n",
      "Shuttle     0.250195    0.536452  0.883033  1.000000  0.057137  \n",
      "3Cone       0.241927    0.513464  1.000000  0.883033  0.055536  \n",
      "40yd        0.146233    0.452272  0.370964  0.387124  0.070211  \n",
      "Ht          0.103652   -0.063005  0.166011  0.176978  0.049638  \n",
      "Wt          0.346929   -0.097968  0.196460  0.212929  0.088088  \n",
      "Pos         0.051863   -0.044456  0.098213  0.097662  0.027125  \n"
     ]
    }
   ],
   "source": [
    "corrM = df_combine1.corr()\n",
    "corrM = corrM.sort_values(by ='Pos',ascending=True)\n",
    "print(corrM)"
   ]
  },
  {
   "cell_type": "markdown",
   "id": "77cb97d3",
   "metadata": {},
   "source": [
    "**Create Correlation Heat Map**"
   ]
  },
  {
   "cell_type": "code",
   "execution_count": 22,
   "id": "e90d005f",
   "metadata": {},
   "outputs": [
    {
     "data": {
      "image/png": "[encoded data removed]",
      "text/plain": [
       "<Figure size 864x648 with 2 Axes>"
      ]
     },
     "metadata": {
      "needs_background": "light"
     },
     "output_type": "display_data"
    }
   ],
   "source": [
    "import seaborn as sns\n",
    "import matplotlib.pyplot as plt\n",
    "\n",
    "corrmat = df_combine1.corr()\n",
    "f, ax = plt.subplots(figsize=(12, 9))\n",
    "sns.heatmap(corrmat,vmax=.8,  square=True);"
   ]
  },
  {
   "cell_type": "markdown",
   "id": "205b17ad",
   "metadata": {},
   "source": [
    "**Calculate Covariance values**"
   ]
  },
  {
   "cell_type": "code",
   "execution_count": 23,
   "id": "afc8ea12",
   "metadata": {},
   "outputs": [
    {
     "name": "stdout",
     "output_type": "stream",
     "text": [
      "                  Pos       School         Ht           Wt       40yd  \\\n",
      "Broad Jump -12.707730   157.798127  -8.076020  -216.391890  39.916660   \n",
      "Wt          64.910422    46.662232  82.028151  2003.844165   8.859232   \n",
      "Vertical    -3.931917    27.690507  -3.218641   -90.196854  11.237002   \n",
      "Bench        3.149160    39.155434   2.822238   162.775847   2.741525   \n",
      "Drafted      0.074716     0.150273   0.061311     1.874876   0.059711   \n",
      "School       5.705706  5069.614384   5.449765    46.662232   7.465568   \n",
      "3Cone        2.057209     9.966377   1.559293    31.797970   2.399133   \n",
      "Pos         33.560777     5.705706   2.497790    64.910422   1.383342   \n",
      "Ht           2.497790     5.449765   6.748361    82.028151   0.281944   \n",
      "40yd         1.383342     7.465568   0.281944     8.859232   3.199333   \n",
      "Shuttle      1.228182     9.025569   0.998019    20.691325   1.503144   \n",
      "\n",
      "              Vertical       Bench   Broad Jump      3Cone    Shuttle  \\\n",
      "Broad Jump  601.846667   80.072974  2434.722120  91.606840  57.461387   \n",
      "Wt          -90.196854  162.775847  -216.391890  31.797970  20.691325   \n",
      "Vertical    198.901411   20.640464   601.846667  24.981777  16.033549   \n",
      "Bench        20.640464  109.858825    80.072974   9.168427   5.692677   \n",
      "Drafted       0.698474    0.389881     1.966734   0.095474   0.058974   \n",
      "School       27.690507   39.155434   157.798127   9.966377   9.025569   \n",
      "3Cone        24.981777    9.168427    91.606840  13.073318   6.930909   \n",
      "Pos          -3.931917    3.149160   -12.707730   2.057209   1.228182   \n",
      "Ht           -3.218641    2.822238    -8.076020   1.559293   0.998019   \n",
      "40yd         11.237002    2.741525    39.916660   2.399133   1.503144   \n",
      "Shuttle      16.033549    5.692677    57.461387   6.930909   4.712388   \n",
      "\n",
      "             Drafted  \n",
      "Broad Jump  1.966734  \n",
      "Wt          1.874876  \n",
      "Vertical    0.698474  \n",
      "Bench       0.389881  \n",
      "Drafted     0.226071  \n",
      "School      0.150273  \n",
      "3Cone       0.095474  \n",
      "Pos         0.074716  \n",
      "Ht          0.061311  \n",
      "40yd        0.059711  \n",
      "Shuttle     0.058974  \n"
     ]
    }
   ],
   "source": [
    "covar1 = df_combine1.cov()\n",
    "covar1 = covar1.sort_values(by ='Drafted',ascending=False)\n",
    "print(covar1)"
   ]
  },
  {
   "cell_type": "markdown",
   "id": "f3bdac7d",
   "metadata": {},
   "source": [
    "**Create Boxplots of variables with top covariances**"
   ]
  },
  {
   "cell_type": "code",
   "execution_count": 24,
   "id": "a5de4d11",
   "metadata": {},
   "outputs": [
    {
     "data": {
      "image/png": "[encoded data removed]",
      "text/plain": [
       "<Figure size 360x360 with 1 Axes>"
      ]
     },
     "metadata": {
      "needs_background": "light"
     },
     "output_type": "display_data"
    },
    {
     "data": {
      "image/png": "[encoded data removed]",
      "text/plain": [
       "<Figure size 360x360 with 1 Axes>"
      ]
     },
     "metadata": {
      "needs_background": "light"
     },
     "output_type": "display_data"
    },
    {
     "data": {
      "image/png": "[encoded data removed]",
      "text/plain": [
       "<Figure size 360x360 with 1 Axes>"
      ]
     },
     "metadata": {
      "needs_background": "light"
     },
     "output_type": "display_data"
    }
   ],
   "source": [
    "sns.catplot(x=\"Drafted\", y=\"Broad Jump\",  kind=\"box\",data=df_combine1)\n",
    "sns.catplot(x=\"Drafted\", y=\"Wt\",  kind=\"box\",data=df_combine1)\n",
    "sns.catplot(x=\"Drafted\", y=\"Vertical\",  kind=\"box\",data=df_combine1);"
   ]
  },
  {
   "cell_type": "markdown",
   "id": "b07b0a7e",
   "metadata": {},
   "source": [
    "**Create skewness and curtosis plots**"
   ]
  },
  {
   "cell_type": "code",
   "execution_count": 25,
   "id": "20dd125a",
   "metadata": {},
   "outputs": [
    {
     "name": "stdout",
     "output_type": "stream",
     "text": [
      "Skewness: -0.652328\n",
      "Kurtosis: -1.575658\n"
     ]
    },
    {
     "data": {
      "image/png": "[encoded data removed]",
      "text/plain": [
       "<Figure size 432x288 with 1 Axes>"
      ]
     },
     "metadata": {
      "needs_background": "light"
     },
     "output_type": "display_data"
    }
   ],
   "source": [
    "df_combine1.to_csv('drafted.csv')\n",
    "sns.distplot(df_combine1['Drafted']);\n",
    "print(\"Skewness: %f\" % df_combine1['Drafted'].skew())\n",
    "print(\"Kurtosis: %f\" % df_combine1['Drafted'].kurt());"
   ]
  },
  {
   "cell_type": "markdown",
   "id": "3d1eb47b",
   "metadata": {},
   "source": [
    "**Histogram of Drafted vs Undrafted**"
   ]
  },
  {
   "cell_type": "code",
   "execution_count": 26,
   "id": "138e44c8",
   "metadata": {},
   "outputs": [
    {
     "data": {
      "image/png": "[encoded data removed]",
      "text/plain": [
       "<Figure size 432x288 with 1 Axes>"
      ]
     },
     "metadata": {},
     "output_type": "display_data"
    }
   ],
   "source": [
    "sns.set_theme(style=\"whitegrid\")\n",
    "sns.histplot(df_combine1['Drafted']);"
   ]
  },
  {
   "cell_type": "markdown",
   "id": "27560ae3",
   "metadata": {},
   "source": [
    "**Create feature and targets**"
   ]
  },
  {
   "cell_type": "code",
   "execution_count": 27,
   "id": "c5cc52e7",
   "metadata": {},
   "outputs": [],
   "source": [
    "feature_cols  = ['Pos','School','Ht','Wt','40yd','Vertical','Bench','Broad Jump','3Cone','Shuttle']\n",
    "target = df_combine1['Drafted']\n",
    "X = df_combine1[feature_cols]\n",
    "y = target"
   ]
  },
  {
   "cell_type": "markdown",
   "id": "a5e124ef",
   "metadata": {},
   "source": [
    "**Split into training and test**"
   ]
  },
  {
   "cell_type": "code",
   "execution_count": 304,
   "id": "ca58516e",
   "metadata": {},
   "outputs": [],
   "source": [
    "from sklearn.model_selection import train_test_split\n",
    "X_train,X_test,y_train,y_test=train_test_split(X,y,test_size=0.25,random_state=0)"
   ]
  },
  {
   "cell_type": "markdown",
   "id": "0f0dc557",
   "metadata": {},
   "source": [
    "**scale train and test**"
   ]
  },
  {
   "cell_type": "code",
   "execution_count": 305,
   "id": "db745d45",
   "metadata": {},
   "outputs": [],
   "source": [
    "from sklearn.preprocessing import StandardScaler\n",
    "\n",
    "sc_x = StandardScaler()\n",
    "xtrain = sc_x.fit_transform(X_train)\n",
    "xtest = sc_x.transform(X_test) \n"
   ]
  },
  {
   "cell_type": "markdown",
   "id": "12adc6ae",
   "metadata": {},
   "source": [
    "**Perform Logistic Regression to predict whether player will be drafted or not**"
   ]
  },
  {
   "cell_type": "code",
   "execution_count": 306,
   "id": "1506123a",
   "metadata": {},
   "outputs": [],
   "source": [
    "from sklearn.linear_model import LogisticRegression\n",
    "\n",
    "logreg = LogisticRegression()\n",
    "logreg.fit(xtrain,y_train)\n",
    "y_pred=logreg.predict(xtest)"
   ]
  },
  {
   "cell_type": "markdown",
   "id": "5b6156fb",
   "metadata": {},
   "source": [
    "**Confusion Matrix Calculation**"
   ]
  },
  {
   "cell_type": "code",
   "execution_count": 307,
   "id": "e8c5d84a",
   "metadata": {},
   "outputs": [
    {
     "data": {
      "text/plain": [
       "array([[ 13, 229],\n",
       "       [ 22, 399]], dtype=int64)"
      ]
     },
     "execution_count": 307,
     "metadata": {},
     "output_type": "execute_result"
    }
   ],
   "source": [
    "from sklearn import metrics\n",
    "\n",
    "cnf_matrix = metrics.confusion_matrix(y_test, y_pred)\n",
    "cnf_matrix"
   ]
  },
  {
   "cell_type": "code",
   "execution_count": 308,
   "id": "5fff0e72",
   "metadata": {},
   "outputs": [
    {
     "data": {
      "text/html": [
       "<div>\n",
       "<style scoped>\n",
       "    .dataframe tbody tr th:only-of-type {\n",
       "        vertical-align: middle;\n",
       "    }\n",
       "\n",
       "    .dataframe tbody tr th {\n",
       "        vertical-align: top;\n",
       "    }\n",
       "\n",
       "    .dataframe thead th {\n",
       "        text-align: right;\n",
       "    }\n",
       "</style>\n",
       "<table border=\"1\" class=\"dataframe\">\n",
       "  <thead>\n",
       "    <tr style=\"text-align: right;\">\n",
       "      <th>Predicted</th>\n",
       "      <th>0</th>\n",
       "      <th>1</th>\n",
       "      <th>All</th>\n",
       "    </tr>\n",
       "    <tr>\n",
       "      <th>True</th>\n",
       "      <th></th>\n",
       "      <th></th>\n",
       "      <th></th>\n",
       "    </tr>\n",
       "  </thead>\n",
       "  <tbody>\n",
       "    <tr>\n",
       "      <th>0</th>\n",
       "      <td>13</td>\n",
       "      <td>229</td>\n",
       "      <td>242</td>\n",
       "    </tr>\n",
       "    <tr>\n",
       "      <th>1</th>\n",
       "      <td>22</td>\n",
       "      <td>399</td>\n",
       "      <td>421</td>\n",
       "    </tr>\n",
       "    <tr>\n",
       "      <th>All</th>\n",
       "      <td>35</td>\n",
       "      <td>628</td>\n",
       "      <td>663</td>\n",
       "    </tr>\n",
       "  </tbody>\n",
       "</table>\n",
       "</div>"
      ],
      "text/plain": [
       "Predicted   0    1  All\n",
       "True                   \n",
       "0          13  229  242\n",
       "1          22  399  421\n",
       "All        35  628  663"
      ]
     },
     "execution_count": 308,
     "metadata": {},
     "output_type": "execute_result"
    }
   ],
   "source": [
    "pd.crosstab(y_test, y_pred, rownames=['True'], colnames=['Predicted'], margins=True)"
   ]
  },
  {
   "cell_type": "markdown",
   "id": "0382ee3e",
   "metadata": {},
   "source": [
    "**Create confusion matrix for predicted**"
   ]
  },
  {
   "cell_type": "code",
   "execution_count": 309,
   "id": "922b9155",
   "metadata": {},
   "outputs": [],
   "source": [
    "%matplotlib inline"
   ]
  },
  {
   "cell_type": "code",
   "execution_count": 310,
   "id": "42f2bfe9",
   "metadata": {},
   "outputs": [
    {
     "data": {
      "text/plain": [
       "Text(0.5, 257.44, 'Predicted label')"
      ]
     },
     "execution_count": 310,
     "metadata": {},
     "output_type": "execute_result"
    },
    {
     "data": {
      "image/png": "[encoded data removed]",
      "text/plain": [
       "<Figure size 432x288 with 2 Axes>"
      ]
     },
     "metadata": {
      "needs_background": "light"
     },
     "output_type": "display_data"
    }
   ],
   "source": [
    "\n",
    "class_names=[0,1] # name  of classes\n",
    "fig, ax = plt.subplots()\n",
    "tick_marks = np.arange(len(class_names))\n",
    "plt.xticks(tick_marks, class_names)\n",
    "plt.yticks(tick_marks, class_names)\n",
    "# create heatmap\n",
    "sns.heatmap(pd.DataFrame(cnf_matrix), annot=True, cmap=\"YlGnBu\" ,fmt='g')\n",
    "ax.xaxis.set_label_position(\"top\")\n",
    "plt.tight_layout()\n",
    "plt.title('Confusion matrix', y=1.1)\n",
    "plt.ylabel('Actual label')\n",
    "plt.xlabel('Predicted label')"
   ]
  },
  {
   "cell_type": "markdown",
   "id": "fbc936d9",
   "metadata": {},
   "source": [
    "**Print Accuracy, Precision and Recall**"
   ]
  },
  {
   "cell_type": "code",
   "execution_count": 311,
   "id": "19964f2d",
   "metadata": {},
   "outputs": [
    {
     "name": "stdout",
     "output_type": "stream",
     "text": [
      "              precision    recall  f1-score   support\n",
      "\n",
      "           0       0.37      0.05      0.09       242\n",
      "           1       0.64      0.95      0.76       421\n",
      "\n",
      "    accuracy                           0.62       663\n",
      "   macro avg       0.50      0.50      0.43       663\n",
      "weighted avg       0.54      0.62      0.52       663\n",
      "\n"
     ]
    }
   ],
   "source": [
    "# metrics.precision_score(y_test, y_pred)\n",
    "print(metrics.classification_report(y_test, y_pred))\n"
   ]
  },
  {
   "cell_type": "markdown",
   "id": "c8a00d25",
   "metadata": {},
   "source": [
    "**Calculate and plot AUC**"
   ]
  },
  {
   "cell_type": "code",
   "execution_count": 312,
   "id": "e9cfe9e1",
   "metadata": {},
   "outputs": [
    {
     "data": {
      "image/png": "[encoded data removed]",
      "text/plain": [
       "<Figure size 432x288 with 1 Axes>"
      ]
     },
     "metadata": {
      "needs_background": "light"
     },
     "output_type": "display_data"
    }
   ],
   "source": [
    "#plot AUC\n",
    "y_pred_proba = logreg.predict_proba(X_test)[::,1]\n",
    "fpr, tpr, _ = metrics.roc_curve(y_test,  y_pred_proba)\n",
    "auc = metrics.roc_auc_score(y_test, y_pred_proba)\n",
    "plt.plot(fpr,tpr,label=\"data 1, auc=\"+str(auc))\n",
    "plt.legend(loc=4)\n",
    "plt.show()"
   ]
  },
  {
   "cell_type": "markdown",
   "id": "a14a91a3",
   "metadata": {},
   "source": [
    "**Use Neural Net to calculate whether player is drafted or not**"
   ]
  },
  {
   "cell_type": "code",
   "execution_count": 313,
   "id": "7c85230d",
   "metadata": {},
   "outputs": [
    {
     "name": "stdout",
     "output_type": "stream",
     "text": [
      "Epoch 1/150\n",
      "199/199 [==============================] - 1s 1ms/step - loss: 0.6885 - accuracy: 0.5770\n",
      "Epoch 2/150\n",
      "199/199 [==============================] - 0s 1ms/step - loss: 0.6571 - accuracy: 0.6596\n",
      "Epoch 3/150\n",
      "199/199 [==============================] - 0s 1ms/step - loss: 0.6407 - accuracy: 0.6591\n",
      "Epoch 4/150\n",
      "199/199 [==============================] - 0s 1ms/step - loss: 0.6358 - accuracy: 0.6591\n",
      "Epoch 5/150\n",
      "199/199 [==============================] - 0s 1ms/step - loss: 0.6335 - accuracy: 0.6586\n",
      "Epoch 6/150\n",
      "199/199 [==============================] - 0s 1ms/step - loss: 0.6329 - accuracy: 0.6581\n",
      "Epoch 7/150\n",
      "199/199 [==============================] - 0s 1ms/step - loss: 0.6310 - accuracy: 0.6576\n",
      "Epoch 8/150\n",
      "199/199 [==============================] - 0s 1ms/step - loss: 0.6294 - accuracy: 0.6596\n",
      "Epoch 9/150\n",
      "199/199 [==============================] - 0s 969us/step - loss: 0.6284 - accuracy: 0.6586\n",
      "Epoch 10/150\n",
      "199/199 [==============================] - 0s 1ms/step - loss: 0.6268 - accuracy: 0.6591\n",
      "Epoch 11/150\n",
      "199/199 [==============================] - 0s 1ms/step - loss: 0.6258 - accuracy: 0.6596\n",
      "Epoch 12/150\n",
      "199/199 [==============================] - 0s 971us/step - loss: 0.6247 - accuracy: 0.6586\n",
      "Epoch 13/150\n",
      "199/199 [==============================] - 0s 919us/step - loss: 0.6233 - accuracy: 0.6566\n",
      "Epoch 14/150\n",
      "199/199 [==============================] - 0s 964us/step - loss: 0.6222 - accuracy: 0.6566\n",
      "Epoch 15/150\n",
      "199/199 [==============================] - 0s 1ms/step - loss: 0.6206 - accuracy: 0.6611\n",
      "Epoch 16/150\n",
      "199/199 [==============================] - 0s 926us/step - loss: 0.6200 - accuracy: 0.6596\n",
      "Epoch 17/150\n",
      "199/199 [==============================] - 0s 1ms/step - loss: 0.6181 - accuracy: 0.6591\n",
      "Epoch 18/150\n",
      "199/199 [==============================] - 0s 976us/step - loss: 0.6169 - accuracy: 0.6621\n",
      "Epoch 19/150\n",
      "199/199 [==============================] - 0s 1ms/step - loss: 0.6155 - accuracy: 0.6687\n",
      "Epoch 20/150\n",
      "199/199 [==============================] - 0s 1ms/step - loss: 0.6142 - accuracy: 0.6657\n",
      "Epoch 21/150\n",
      "199/199 [==============================] - 0s 1ms/step - loss: 0.6126 - accuracy: 0.6687\n",
      "Epoch 22/150\n",
      "199/199 [==============================] - 0s 1ms/step - loss: 0.6109 - accuracy: 0.6667\n",
      "Epoch 23/150\n",
      "199/199 [==============================] - 0s 1ms/step - loss: 0.6087 - accuracy: 0.6712\n",
      "Epoch 24/150\n",
      "199/199 [==============================] - 0s 1ms/step - loss: 0.6066 - accuracy: 0.6667\n",
      "Epoch 25/150\n",
      "199/199 [==============================] - 0s 1ms/step - loss: 0.6051 - accuracy: 0.6722\n",
      "Epoch 26/150\n",
      "199/199 [==============================] - 0s 970us/step - loss: 0.6039 - accuracy: 0.6707\n",
      "Epoch 27/150\n",
      "199/199 [==============================] - 0s 1ms/step - loss: 0.6030 - accuracy: 0.6727\n",
      "Epoch 28/150\n",
      "199/199 [==============================] - 0s 1ms/step - loss: 0.6017 - accuracy: 0.6737\n",
      "Epoch 29/150\n",
      "199/199 [==============================] - 0s 914us/step - loss: 0.6007 - accuracy: 0.6682\n",
      "Epoch 30/150\n",
      "199/199 [==============================] - 0s 926us/step - loss: 0.5998 - accuracy: 0.6702\n",
      "Epoch 31/150\n",
      "199/199 [==============================] - 0s 996us/step - loss: 0.5988 - accuracy: 0.6702\n",
      "Epoch 32/150\n",
      "199/199 [==============================] - 0s 1ms/step - loss: 0.5985 - accuracy: 0.6727\n",
      "Epoch 33/150\n",
      "199/199 [==============================] - 0s 1ms/step - loss: 0.5980 - accuracy: 0.6697\n",
      "Epoch 34/150\n",
      "199/199 [==============================] - 0s 1ms/step - loss: 0.5965 - accuracy: 0.6702\n",
      "Epoch 35/150\n",
      "199/199 [==============================] - 0s 1ms/step - loss: 0.5964 - accuracy: 0.6722\n",
      "Epoch 36/150\n",
      "199/199 [==============================] - 0s 1ms/step - loss: 0.5949 - accuracy: 0.6712\n",
      "Epoch 37/150\n",
      "199/199 [==============================] - 0s 1ms/step - loss: 0.5935 - accuracy: 0.6767\n",
      "Epoch 38/150\n",
      "199/199 [==============================] - 0s 1ms/step - loss: 0.5932 - accuracy: 0.6737\n",
      "Epoch 39/150\n",
      "199/199 [==============================] - 0s 1ms/step - loss: 0.5928 - accuracy: 0.6742\n",
      "Epoch 40/150\n",
      "199/199 [==============================] - 0s 1ms/step - loss: 0.5915 - accuracy: 0.6717\n",
      "Epoch 41/150\n",
      "199/199 [==============================] - 0s 967us/step - loss: 0.5920 - accuracy: 0.6727\n",
      "Epoch 42/150\n",
      "199/199 [==============================] - 0s 1ms/step - loss: 0.5898 - accuracy: 0.6747\n",
      "Epoch 43/150\n",
      "199/199 [==============================] - 0s 1ms/step - loss: 0.5895 - accuracy: 0.6717\n",
      "Epoch 44/150\n",
      "199/199 [==============================] - 0s 1ms/step - loss: 0.5895 - accuracy: 0.6747\n",
      "Epoch 45/150\n",
      "199/199 [==============================] - 0s 1ms/step - loss: 0.5878 - accuracy: 0.6747\n",
      "Epoch 46/150\n",
      "199/199 [==============================] - 0s 1ms/step - loss: 0.5869 - accuracy: 0.6793\n",
      "Epoch 47/150\n",
      "199/199 [==============================] - 0s 969us/step - loss: 0.5867 - accuracy: 0.6782\n",
      "Epoch 48/150\n",
      "199/199 [==============================] - 0s 962us/step - loss: 0.5856 - accuracy: 0.6788\n",
      "Epoch 49/150\n",
      "199/199 [==============================] - 0s 975us/step - loss: 0.5858 - accuracy: 0.6737\n",
      "Epoch 50/150\n",
      "199/199 [==============================] - 0s 1ms/step - loss: 0.5845 - accuracy: 0.6803\n",
      "Epoch 51/150\n",
      "199/199 [==============================] - 0s 1ms/step - loss: 0.5830 - accuracy: 0.6808\n",
      "Epoch 52/150\n",
      "199/199 [==============================] - 0s 946us/step - loss: 0.5836 - accuracy: 0.6813\n",
      "Epoch 53/150\n",
      "199/199 [==============================] - 0s 979us/step - loss: 0.5826 - accuracy: 0.6803\n",
      "Epoch 54/150\n",
      "199/199 [==============================] - 0s 939us/step - loss: 0.5819 - accuracy: 0.6833\n",
      "Epoch 55/150\n",
      "199/199 [==============================] - 0s 1ms/step - loss: 0.5821 - accuracy: 0.6772\n",
      "Epoch 56/150\n",
      "199/199 [==============================] - 0s 1ms/step - loss: 0.5815 - accuracy: 0.6838\n",
      "Epoch 57/150\n",
      "199/199 [==============================] - 0s 1ms/step - loss: 0.5801 - accuracy: 0.6843\n",
      "Epoch 58/150\n",
      "199/199 [==============================] - 0s 1ms/step - loss: 0.5793 - accuracy: 0.6808\n",
      "Epoch 59/150\n",
      "199/199 [==============================] - 0s 1ms/step - loss: 0.5798 - accuracy: 0.6808\n",
      "Epoch 60/150\n",
      "199/199 [==============================] - 0s 1ms/step - loss: 0.5787 - accuracy: 0.6788\n",
      "Epoch 61/150\n",
      "199/199 [==============================] - 0s 931us/step - loss: 0.5795 - accuracy: 0.6823\n",
      "Epoch 62/150\n",
      "199/199 [==============================] - 0s 983us/step - loss: 0.5786 - accuracy: 0.6828\n",
      "Epoch 63/150\n",
      "199/199 [==============================] - 0s 1ms/step - loss: 0.5782 - accuracy: 0.6823\n",
      "Epoch 64/150\n",
      "199/199 [==============================] - 0s 1ms/step - loss: 0.5778 - accuracy: 0.6828\n",
      "Epoch 65/150\n",
      "199/199 [==============================] - 0s 967us/step - loss: 0.5771 - accuracy: 0.6863\n",
      "Epoch 66/150\n",
      "199/199 [==============================] - 0s 1ms/step - loss: 0.5770 - accuracy: 0.6903\n",
      "Epoch 67/150\n",
      "199/199 [==============================] - 0s 968us/step - loss: 0.5759 - accuracy: 0.6923\n",
      "Epoch 68/150\n",
      "199/199 [==============================] - 0s 1ms/step - loss: 0.5765 - accuracy: 0.6949\n",
      "Epoch 69/150\n",
      "199/199 [==============================] - 0s 891us/step - loss: 0.5742 - accuracy: 0.6939\n",
      "Epoch 70/150\n",
      "199/199 [==============================] - 0s 1ms/step - loss: 0.5755 - accuracy: 0.6969\n",
      "Epoch 71/150\n",
      "199/199 [==============================] - 0s 1ms/step - loss: 0.5744 - accuracy: 0.6934\n",
      "Epoch 72/150\n",
      "199/199 [==============================] - 0s 1ms/step - loss: 0.5746 - accuracy: 0.6974\n",
      "Epoch 73/150\n",
      "199/199 [==============================] - 0s 1ms/step - loss: 0.5739 - accuracy: 0.6928\n",
      "Epoch 74/150\n",
      "199/199 [==============================] - 0s 1ms/step - loss: 0.5747 - accuracy: 0.6928\n",
      "Epoch 75/150\n",
      "199/199 [==============================] - 0s 1ms/step - loss: 0.5725 - accuracy: 0.6939\n",
      "Epoch 76/150\n",
      "199/199 [==============================] - 0s 977us/step - loss: 0.5725 - accuracy: 0.6969\n",
      "Epoch 77/150\n",
      "199/199 [==============================] - 0s 1ms/step - loss: 0.5727 - accuracy: 0.6964\n",
      "Epoch 78/150\n",
      "199/199 [==============================] - 0s 924us/step - loss: 0.5713 - accuracy: 0.6949\n",
      "Epoch 79/150\n",
      "199/199 [==============================] - 0s 941us/step - loss: 0.5719 - accuracy: 0.6964\n",
      "Epoch 80/150\n",
      "199/199 [==============================] - 0s 1ms/step - loss: 0.5700 - accuracy: 0.6989\n",
      "Epoch 81/150\n",
      "199/199 [==============================] - 0s 1ms/step - loss: 0.5716 - accuracy: 0.7004\n",
      "Epoch 82/150\n",
      "199/199 [==============================] - 0s 1ms/step - loss: 0.5699 - accuracy: 0.7004\n",
      "Epoch 83/150\n",
      "199/199 [==============================] - 0s 971us/step - loss: 0.5699 - accuracy: 0.7059\n",
      "Epoch 84/150\n",
      "199/199 [==============================] - 0s 969us/step - loss: 0.5697 - accuracy: 0.7029\n",
      "Epoch 85/150\n",
      "199/199 [==============================] - 0s 967us/step - loss: 0.5687 - accuracy: 0.7064\n",
      "Epoch 86/150\n",
      "199/199 [==============================] - 0s 940us/step - loss: 0.5689 - accuracy: 0.7080\n",
      "Epoch 87/150\n",
      "199/199 [==============================] - 0s 925us/step - loss: 0.5685 - accuracy: 0.7049\n",
      "Epoch 88/150\n",
      "199/199 [==============================] - 0s 996us/step - loss: 0.5682 - accuracy: 0.7039\n",
      "Epoch 89/150\n",
      "199/199 [==============================] - 0s 933us/step - loss: 0.5680 - accuracy: 0.7029\n",
      "Epoch 90/150\n",
      "199/199 [==============================] - 0s 963us/step - loss: 0.5671 - accuracy: 0.7110\n",
      "Epoch 91/150\n",
      "199/199 [==============================] - 0s 930us/step - loss: 0.5662 - accuracy: 0.7039\n",
      "Epoch 92/150\n",
      "199/199 [==============================] - 0s 1ms/step - loss: 0.5663 - accuracy: 0.7090\n",
      "Epoch 93/150\n",
      "199/199 [==============================] - 0s 971us/step - loss: 0.5658 - accuracy: 0.7095\n",
      "Epoch 94/150\n",
      "199/199 [==============================] - 0s 1ms/step - loss: 0.5670 - accuracy: 0.7080\n",
      "Epoch 95/150\n",
      "199/199 [==============================] - 0s 1ms/step - loss: 0.5647 - accuracy: 0.7095\n",
      "Epoch 96/150\n",
      "199/199 [==============================] - 0s 1ms/step - loss: 0.5662 - accuracy: 0.7064\n",
      "Epoch 97/150\n",
      "199/199 [==============================] - 0s 999us/step - loss: 0.5641 - accuracy: 0.7150\n",
      "Epoch 98/150\n",
      "199/199 [==============================] - 0s 994us/step - loss: 0.5636 - accuracy: 0.7105\n",
      "Epoch 99/150\n",
      "199/199 [==============================] - 0s 1ms/step - loss: 0.5640 - accuracy: 0.7115\n",
      "Epoch 100/150\n",
      "199/199 [==============================] - 0s 1ms/step - loss: 0.5642 - accuracy: 0.7150\n",
      "Epoch 101/150\n",
      "199/199 [==============================] - 0s 970us/step - loss: 0.5616 - accuracy: 0.7145\n",
      "Epoch 102/150\n",
      "199/199 [==============================] - 0s 1ms/step - loss: 0.5635 - accuracy: 0.7160\n",
      "Epoch 103/150\n",
      "199/199 [==============================] - 0s 1ms/step - loss: 0.5633 - accuracy: 0.7090\n",
      "Epoch 104/150\n",
      "199/199 [==============================] - 0s 1ms/step - loss: 0.5617 - accuracy: 0.7155\n",
      "Epoch 105/150\n",
      "199/199 [==============================] - 0s 1ms/step - loss: 0.5624 - accuracy: 0.7125\n",
      "Epoch 106/150\n",
      "199/199 [==============================] - 0s 1ms/step - loss: 0.5616 - accuracy: 0.7105\n",
      "Epoch 107/150\n",
      "199/199 [==============================] - 0s 1ms/step - loss: 0.5607 - accuracy: 0.7140\n",
      "Epoch 108/150\n",
      "199/199 [==============================] - 0s 1ms/step - loss: 0.5616 - accuracy: 0.7115\n",
      "Epoch 109/150\n",
      "199/199 [==============================] - 0s 1ms/step - loss: 0.5600 - accuracy: 0.7150\n",
      "Epoch 110/150\n",
      "199/199 [==============================] - 0s 968us/step - loss: 0.5603 - accuracy: 0.7145\n",
      "Epoch 111/150\n",
      "199/199 [==============================] - 0s 1ms/step - loss: 0.5599 - accuracy: 0.7180\n",
      "Epoch 112/150\n",
      "199/199 [==============================] - 0s 1ms/step - loss: 0.5592 - accuracy: 0.7110\n",
      "Epoch 113/150\n",
      "199/199 [==============================] - 0s 1ms/step - loss: 0.5583 - accuracy: 0.7170\n",
      "Epoch 114/150\n",
      "199/199 [==============================] - 0s 1ms/step - loss: 0.5591 - accuracy: 0.7165\n",
      "Epoch 115/150\n",
      "199/199 [==============================] - 0s 977us/step - loss: 0.5580 - accuracy: 0.7175\n",
      "Epoch 116/150\n",
      "199/199 [==============================] - 0s 1ms/step - loss: 0.5584 - accuracy: 0.7185\n",
      "Epoch 117/150\n",
      "199/199 [==============================] - 0s 926us/step - loss: 0.5580 - accuracy: 0.7150\n",
      "Epoch 118/150\n",
      "199/199 [==============================] - 0s 1ms/step - loss: 0.5573 - accuracy: 0.7170\n",
      "Epoch 119/150\n",
      "199/199 [==============================] - 0s 1ms/step - loss: 0.5582 - accuracy: 0.7170\n",
      "Epoch 120/150\n",
      "199/199 [==============================] - 0s 1ms/step - loss: 0.5572 - accuracy: 0.7195\n",
      "Epoch 121/150\n",
      "199/199 [==============================] - 0s 942us/step - loss: 0.5568 - accuracy: 0.7160\n",
      "Epoch 122/150\n",
      "199/199 [==============================] - 0s 984us/step - loss: 0.5578 - accuracy: 0.7210\n",
      "Epoch 123/150\n",
      "199/199 [==============================] - 0s 953us/step - loss: 0.5572 - accuracy: 0.7165\n",
      "Epoch 124/150\n",
      "199/199 [==============================] - 0s 1ms/step - loss: 0.5569 - accuracy: 0.7165\n",
      "Epoch 125/150\n",
      "199/199 [==============================] - 0s 1ms/step - loss: 0.5563 - accuracy: 0.7180\n",
      "Epoch 126/150\n",
      "199/199 [==============================] - 0s 1ms/step - loss: 0.5556 - accuracy: 0.7221\n",
      "Epoch 127/150\n",
      "199/199 [==============================] - 0s 970us/step - loss: 0.5557 - accuracy: 0.7236\n",
      "Epoch 128/150\n",
      "199/199 [==============================] - 0s 1ms/step - loss: 0.5551 - accuracy: 0.7195\n",
      "Epoch 129/150\n",
      "199/199 [==============================] - 0s 1ms/step - loss: 0.5559 - accuracy: 0.7180\n",
      "Epoch 130/150\n",
      "199/199 [==============================] - 0s 931us/step - loss: 0.5556 - accuracy: 0.7216\n",
      "Epoch 131/150\n",
      "199/199 [==============================] - 0s 966us/step - loss: 0.5566 - accuracy: 0.7226\n",
      "Epoch 132/150\n",
      "199/199 [==============================] - 0s 1ms/step - loss: 0.5556 - accuracy: 0.7241\n",
      "Epoch 133/150\n",
      "199/199 [==============================] - 0s 1ms/step - loss: 0.5549 - accuracy: 0.7251\n",
      "Epoch 134/150\n",
      "199/199 [==============================] - 0s 1ms/step - loss: 0.5555 - accuracy: 0.7276\n",
      "Epoch 135/150\n",
      "199/199 [==============================] - 0s 1ms/step - loss: 0.5543 - accuracy: 0.7236\n",
      "Epoch 136/150\n",
      "199/199 [==============================] - 0s 1ms/step - loss: 0.5543 - accuracy: 0.7190\n",
      "Epoch 137/150\n",
      "199/199 [==============================] - 0s 968us/step - loss: 0.5543 - accuracy: 0.7241\n",
      "Epoch 138/150\n",
      "199/199 [==============================] - 0s 967us/step - loss: 0.5536 - accuracy: 0.7276\n",
      "Epoch 139/150\n",
      "199/199 [==============================] - 0s 1ms/step - loss: 0.5526 - accuracy: 0.7236\n",
      "Epoch 140/150\n",
      "199/199 [==============================] - 0s 972us/step - loss: 0.5533 - accuracy: 0.7241\n",
      "Epoch 141/150\n",
      "199/199 [==============================] - 0s 1ms/step - loss: 0.5535 - accuracy: 0.7226\n",
      "Epoch 142/150\n",
      "199/199 [==============================] - 0s 977us/step - loss: 0.5528 - accuracy: 0.7261\n",
      "Epoch 143/150\n",
      "199/199 [==============================] - 0s 1ms/step - loss: 0.5523 - accuracy: 0.7246\n",
      "Epoch 144/150\n",
      "199/199 [==============================] - 0s 985us/step - loss: 0.5526 - accuracy: 0.7266\n",
      "Epoch 145/150\n",
      "199/199 [==============================] - 0s 1ms/step - loss: 0.5526 - accuracy: 0.7266\n",
      "Epoch 146/150\n",
      "199/199 [==============================] - 0s 994us/step - loss: 0.5523 - accuracy: 0.7205\n",
      "Epoch 147/150\n",
      "199/199 [==============================] - 0s 1ms/step - loss: 0.5518 - accuracy: 0.7256\n",
      "Epoch 148/150\n",
      "199/199 [==============================] - 0s 965us/step - loss: 0.5532 - accuracy: 0.7205\n",
      "Epoch 149/150\n",
      "199/199 [==============================] - 0s 970us/step - loss: 0.5518 - accuracy: 0.7216\n",
      "Epoch 150/150\n",
      "199/199 [==============================] - 0s 969us/step - loss: 0.5514 - accuracy: 0.7256\n"
     ]
    },
    {
     "data": {
      "text/plain": [
       "<keras.callbacks.History at 0x193275464c0>"
      ]
     },
     "execution_count": 313,
     "metadata": {},
     "output_type": "execute_result"
    }
   ],
   "source": [
    "# Importing Keras libraries\n",
    "from keras.models import Sequential\n",
    "from keras.layers import Dense\n",
    "\n",
    "classifier = Sequential()\n",
    "\n",
    "# Adding input layer 8 inputs\n",
    "classifier.add(Dense(8, activation = 'relu'))\n",
    "\n",
    "# Adding hidden layer 1st hidden layer rule of thumb take # of inputs add outputs and divide by 2\n",
    "# 8 inputs + 2 outputs (1,0) /2 = 5\n",
    "# more hidden layers longer processing time\n",
    "classifier.add(Dense(5, activation = 'relu'))\n",
    "\n",
    "classifier.add(Dense(2, activation = 'relu'))\n",
    "\n",
    "\n",
    "# Adding output layer Binary so only one sigmoid used to classify data into 2 types (from logistic regression)\n",
    "classifier.add(Dense(1, activation = 'sigmoid'))\n",
    "\n",
    "# Compiling ANN Algorithm\n",
    "classifier.compile(optimizer = 'adam', loss = 'binary_crossentropy', metrics = ['accuracy'])\n",
    "\n",
    "# Fitting ANN Algorithm to Training set\n",
    "classifier.fit(xtrain, y_train, batch_size = 10, epochs = 150)"
   ]
  },
  {
   "cell_type": "markdown",
   "id": "22b91aba",
   "metadata": {},
   "source": [
    "**Predict drafted**"
   ]
  },
  {
   "cell_type": "code",
   "execution_count": 314,
   "id": "52e23d48",
   "metadata": {},
   "outputs": [
    {
     "name": "stdout",
     "output_type": "stream",
     "text": [
      "21/21 [==============================] - 0s 1ms/step - loss: 0.6632 - accuracy: 0.6440\n",
      "Accuracy: 64.40\n"
     ]
    }
   ],
   "source": [
    "# # Predicting y_test using X_test \n",
    "# y_pred = classifier.predict(xtest)\n",
    "_, accuracy = classifier.evaluate(xtest, y_test)\n",
    "print('Accuracy: %.2f' % (accuracy*100))"
   ]
  },
  {
   "cell_type": "markdown",
   "id": "9c386d18",
   "metadata": {},
   "source": [
    "**Predict using K Nearest Neighbors**"
   ]
  },
  {
   "cell_type": "code",
   "execution_count": 315,
   "id": "ea8ea640",
   "metadata": {
    "scrolled": true
   },
   "outputs": [],
   "source": [
    "# predict round for drafted players\n",
    "df_round_df = df_combine.loc[df_combine['Round'] > 0]\n",
    "feature_cols  = ['Pos','School','Ht','Wt','40yd','Vertical','Bench','Broad Jump','3Cone']\n",
    "target = df_round_df['Round']\n",
    "X = df_round_df[feature_cols]\n",
    "y = target\n"
   ]
  },
  {
   "cell_type": "markdown",
   "id": "d6b9bf90",
   "metadata": {},
   "source": [
    "**Train test split**"
   ]
  },
  {
   "cell_type": "code",
   "execution_count": 316,
   "id": "f4b5cbaf",
   "metadata": {},
   "outputs": [],
   "source": [
    "from sklearn.model_selection import train_test_split\n",
    "X_train,X_test,y_train,y_test=train_test_split(X,y,test_size=0.20)"
   ]
  },
  {
   "cell_type": "markdown",
   "id": "9e2ac86b",
   "metadata": {},
   "source": [
    "**Feature Scaling**"
   ]
  },
  {
   "cell_type": "code",
   "execution_count": 317,
   "id": "68e8fcfa",
   "metadata": {},
   "outputs": [],
   "source": [
    "from sklearn.preprocessing import StandardScaler\n",
    "scaler = StandardScaler()\n",
    "scaler.fit(X_train)\n",
    "\n",
    "X_train = scaler.transform(X_train)\n",
    "X_test = scaler.transform(X_test)"
   ]
  },
  {
   "cell_type": "code",
   "execution_count": 318,
   "id": "e7d125b5",
   "metadata": {},
   "outputs": [],
   "source": [
    "from sklearn import neighbors\n",
    "from sklearn.metrics import mean_squared_error \n",
    "from math import sqrt\n",
    "import matplotlib.pyplot as plt\n",
    "%matplotlib inline"
   ]
  },
  {
   "cell_type": "markdown",
   "id": "bdaef8a2",
   "metadata": {},
   "source": [
    "**Look at the error rate for different k values**"
   ]
  },
  {
   "cell_type": "code",
   "execution_count": 319,
   "id": "32995ec2",
   "metadata": {},
   "outputs": [
    {
     "name": "stdout",
     "output_type": "stream",
     "text": [
      "RMSE value for k=  1 is: 1.9708863649596378\n",
      "RMSE value for k=  2 is: 1.8852561500881218\n",
      "RMSE value for k=  3 is: 1.937859296040971\n",
      "RMSE value for k=  4 is: 1.9878151220718623\n",
      "RMSE value for k=  5 is: 1.995688995428393\n",
      "RMSE value for k=  6 is: 2.0194939495972397\n",
      "RMSE value for k=  7 is: 2.0110289277179576\n",
      "RMSE value for k=  8 is: 1.9882694278993165\n",
      "RMSE value for k=  9 is: 1.957516387173176\n",
      "RMSE value for k=  10 is: 1.9352525189594065\n",
      "RMSE value for k=  11 is: 1.93492146650604\n",
      "RMSE value for k=  12 is: 1.9329230180495665\n",
      "RMSE value for k=  13 is: 1.9345677153933947\n",
      "RMSE value for k=  14 is: 1.947422170052245\n",
      "RMSE value for k=  15 is: 1.9408299279557069\n",
      "RMSE value for k=  16 is: 1.9375670089102315\n",
      "RMSE value for k=  17 is: 1.9352428038575917\n",
      "RMSE value for k=  18 is: 1.937659047967414\n",
      "RMSE value for k=  19 is: 1.942305062758043\n",
      "RMSE value for k=  20 is: 1.9359356448005314\n"
     ]
    }
   ],
   "source": [
    "rmse_val = [] #to store rmse values for different k\n",
    "for K in range(20):\n",
    "    K = K+1\n",
    "    model = neighbors.KNeighborsRegressor(n_neighbors = K)\n",
    "\n",
    "    model.fit(X_train, y_train)  #fit the model\n",
    "    pred=model.predict(X_test) #make prediction on test set\n",
    "    error = sqrt(mean_squared_error(y_test,pred)) #calculate rmse\n",
    "    rmse_val.append(error) #store rmse values\n",
    "    print('RMSE value for k= ' , K , 'is:', error)"
   ]
  },
  {
   "cell_type": "markdown",
   "id": "8b7fbc10",
   "metadata": {},
   "source": [
    "**Plot RMSE against K values**"
   ]
  },
  {
   "cell_type": "code",
   "execution_count": 320,
   "id": "fc051630",
   "metadata": {},
   "outputs": [
    {
     "data": {
      "image/png": "[encoded data removed]",
      "text/plain": [
       "<Figure size 432x288 with 1 Axes>"
      ]
     },
     "metadata": {
      "needs_background": "light"
     },
     "output_type": "display_data"
    }
   ],
   "source": [
    "curve = pd.DataFrame(rmse_val) #elbow curve \n",
    "curve.plot();"
   ]
  },
  {
   "cell_type": "markdown",
   "id": "3c9ea5a9",
   "metadata": {},
   "source": [
    "**Use GridsearchCV to find best value**"
   ]
  },
  {
   "cell_type": "code",
   "execution_count": 321,
   "id": "81d85bc2",
   "metadata": {},
   "outputs": [
    {
     "data": {
      "text/plain": [
       "{'n_neighbors': 9}"
      ]
     },
     "execution_count": 321,
     "metadata": {},
     "output_type": "execute_result"
    }
   ],
   "source": [
    "from sklearn.model_selection import GridSearchCV\n",
    "params = {'n_neighbors':[2,3,4,5,6,7,8,9]}\n",
    "\n",
    "knn = neighbors.KNeighborsRegressor()\n",
    "\n",
    "model = GridSearchCV(knn, params, cv=5)\n",
    "model.fit(X_train,y_train)\n",
    "model.best_params_"
   ]
  },
  {
   "cell_type": "code",
   "execution_count": 322,
   "id": "95aac346",
   "metadata": {},
   "outputs": [
    {
     "data": {
      "text/plain": [
       "KNeighborsClassifier(n_neighbors=9)"
      ]
     },
     "execution_count": 322,
     "metadata": {},
     "output_type": "execute_result"
    }
   ],
   "source": [
    "knn = KNeighborsClassifier(n_neighbors=9)\n",
    "knn.fit(X_train, y_train)"
   ]
  },
  {
   "cell_type": "code",
   "execution_count": 323,
   "id": "fdf72d38",
   "metadata": {},
   "outputs": [
    {
     "name": "stdout",
     "output_type": "stream",
     "text": [
      "Accuracy: 27.17\n"
     ]
    }
   ],
   "source": [
    "accuracy = knn.score(X_test, y_test)\n",
    "print('Accuracy: %.2f' % (accuracy*100))"
   ]
  },
  {
   "cell_type": "markdown",
   "id": "2e0bf55b",
   "metadata": {},
   "source": [
    "**Linear Regression**"
   ]
  },
  {
   "cell_type": "code",
   "execution_count": 324,
   "id": "d51f0838",
   "metadata": {},
   "outputs": [],
   "source": [
    "feature_cols  = ['Pos','School','Ht','Wt','40yd','Vertical','Bench','Broad Jump','3Cone','Shuttle']\n",
    "target = df_combine1['Drafted']\n",
    "X = df_combine1[feature_cols]\n",
    "y = target"
   ]
  },
  {
   "cell_type": "code",
   "execution_count": 325,
   "id": "1b38bba5",
   "metadata": {},
   "outputs": [],
   "source": [
    "from sklearn.model_selection import train_test_split\n",
    "X_train,X_test,y_train,y_test=train_test_split(X,y,test_size=0.25,random_state=0)"
   ]
  },
  {
   "cell_type": "code",
   "execution_count": 326,
   "id": "02caa427",
   "metadata": {},
   "outputs": [],
   "source": [
    "from sklearn.preprocessing import StandardScaler\n",
    "sc_x = StandardScaler()\n",
    "xtrain = sc_x.fit_transform(X_train)\n",
    "xtest = sc_x.transform(X_test)"
   ]
  },
  {
   "cell_type": "markdown",
   "id": "4798aa4c",
   "metadata": {},
   "source": [
    "**Create model using Random Forest**"
   ]
  },
  {
   "cell_type": "code",
   "execution_count": 327,
   "id": "9a0ab5cc",
   "metadata": {},
   "outputs": [],
   "source": [
    "from sklearn.ensemble import RandomForestClassifier\n",
    "clf = RandomForestClassifier(n_estimators=100)\n",
    "clf.fit(X_train,y_train);"
   ]
  },
  {
   "cell_type": "markdown",
   "id": "7eda557e",
   "metadata": {},
   "source": [
    "**Calculate Accuracy of Random Forest**"
   ]
  },
  {
   "cell_type": "code",
   "execution_count": 334,
   "id": "80adb467",
   "metadata": {},
   "outputs": [
    {
     "name": "stdout",
     "output_type": "stream",
     "text": [
      "Accuracy: 80.39\n"
     ]
    }
   ],
   "source": [
    "y_pred=clf.predict(X_test)\n",
    "Accuracy = metrics.accuracy_score(y_test, y_pred)\n",
    "print('Accuracy: %.2f' % (Accuracy*100))"
   ]
  },
  {
   "cell_type": "code",
   "execution_count": 329,
   "id": "3cd1b732",
   "metadata": {},
   "outputs": [
    {
     "name": "stdout",
     "output_type": "stream",
     "text": [
      "Mean squared error: 0.20\n",
      "Coefficient of determination: 0.15\n"
     ]
    }
   ],
   "source": [
    "print(\"Mean squared error: %.2f\" % mean_squared_error(y_test, y_pred))\n",
    "print(\"Coefficient of determination: %.2f\" % r2_score(y_test, y_pred))"
   ]
  },
  {
   "cell_type": "code",
   "execution_count": 330,
   "id": "e137ebde",
   "metadata": {},
   "outputs": [],
   "source": [
    "import seaborn as sn\n",
    "\n",
    "from sklearn.metrics import confusion_matrix\n",
    "cm = confusion_matrix(y_test, y_pred)\n"
   ]
  },
  {
   "cell_type": "code",
   "execution_count": 331,
   "id": "cbb6f665",
   "metadata": {},
   "outputs": [
    {
     "data": {
      "image/png": "[encoded data removed]",
      "text/plain": [
       "<Figure size 432x288 with 2 Axes>"
      ]
     },
     "metadata": {
      "needs_background": "light"
     },
     "output_type": "display_data"
    }
   ],
   "source": [
    "from sklearn.metrics import ConfusionMatrixDisplay\n",
    "## Display the visualization of the Confusion Matrix.\n",
    "ConfusionMatrixDisplay.from_predictions(\n",
    "   y_test, y_pred);"
   ]
  },
  {
   "cell_type": "markdown",
   "id": "7e7be511",
   "metadata": {},
   "source": [
    "**So it appears that Random Forest is the best method to use in this cse to predict whether a player will be drafted or not based on their NFL Scouting Combine Measurements.**"
   ]
  },
  {
   "cell_type": "code",
   "execution_count": null,
   "id": "016e9def",
   "metadata": {},
   "outputs": [],
   "source": []
  }
 ],
 "metadata": {
  "kernelspec": {
   "display_name": "Python 3 (ipykernel)",
   "language": "python",
   "name": "python3"
  },
  "language_info": {
   "codemirror_mode": {
    "name": "ipython",
    "version": 3
   },
   "file_extension": ".py",
   "mimetype": "text/x-python",
   "name": "python",
   "nbconvert_exporter": "python",
   "pygments_lexer": "ipython3",
   "version": "3.9.7"
  }
 },
 "nbformat": 4,
 "nbformat_minor": 5
}
