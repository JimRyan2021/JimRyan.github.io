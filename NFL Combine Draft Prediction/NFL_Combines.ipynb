{
 "cells": [
  {
   "cell_type": "markdown",
   "id": "94633c36",
   "metadata": {},
   "source": [
    "***Import Needed Libraries***"
   ]
  },
  {
   "cell_type": "code",
   "execution_count": 17,
   "id": "4248251e",
   "metadata": {},
   "outputs": [],
   "source": [
    "#Import libraries etc\n",
    "\n",
    "import pandas as pd\n",
    "import re\n",
    "from pandas.api.types import is_string_dtype\n",
    "from pandas.api.types import is_numeric_dtype\n",
    "import numpy as np\n",
    "from sklearn.linear_model import LogisticRegression\n",
    "from sklearn.preprocessing import StandardScaler\n",
    "from sklearn.preprocessing import OrdinalEncoder\n",
    "from sklearn.metrics import mean_squared_error, r2_score\n",
    "from sklearn.model_selection import cross_val_score\n",
    "from sklearn.model_selection import KFold\n",
    "from sklearn.model_selection import GridSearchCV\n",
    "from sklearn.pipeline import make_pipeline\n",
    "import statsmodels.api as sm\n",
    "import warnings # supress warnings\n",
    "warnings.filterwarnings('ignore')"
   ]
  },
  {
   "cell_type": "markdown",
   "id": "2890272e",
   "metadata": {},
   "source": [
    "***#Function to read in passed URL, read url into dataframe, fill in missing year with year return dataframe***"
   ]
  },
  {
   "cell_type": "code",
   "execution_count": 18,
   "id": "a56d43fa",
   "metadata": {},
   "outputs": [
    {
     "data": {
      "text/html": [
       "<div>\n",
       "<style scoped>\n",
       "    .dataframe tbody tr th:only-of-type {\n",
       "        vertical-align: middle;\n",
       "    }\n",
       "\n",
       "    .dataframe tbody tr th {\n",
       "        vertical-align: top;\n",
       "    }\n",
       "\n",
       "    .dataframe thead th {\n",
       "        text-align: right;\n",
       "    }\n",
       "</style>\n",
       "<table border=\"1\" class=\"dataframe\">\n",
       "  <thead>\n",
       "    <tr style=\"text-align: right;\">\n",
       "      <th></th>\n",
       "      <th>Player</th>\n",
       "      <th>Pos</th>\n",
       "      <th>School</th>\n",
       "      <th>College</th>\n",
       "      <th>Ht</th>\n",
       "      <th>Wt</th>\n",
       "      <th>40yd</th>\n",
       "      <th>Vertical</th>\n",
       "      <th>Bench</th>\n",
       "      <th>Broad Jump</th>\n",
       "      <th>3Cone</th>\n",
       "      <th>Shuttle</th>\n",
       "      <th>Drafted (tm/rnd/yr)</th>\n",
       "    </tr>\n",
       "  </thead>\n",
       "  <tbody>\n",
       "    <tr>\n",
       "      <th>0</th>\n",
       "      <td>Israel Abanikanda</td>\n",
       "      <td>RB</td>\n",
       "      <td>Pittsburgh</td>\n",
       "      <td>College Stats</td>\n",
       "      <td>5-10</td>\n",
       "      <td>216</td>\n",
       "      <td>0</td>\n",
       "      <td>0</td>\n",
       "      <td>0</td>\n",
       "      <td>0</td>\n",
       "      <td>0</td>\n",
       "      <td>0</td>\n",
       "      <td>2023</td>\n",
       "    </tr>\n",
       "    <tr>\n",
       "      <th>1</th>\n",
       "      <td>Yasir Abdullah</td>\n",
       "      <td>LB</td>\n",
       "      <td>Louisville</td>\n",
       "      <td>College Stats</td>\n",
       "      <td>6-1</td>\n",
       "      <td>237</td>\n",
       "      <td>4.47</td>\n",
       "      <td>36.5</td>\n",
       "      <td>0</td>\n",
       "      <td>129</td>\n",
       "      <td>0</td>\n",
       "      <td>0</td>\n",
       "      <td>2023</td>\n",
       "    </tr>\n",
       "    <tr>\n",
       "      <th>2</th>\n",
       "      <td>Devon Achane</td>\n",
       "      <td>RB</td>\n",
       "      <td>Texas A&amp;M</td>\n",
       "      <td>College Stats</td>\n",
       "      <td>5-9</td>\n",
       "      <td>188</td>\n",
       "      <td>4.32</td>\n",
       "      <td>33.0</td>\n",
       "      <td>0</td>\n",
       "      <td>0</td>\n",
       "      <td>0</td>\n",
       "      <td>0</td>\n",
       "      <td>2023</td>\n",
       "    </tr>\n",
       "    <tr>\n",
       "      <th>3</th>\n",
       "      <td>Jordan Addison</td>\n",
       "      <td>WR</td>\n",
       "      <td>USC</td>\n",
       "      <td>College Stats</td>\n",
       "      <td>5-11</td>\n",
       "      <td>173</td>\n",
       "      <td>4.49</td>\n",
       "      <td>34.0</td>\n",
       "      <td>0</td>\n",
       "      <td>122</td>\n",
       "      <td>0</td>\n",
       "      <td>0</td>\n",
       "      <td>2023</td>\n",
       "    </tr>\n",
       "    <tr>\n",
       "      <th>4</th>\n",
       "      <td>Adetomiwa Adebawore</td>\n",
       "      <td>DE</td>\n",
       "      <td>Northwestern</td>\n",
       "      <td>College Stats</td>\n",
       "      <td>6-2</td>\n",
       "      <td>282</td>\n",
       "      <td>4.49</td>\n",
       "      <td>37.5</td>\n",
       "      <td>27</td>\n",
       "      <td>125</td>\n",
       "      <td>0</td>\n",
       "      <td>0</td>\n",
       "      <td>2023</td>\n",
       "    </tr>\n",
       "  </tbody>\n",
       "</table>\n",
       "</div>"
      ],
      "text/plain": [
       "                Player Pos        School        College    Ht   Wt  40yd  \\\n",
       "0    Israel Abanikanda  RB    Pittsburgh  College Stats  5-10  216     0   \n",
       "1       Yasir Abdullah  LB    Louisville  College Stats   6-1  237  4.47   \n",
       "2         Devon Achane  RB     Texas A&M  College Stats   5-9  188  4.32   \n",
       "3       Jordan Addison  WR           USC  College Stats  5-11  173  4.49   \n",
       "4  Adetomiwa Adebawore  DE  Northwestern  College Stats   6-2  282  4.49   \n",
       "\n",
       "  Vertical Bench Broad Jump 3Cone Shuttle Drafted (tm/rnd/yr)  \n",
       "0        0     0          0     0       0                2023  \n",
       "1     36.5     0        129     0       0                2023  \n",
       "2     33.0     0          0     0       0                2023  \n",
       "3     34.0     0        122     0       0                2023  \n",
       "4     37.5    27        125     0       0                2023  "
      ]
     },
     "execution_count": 18,
     "metadata": {},
     "output_type": "execute_result"
    }
   ],
   "source": [
    "# def comb_df(url_nm,yr):\n",
    "#     result = pd.DataFrame()\n",
    "#     result = pd.read_html(url)[0]    \n",
    "#     result['Drafted (tm/rnd/yr)'] = result['Drafted (tm/rnd/yr)'].fillna(yr) \n",
    "#     result.update(result[['40yd','Vertical','Bench','Broad Jump','3Cone','Shuttle']].fillna(0))\n",
    "#     return result\n",
    "\n",
    "# url = 'https://www.pro-football-reference.com/draft/2023-combine.htm'\n",
    "# df_2023 = comb_df(url,2023)\n",
    "df_2023.head()"
   ]
  },
  {
   "cell_type": "code",
   "execution_count": 19,
   "id": "feda4d27",
   "metadata": {},
   "outputs": [
    {
     "data": {
      "text/html": [
       "<div>\n",
       "<style scoped>\n",
       "    .dataframe tbody tr th:only-of-type {\n",
       "        vertical-align: middle;\n",
       "    }\n",
       "\n",
       "    .dataframe tbody tr th {\n",
       "        vertical-align: top;\n",
       "    }\n",
       "\n",
       "    .dataframe thead th {\n",
       "        text-align: right;\n",
       "    }\n",
       "</style>\n",
       "<table border=\"1\" class=\"dataframe\">\n",
       "  <thead>\n",
       "    <tr style=\"text-align: right;\">\n",
       "      <th></th>\n",
       "      <th>Player</th>\n",
       "      <th>Pos</th>\n",
       "      <th>School</th>\n",
       "      <th>College</th>\n",
       "      <th>Ht</th>\n",
       "      <th>Wt</th>\n",
       "      <th>40yd</th>\n",
       "      <th>Vertical</th>\n",
       "      <th>Bench</th>\n",
       "      <th>Broad Jump</th>\n",
       "      <th>3Cone</th>\n",
       "      <th>Shuttle</th>\n",
       "      <th>Drafted (tm/rnd/yr)</th>\n",
       "    </tr>\n",
       "  </thead>\n",
       "  <tbody>\n",
       "    <tr>\n",
       "      <th>0</th>\n",
       "      <td>Israel Abanikanda</td>\n",
       "      <td>RB</td>\n",
       "      <td>Pittsburgh</td>\n",
       "      <td>College Stats</td>\n",
       "      <td>5-10</td>\n",
       "      <td>216</td>\n",
       "      <td>0</td>\n",
       "      <td>0</td>\n",
       "      <td>0</td>\n",
       "      <td>0</td>\n",
       "      <td>0</td>\n",
       "      <td>0</td>\n",
       "      <td>2023</td>\n",
       "    </tr>\n",
       "    <tr>\n",
       "      <th>1</th>\n",
       "      <td>Yasir Abdullah</td>\n",
       "      <td>LB</td>\n",
       "      <td>Louisville</td>\n",
       "      <td>College Stats</td>\n",
       "      <td>6-1</td>\n",
       "      <td>237</td>\n",
       "      <td>4.47</td>\n",
       "      <td>36.5</td>\n",
       "      <td>0</td>\n",
       "      <td>129</td>\n",
       "      <td>0</td>\n",
       "      <td>0</td>\n",
       "      <td>2023</td>\n",
       "    </tr>\n",
       "    <tr>\n",
       "      <th>2</th>\n",
       "      <td>Devon Achane</td>\n",
       "      <td>RB</td>\n",
       "      <td>Texas A&amp;M</td>\n",
       "      <td>College Stats</td>\n",
       "      <td>5-9</td>\n",
       "      <td>188</td>\n",
       "      <td>4.32</td>\n",
       "      <td>33.0</td>\n",
       "      <td>0</td>\n",
       "      <td>0</td>\n",
       "      <td>0</td>\n",
       "      <td>0</td>\n",
       "      <td>2023</td>\n",
       "    </tr>\n",
       "    <tr>\n",
       "      <th>3</th>\n",
       "      <td>Jordan Addison</td>\n",
       "      <td>WR</td>\n",
       "      <td>USC</td>\n",
       "      <td>College Stats</td>\n",
       "      <td>5-11</td>\n",
       "      <td>173</td>\n",
       "      <td>4.49</td>\n",
       "      <td>34.0</td>\n",
       "      <td>0</td>\n",
       "      <td>122</td>\n",
       "      <td>0</td>\n",
       "      <td>0</td>\n",
       "      <td>2023</td>\n",
       "    </tr>\n",
       "    <tr>\n",
       "      <th>4</th>\n",
       "      <td>Adetomiwa Adebawore</td>\n",
       "      <td>DE</td>\n",
       "      <td>Northwestern</td>\n",
       "      <td>College Stats</td>\n",
       "      <td>6-2</td>\n",
       "      <td>282</td>\n",
       "      <td>4.49</td>\n",
       "      <td>37.5</td>\n",
       "      <td>27</td>\n",
       "      <td>125</td>\n",
       "      <td>0</td>\n",
       "      <td>0</td>\n",
       "      <td>2023</td>\n",
       "    </tr>\n",
       "  </tbody>\n",
       "</table>\n",
       "</div>"
      ],
      "text/plain": [
       "                Player Pos        School        College    Ht   Wt  40yd  \\\n",
       "0    Israel Abanikanda  RB    Pittsburgh  College Stats  5-10  216     0   \n",
       "1       Yasir Abdullah  LB    Louisville  College Stats   6-1  237  4.47   \n",
       "2         Devon Achane  RB     Texas A&M  College Stats   5-9  188  4.32   \n",
       "3       Jordan Addison  WR           USC  College Stats  5-11  173  4.49   \n",
       "4  Adetomiwa Adebawore  DE  Northwestern  College Stats   6-2  282  4.49   \n",
       "\n",
       "  Vertical Bench Broad Jump 3Cone Shuttle Drafted (tm/rnd/yr)  \n",
       "0        0     0          0     0       0                2023  \n",
       "1     36.5     0        129     0       0                2023  \n",
       "2     33.0     0          0     0       0                2023  \n",
       "3     34.0     0        122     0       0                2023  \n",
       "4     37.5    27        125     0       0                2023  "
      ]
     },
     "execution_count": 19,
     "metadata": {},
     "output_type": "execute_result"
    }
   ],
   "source": [
    "df_combine = pd.DataFrame() \n",
    "df_combine = df_combine.append(df_2023)\n",
    "df_combine.head(5)"
   ]
  },
  {
   "cell_type": "markdown",
   "id": "c37458ad",
   "metadata": {},
   "source": [
    "# combine 2022 draft picks with dataframe created to hold all rows"
   ]
  },
  {
   "cell_type": "code",
   "execution_count": 20,
   "id": "aff9b1f0",
   "metadata": {},
   "outputs": [
    {
     "data": {
      "text/html": [
       "<div>\n",
       "<style scoped>\n",
       "    .dataframe tbody tr th:only-of-type {\n",
       "        vertical-align: middle;\n",
       "    }\n",
       "\n",
       "    .dataframe tbody tr th {\n",
       "        vertical-align: top;\n",
       "    }\n",
       "\n",
       "    .dataframe thead th {\n",
       "        text-align: right;\n",
       "    }\n",
       "</style>\n",
       "<table border=\"1\" class=\"dataframe\">\n",
       "  <thead>\n",
       "    <tr style=\"text-align: right;\">\n",
       "      <th></th>\n",
       "      <th>Player</th>\n",
       "      <th>Pos</th>\n",
       "      <th>School</th>\n",
       "      <th>College</th>\n",
       "      <th>Ht</th>\n",
       "      <th>Wt</th>\n",
       "      <th>40yd</th>\n",
       "      <th>Vertical</th>\n",
       "      <th>Bench</th>\n",
       "      <th>Broad Jump</th>\n",
       "      <th>3Cone</th>\n",
       "      <th>Shuttle</th>\n",
       "      <th>Drafted (tm/rnd/yr)</th>\n",
       "    </tr>\n",
       "  </thead>\n",
       "  <tbody>\n",
       "    <tr>\n",
       "      <th>0</th>\n",
       "      <td>Israel Abanikanda</td>\n",
       "      <td>RB</td>\n",
       "      <td>Pittsburgh</td>\n",
       "      <td>College Stats</td>\n",
       "      <td>5-10</td>\n",
       "      <td>216</td>\n",
       "      <td>0</td>\n",
       "      <td>0</td>\n",
       "      <td>0</td>\n",
       "      <td>0</td>\n",
       "      <td>0</td>\n",
       "      <td>0</td>\n",
       "      <td>2023</td>\n",
       "    </tr>\n",
       "    <tr>\n",
       "      <th>1</th>\n",
       "      <td>Yasir Abdullah</td>\n",
       "      <td>LB</td>\n",
       "      <td>Louisville</td>\n",
       "      <td>College Stats</td>\n",
       "      <td>6-1</td>\n",
       "      <td>237</td>\n",
       "      <td>4.47</td>\n",
       "      <td>36.5</td>\n",
       "      <td>0</td>\n",
       "      <td>129</td>\n",
       "      <td>0</td>\n",
       "      <td>0</td>\n",
       "      <td>2023</td>\n",
       "    </tr>\n",
       "    <tr>\n",
       "      <th>2</th>\n",
       "      <td>Devon Achane</td>\n",
       "      <td>RB</td>\n",
       "      <td>Texas A&amp;M</td>\n",
       "      <td>College Stats</td>\n",
       "      <td>5-9</td>\n",
       "      <td>188</td>\n",
       "      <td>4.32</td>\n",
       "      <td>33.0</td>\n",
       "      <td>0</td>\n",
       "      <td>0</td>\n",
       "      <td>0</td>\n",
       "      <td>0</td>\n",
       "      <td>2023</td>\n",
       "    </tr>\n",
       "    <tr>\n",
       "      <th>3</th>\n",
       "      <td>Jordan Addison</td>\n",
       "      <td>WR</td>\n",
       "      <td>USC</td>\n",
       "      <td>College Stats</td>\n",
       "      <td>5-11</td>\n",
       "      <td>173</td>\n",
       "      <td>4.49</td>\n",
       "      <td>34.0</td>\n",
       "      <td>0</td>\n",
       "      <td>122</td>\n",
       "      <td>0</td>\n",
       "      <td>0</td>\n",
       "      <td>2023</td>\n",
       "    </tr>\n",
       "    <tr>\n",
       "      <th>4</th>\n",
       "      <td>Adetomiwa Adebawore</td>\n",
       "      <td>DE</td>\n",
       "      <td>Northwestern</td>\n",
       "      <td>College Stats</td>\n",
       "      <td>6-2</td>\n",
       "      <td>282</td>\n",
       "      <td>4.49</td>\n",
       "      <td>37.5</td>\n",
       "      <td>27</td>\n",
       "      <td>125</td>\n",
       "      <td>0</td>\n",
       "      <td>0</td>\n",
       "      <td>2023</td>\n",
       "    </tr>\n",
       "  </tbody>\n",
       "</table>\n",
       "</div>"
      ],
      "text/plain": [
       "                Player Pos        School        College    Ht   Wt  40yd  \\\n",
       "0    Israel Abanikanda  RB    Pittsburgh  College Stats  5-10  216     0   \n",
       "1       Yasir Abdullah  LB    Louisville  College Stats   6-1  237  4.47   \n",
       "2         Devon Achane  RB     Texas A&M  College Stats   5-9  188  4.32   \n",
       "3       Jordan Addison  WR           USC  College Stats  5-11  173  4.49   \n",
       "4  Adetomiwa Adebawore  DE  Northwestern  College Stats   6-2  282  4.49   \n",
       "\n",
       "  Vertical Bench Broad Jump 3Cone Shuttle Drafted (tm/rnd/yr)  \n",
       "0        0     0          0     0       0                2023  \n",
       "1     36.5     0        129     0       0                2023  \n",
       "2     33.0     0          0     0       0                2023  \n",
       "3     34.0     0        122     0       0                2023  \n",
       "4     37.5    27        125     0       0                2023  "
      ]
     },
     "execution_count": 20,
     "metadata": {},
     "output_type": "execute_result"
    }
   ],
   "source": [
    "url = 'https://www.pro-football-reference.com/draft/2022-combine.htm'\n",
    "df_2022 = comb_df(url,2022)\n",
    "df_combine = df_combine.append(df_2022)\n",
    "df_combine.head()"
   ]
  },
  {
   "cell_type": "markdown",
   "id": "44792677",
   "metadata": {},
   "source": [
    "**Create Dataframe to hold all rows from NFL Combines 2015 thru 2022**"
   ]
  },
  {
   "cell_type": "code",
   "execution_count": 21,
   "id": "f7ee6d8e",
   "metadata": {},
   "outputs": [],
   "source": [
    "df_combine = df_combine[df_combine['Pos'] != 'Pos']"
   ]
  },
  {
   "cell_type": "code",
   "execution_count": 22,
   "id": "0ab4af06",
   "metadata": {},
   "outputs": [
    {
     "data": {
      "text/html": [
       "<div>\n",
       "<style scoped>\n",
       "    .dataframe tbody tr th:only-of-type {\n",
       "        vertical-align: middle;\n",
       "    }\n",
       "\n",
       "    .dataframe tbody tr th {\n",
       "        vertical-align: top;\n",
       "    }\n",
       "\n",
       "    .dataframe thead th {\n",
       "        text-align: right;\n",
       "    }\n",
       "</style>\n",
       "<table border=\"1\" class=\"dataframe\">\n",
       "  <thead>\n",
       "    <tr style=\"text-align: right;\">\n",
       "      <th></th>\n",
       "      <th>Player</th>\n",
       "      <th>Pos</th>\n",
       "      <th>School</th>\n",
       "      <th>College</th>\n",
       "      <th>Ht</th>\n",
       "      <th>Wt</th>\n",
       "      <th>40yd</th>\n",
       "      <th>Vertical</th>\n",
       "      <th>Bench</th>\n",
       "      <th>Broad Jump</th>\n",
       "      <th>3Cone</th>\n",
       "      <th>Shuttle</th>\n",
       "      <th>Drafted (tm/rnd/yr)</th>\n",
       "    </tr>\n",
       "  </thead>\n",
       "  <tbody>\n",
       "    <tr>\n",
       "      <th>325</th>\n",
       "      <td>Devonte Wyatt</td>\n",
       "      <td>DT</td>\n",
       "      <td>Georgia</td>\n",
       "      <td>College Stats</td>\n",
       "      <td>6-3</td>\n",
       "      <td>304</td>\n",
       "      <td>4.77</td>\n",
       "      <td>29.0</td>\n",
       "      <td>0</td>\n",
       "      <td>111</td>\n",
       "      <td>0</td>\n",
       "      <td>0</td>\n",
       "      <td>Green Bay Packers / 1st / 28th pick / 2022</td>\n",
       "    </tr>\n",
       "    <tr>\n",
       "      <th>326</th>\n",
       "      <td>Jalen Wydermyer</td>\n",
       "      <td>TE</td>\n",
       "      <td>Texas A&amp;M</td>\n",
       "      <td>College Stats</td>\n",
       "      <td>6-4</td>\n",
       "      <td>255</td>\n",
       "      <td>0</td>\n",
       "      <td>0</td>\n",
       "      <td>0</td>\n",
       "      <td>0</td>\n",
       "      <td>0</td>\n",
       "      <td>0</td>\n",
       "      <td>2022</td>\n",
       "    </tr>\n",
       "    <tr>\n",
       "      <th>327</th>\n",
       "      <td>Cade York</td>\n",
       "      <td>K</td>\n",
       "      <td>LSU</td>\n",
       "      <td>College Stats</td>\n",
       "      <td>6-1</td>\n",
       "      <td>206</td>\n",
       "      <td>0</td>\n",
       "      <td>0</td>\n",
       "      <td>12</td>\n",
       "      <td>0</td>\n",
       "      <td>0</td>\n",
       "      <td>0</td>\n",
       "      <td>Cleveland Browns / 4th / 124th pick / 2022</td>\n",
       "    </tr>\n",
       "    <tr>\n",
       "      <th>328</th>\n",
       "      <td>Nick Zakelj</td>\n",
       "      <td>OT</td>\n",
       "      <td>Fordham</td>\n",
       "      <td>NaN</td>\n",
       "      <td>6-6</td>\n",
       "      <td>316</td>\n",
       "      <td>5.13</td>\n",
       "      <td>28.5</td>\n",
       "      <td>27</td>\n",
       "      <td>110</td>\n",
       "      <td>7.75</td>\n",
       "      <td>4.71</td>\n",
       "      <td>San Francisco 49ers / 6th / 187th pick / 2022</td>\n",
       "    </tr>\n",
       "    <tr>\n",
       "      <th>329</th>\n",
       "      <td>Bailey Zappe</td>\n",
       "      <td>QB</td>\n",
       "      <td>Western Kentucky</td>\n",
       "      <td>College Stats</td>\n",
       "      <td>6-1</td>\n",
       "      <td>215</td>\n",
       "      <td>4.88</td>\n",
       "      <td>30.0</td>\n",
       "      <td>0</td>\n",
       "      <td>109</td>\n",
       "      <td>7.19</td>\n",
       "      <td>4.40</td>\n",
       "      <td>New England Patriots / 4th / 137th pick / 2022</td>\n",
       "    </tr>\n",
       "  </tbody>\n",
       "</table>\n",
       "</div>"
      ],
      "text/plain": [
       "              Player Pos            School        College   Ht   Wt  40yd  \\\n",
       "325    Devonte Wyatt  DT           Georgia  College Stats  6-3  304  4.77   \n",
       "326  Jalen Wydermyer  TE         Texas A&M  College Stats  6-4  255     0   \n",
       "327        Cade York   K               LSU  College Stats  6-1  206     0   \n",
       "328      Nick Zakelj  OT           Fordham            NaN  6-6  316  5.13   \n",
       "329     Bailey Zappe  QB  Western Kentucky  College Stats  6-1  215  4.88   \n",
       "\n",
       "    Vertical Bench Broad Jump 3Cone Shuttle  \\\n",
       "325     29.0     0        111     0       0   \n",
       "326        0     0          0     0       0   \n",
       "327        0    12          0     0       0   \n",
       "328     28.5    27        110  7.75    4.71   \n",
       "329     30.0     0        109  7.19    4.40   \n",
       "\n",
       "                                Drafted (tm/rnd/yr)  \n",
       "325      Green Bay Packers / 1st / 28th pick / 2022  \n",
       "326                                            2022  \n",
       "327      Cleveland Browns / 4th / 124th pick / 2022  \n",
       "328   San Francisco 49ers / 6th / 187th pick / 2022  \n",
       "329  New England Patriots / 4th / 137th pick / 2022  "
      ]
     },
     "execution_count": 22,
     "metadata": {},
     "output_type": "execute_result"
    }
   ],
   "source": [
    "df_combine.tail(5)"
   ]
  },
  {
   "cell_type": "markdown",
   "id": "cfc74620",
   "metadata": {},
   "source": [
    "**Import 2021 combine results.** \n",
    "***Note: 2021 Combine was cancelled due to pandemic. Results of players pro days was used***"
   ]
  },
  {
   "cell_type": "code",
   "execution_count": 23,
   "id": "9ed924aa",
   "metadata": {},
   "outputs": [],
   "source": [
    "# 2021 NFL Combine Results\n",
    "url = 'https://www.pro-football-reference.com/draft/2019-combine.htm'\n",
    "df_2021 = comb_df(url,2021)\n",
    "df_2021.head(5)\n",
    "\n",
    "\n",
    "df_combine = df_combine.append(df_2021)"
   ]
  },
  {
   "cell_type": "code",
   "execution_count": 24,
   "id": "0d6d28ac",
   "metadata": {},
   "outputs": [],
   "source": [
    "df_2021 = df_2021[df_2021['Pos'] != 'Pos']"
   ]
  },
  {
   "cell_type": "code",
   "execution_count": 25,
   "id": "d679476f",
   "metadata": {},
   "outputs": [
    {
     "data": {
      "text/html": [
       "<div>\n",
       "<style scoped>\n",
       "    .dataframe tbody tr th:only-of-type {\n",
       "        vertical-align: middle;\n",
       "    }\n",
       "\n",
       "    .dataframe tbody tr th {\n",
       "        vertical-align: top;\n",
       "    }\n",
       "\n",
       "    .dataframe thead th {\n",
       "        text-align: right;\n",
       "    }\n",
       "</style>\n",
       "<table border=\"1\" class=\"dataframe\">\n",
       "  <thead>\n",
       "    <tr style=\"text-align: right;\">\n",
       "      <th></th>\n",
       "      <th>Player</th>\n",
       "      <th>Pos</th>\n",
       "      <th>School</th>\n",
       "      <th>College</th>\n",
       "      <th>Ht</th>\n",
       "      <th>Wt</th>\n",
       "      <th>40yd</th>\n",
       "      <th>Vertical</th>\n",
       "      <th>Bench</th>\n",
       "      <th>Broad Jump</th>\n",
       "      <th>3Cone</th>\n",
       "      <th>Shuttle</th>\n",
       "      <th>Drafted (tm/rnd/yr)</th>\n",
       "    </tr>\n",
       "  </thead>\n",
       "  <tbody>\n",
       "    <tr>\n",
       "      <th>0</th>\n",
       "      <td>Johnathan Abram</td>\n",
       "      <td>S</td>\n",
       "      <td>Mississippi State</td>\n",
       "      <td>College Stats</td>\n",
       "      <td>5-11</td>\n",
       "      <td>205</td>\n",
       "      <td>4.45</td>\n",
       "      <td>0</td>\n",
       "      <td>0</td>\n",
       "      <td>116</td>\n",
       "      <td>0</td>\n",
       "      <td>0</td>\n",
       "      <td>Oakland Raiders / 1st / 27th pick / 2019</td>\n",
       "    </tr>\n",
       "    <tr>\n",
       "      <th>1</th>\n",
       "      <td>Paul Adams</td>\n",
       "      <td>OT</td>\n",
       "      <td>Missouri</td>\n",
       "      <td>College Stats</td>\n",
       "      <td>6-6</td>\n",
       "      <td>317</td>\n",
       "      <td>5.18</td>\n",
       "      <td>27.0</td>\n",
       "      <td>16</td>\n",
       "      <td>103</td>\n",
       "      <td>7.68</td>\n",
       "      <td>4.74</td>\n",
       "      <td>2021</td>\n",
       "    </tr>\n",
       "    <tr>\n",
       "      <th>2</th>\n",
       "      <td>Nasir Adderley</td>\n",
       "      <td>S</td>\n",
       "      <td>Delaware</td>\n",
       "      <td>NaN</td>\n",
       "      <td>6-0</td>\n",
       "      <td>206</td>\n",
       "      <td>0</td>\n",
       "      <td>0</td>\n",
       "      <td>0</td>\n",
       "      <td>0</td>\n",
       "      <td>0</td>\n",
       "      <td>0</td>\n",
       "      <td>Los Angeles Chargers / 2nd / 60th pick / 2019</td>\n",
       "    </tr>\n",
       "    <tr>\n",
       "      <th>3</th>\n",
       "      <td>Azeez Al-Shaair</td>\n",
       "      <td>LB</td>\n",
       "      <td>Florida Atlantic</td>\n",
       "      <td>College Stats</td>\n",
       "      <td>6-1</td>\n",
       "      <td>234</td>\n",
       "      <td>0</td>\n",
       "      <td>0</td>\n",
       "      <td>16</td>\n",
       "      <td>0</td>\n",
       "      <td>0</td>\n",
       "      <td>0</td>\n",
       "      <td>2021</td>\n",
       "    </tr>\n",
       "    <tr>\n",
       "      <th>4</th>\n",
       "      <td>Otaro Alaka</td>\n",
       "      <td>LB</td>\n",
       "      <td>Texas A&amp;M</td>\n",
       "      <td>College Stats</td>\n",
       "      <td>6-3</td>\n",
       "      <td>239</td>\n",
       "      <td>4.82</td>\n",
       "      <td>36.0</td>\n",
       "      <td>20</td>\n",
       "      <td>131</td>\n",
       "      <td>0</td>\n",
       "      <td>0</td>\n",
       "      <td>2021</td>\n",
       "    </tr>\n",
       "  </tbody>\n",
       "</table>\n",
       "</div>"
      ],
      "text/plain": [
       "            Player Pos             School        College    Ht   Wt  40yd  \\\n",
       "0  Johnathan Abram   S  Mississippi State  College Stats  5-11  205  4.45   \n",
       "1       Paul Adams  OT           Missouri  College Stats   6-6  317  5.18   \n",
       "2   Nasir Adderley   S           Delaware            NaN   6-0  206     0   \n",
       "3  Azeez Al-Shaair  LB   Florida Atlantic  College Stats   6-1  234     0   \n",
       "4      Otaro Alaka  LB          Texas A&M  College Stats   6-3  239  4.82   \n",
       "\n",
       "  Vertical Bench Broad Jump 3Cone Shuttle  \\\n",
       "0        0     0        116     0       0   \n",
       "1     27.0    16        103  7.68    4.74   \n",
       "2        0     0          0     0       0   \n",
       "3        0    16          0     0       0   \n",
       "4     36.0    20        131     0       0   \n",
       "\n",
       "                             Drafted (tm/rnd/yr)  \n",
       "0       Oakland Raiders / 1st / 27th pick / 2019  \n",
       "1                                           2021  \n",
       "2  Los Angeles Chargers / 2nd / 60th pick / 2019  \n",
       "3                                           2021  \n",
       "4                                           2021  "
      ]
     },
     "execution_count": 25,
     "metadata": {},
     "output_type": "execute_result"
    }
   ],
   "source": [
    "df_2021.head(5)"
   ]
  },
  {
   "cell_type": "code",
   "execution_count": 26,
   "id": "72b5bd1f",
   "metadata": {},
   "outputs": [],
   "source": [
    "df_combine = df_combine.append(df_2021)"
   ]
  },
  {
   "cell_type": "markdown",
   "id": "73eec375",
   "metadata": {},
   "source": [
    "**Import 2020 combine results.**"
   ]
  },
  {
   "cell_type": "code",
   "execution_count": 27,
   "id": "bfc58b30",
   "metadata": {},
   "outputs": [],
   "source": [
    "# 2020 NFL Combine Results\n",
    "url = 'https://www.pro-football-reference.com/draft/2019-combine.htm'\n",
    "df_2020 = comb_df(url,2020)\n",
    "df_2020 = df_2020[df_2020['Pos'] != 'Pos']\n",
    "df_combine = df_combine.append(df_2020)"
   ]
  },
  {
   "cell_type": "markdown",
   "id": "663efd2e",
   "metadata": {},
   "source": [
    "***Import 2019 combine results***"
   ]
  },
  {
   "cell_type": "code",
   "execution_count": 28,
   "id": "1aea7c53",
   "metadata": {},
   "outputs": [],
   "source": [
    "# 2019 NFL Combine Results\n",
    "url = 'https://www.pro-football-reference.com/draft/2019-combine.htm'\n",
    "df_2019 = comb_df(url,2019)\n",
    "df_2019 = df_2019[df_2019['Pos'] != 'Pos']\n",
    "df_combine = df_combine.append(df_2019)"
   ]
  },
  {
   "cell_type": "markdown",
   "id": "a9e4268b",
   "metadata": {},
   "source": [
    "***Import 2018 combine results and append to combine dataframe***"
   ]
  },
  {
   "cell_type": "code",
   "execution_count": 29,
   "id": "b33e199e",
   "metadata": {},
   "outputs": [],
   "source": [
    "# 2018 NFL Combine Results\n",
    "url = 'https://www.pro-football-reference.com/draft/2018-combine.htm'\n",
    "df_2018 = comb_df(url,2018)\n",
    "df_2018 = df_2018[df_2018['Pos'] != 'Pos']\n",
    "df_combine = df_combine.append(df_2018)\n"
   ]
  },
  {
   "cell_type": "markdown",
   "id": "d94932e3",
   "metadata": {},
   "source": [
    "***Import 2017 combine results and append to combine dataframe***"
   ]
  },
  {
   "cell_type": "code",
   "execution_count": 30,
   "id": "8e539a85",
   "metadata": {},
   "outputs": [],
   "source": [
    "# 2017 NFL Combine Results\n",
    "url = 'https://www.pro-football-reference.com/draft/2017-combine.htm'\n",
    "df_2017 = comb_df(url,2017)\n",
    "df_2017 = df_2017[df_2017['Pos'] != 'Pos']\n",
    "df_combine = df_combine.append(df_2017)"
   ]
  },
  {
   "cell_type": "markdown",
   "id": "d1e48fc4",
   "metadata": {},
   "source": [
    "***Import 2016 combine results and append to combine dataframe***"
   ]
  },
  {
   "cell_type": "code",
   "execution_count": 31,
   "id": "b5cedefc",
   "metadata": {},
   "outputs": [],
   "source": [
    "# 2016 NFL Combine Results\n",
    "url = 'https://www.pro-football-reference.com/draft/2016-combine.htm'\n",
    "df_2016 = comb_df(url,2016)\n",
    "df_2016 = df_2016[df_2016['Pos'] != 'Pos']\n",
    "df_combine = df_combine.append(df_2016)"
   ]
  },
  {
   "cell_type": "markdown",
   "id": "ec9016da",
   "metadata": {},
   "source": [
    "**Import 2015 combine results and append to combine dataframe**"
   ]
  },
  {
   "cell_type": "code",
   "execution_count": 32,
   "id": "8e635b89",
   "metadata": {},
   "outputs": [],
   "source": [
    "# 2015 NFL Combine Results\n",
    "url = 'https://www.pro-football-reference.com/draft/2015-combine.htm'\n",
    "df_2015 = comb_df(url,2015)\n",
    "df_2015 = df_2015[df_2015['Pos'] != 'Pos']\n",
    "df_combine = df_combine.append(df_2015)"
   ]
  },
  {
   "cell_type": "markdown",
   "id": "965726d3",
   "metadata": {},
   "source": [
    "**Encode school name as a number using Ordinal encoder function**"
   ]
  },
  {
   "cell_type": "code",
   "execution_count": 33,
   "id": "d674d2eb",
   "metadata": {},
   "outputs": [],
   "source": [
    "enc = OrdinalEncoder()\n",
    "enc.fit(df_combine[['School']])\n",
    "df_combine[['School']] = enc.transform(df_combine[['School']])"
   ]
  },
  {
   "cell_type": "markdown",
   "id": "5f446446",
   "metadata": {},
   "source": [
    "**Split column 'Drafted (tm/rnd/yr)' into 4 columns - Team, Round, Pick and Year**"
   ]
  },
  {
   "cell_type": "code",
   "execution_count": 34,
   "id": "f64bdcd4",
   "metadata": {},
   "outputs": [],
   "source": [
    "df_combine[['Team', 'Round','Pick', 'Year']] = df_combine['Drafted (tm/rnd/yr)'].str.split('/', expand=True)\n",
    "df_combine = df_combine.drop(columns=['Drafted (tm/rnd/yr)'],)"
   ]
  },
  {
   "cell_type": "markdown",
   "id": "0e042328",
   "metadata": {},
   "source": [
    "**Drop suffix on round number leaving just round player drafted in.  0 = not drafted.**"
   ]
  },
  {
   "cell_type": "code",
   "execution_count": 35,
   "id": "95cd79ac",
   "metadata": {},
   "outputs": [],
   "source": [
    "\n",
    "char_to_replace = {'nd ' : '', 'st ':'','rd ':'','th ':'', 'pick ':''}\n",
    "for key, value in char_to_replace.items():\n",
    "    df_combine['Pick'] = df_combine['Pick'].str.replace(key,value)  \n",
    "for key, value in char_to_replace.items():\n",
    "    df_combine['Round'] = df_combine['Round'].str.replace(key,value)\n",
    "df_combine.update(df_combine[['Team']].fillna('None'))   \n",
    "df_combine.update(df_combine[['Round','Pick','Year']].fillna(0))"
   ]
  },
  {
   "cell_type": "markdown",
   "id": "2e7294fa",
   "metadata": {},
   "source": [
    "**Remove any title rows interspersed in dataframe**"
   ]
  },
  {
   "cell_type": "code",
   "execution_count": 36,
   "id": "1550d5cc",
   "metadata": {},
   "outputs": [],
   "source": [
    "df_combine = df_combine[df_combine['Pos'] != 'Pos']"
   ]
  },
  {
   "cell_type": "markdown",
   "id": "58d63f2b",
   "metadata": {},
   "source": [
    "**Convert positions from character to numeric**"
   ]
  },
  {
   "cell_type": "code",
   "execution_count": 37,
   "id": "ad6d4643",
   "metadata": {},
   "outputs": [],
   "source": [
    "conditions = [\n",
    "    (df_combine['Pos'] == 'S'),\n",
    "    (df_combine['Pos'] == 'OT'),\n",
    "    (df_combine['Pos'] == 'LB'),\n",
    "    (df_combine['Pos'] == 'EDGE'),\n",
    "    (df_combine['Pos'] == 'DL'),\n",
    "    (df_combine['Pos'] == 'RB'),\n",
    "    (df_combine['Pos'] == 'WR'),\n",
    "    (df_combine['Pos'] == 'CB'),\n",
    "    (df_combine['Pos'] == 'P'),\n",
    "    (df_combine['Pos'] == 'OL'),\n",
    "    (df_combine['Pos'] == 'TE'),\n",
    "    (df_combine['Pos'] == 'QB'),\n",
    "    (df_combine['Pos'] == 'K'),\n",
    "    (df_combine['Pos'] == 'LS'),\n",
    "    (df_combine['Pos'] == 'FB'),\n",
    "    (df_combine['Pos'] == 'C'),\n",
    "    (df_combine['Pos'] == 'DE'),\n",
    "    (df_combine['Pos'] == 'DT'),\n",
    "    (df_combine['Pos'] == 'ILB'),\n",
    "    (df_combine['Pos'] == 'OLB'),\n",
    "    (df_combine['Pos'] == 'OG'),\n",
    "    (df_combine['Pos'] == 'DB')\n",
    "]\n",
    "choices = [1,2,3,4,5,6,7,8,9,10,11,12,13,14,15,16,17,18,19,20,21,22]\n",
    "df_combine['Pos'] = np.select(conditions,choices, default=0)"
   ]
  },
  {
   "cell_type": "markdown",
   "id": "c7aba67e",
   "metadata": {},
   "source": [
    "**Split Height into 2 separate columns 1 for feet 1 for inches so 6-2 becomes 2 separate columns 6 2**"
   ]
  },
  {
   "cell_type": "code",
   "execution_count": 38,
   "id": "7895f8e8",
   "metadata": {},
   "outputs": [],
   "source": [
    "df_combine[['Feet', 'Inches']] = df_combine['Ht'].str.split('-', expand=True)\n",
    "df_combine[\"Feet\"] = pd.to_numeric(df_combine[\"Feet\"])\n",
    "df_combine[\"Inches\"] = pd.to_numeric(df_combine[\"Inches\"])"
   ]
  },
  {
   "cell_type": "markdown",
   "id": "8c55ffb3",
   "metadata": {},
   "source": [
    "**Multiply feet by 12 to convert feet to inches. Add feet converted to inches to inches to get height in inches**"
   ]
  },
  {
   "cell_type": "code",
   "execution_count": 39,
   "id": "0ddcb4e2",
   "metadata": {},
   "outputs": [],
   "source": [
    "df_combine[\"Feet\"] = df_combine[\"Feet\"] * 12\n",
    "df_combine['Ht'] = df_combine[\"Feet\"] + df_combine[\"Inches\"]\n",
    "df_combine = df_combine.drop(columns=['Feet','Inches'])"
   ]
  },
  {
   "cell_type": "markdown",
   "id": "3b45820e",
   "metadata": {},
   "source": [
    "**Convert all columns to numeric and fill in any missing values with 0**"
   ]
  },
  {
   "cell_type": "code",
   "execution_count": 40,
   "id": "d46805df",
   "metadata": {},
   "outputs": [],
   "source": [
    "df_combine[\"Pos\"] = pd.to_numeric(df_combine[\"Pos\"])\n",
    "df_combine[\"Wt\"] = pd.to_numeric(df_combine[\"Wt\"])\n",
    "df_combine[\"40yd\"] = pd.to_numeric(df_combine[\"40yd\"])\n",
    "df_combine[\"Vertical\"] = pd.to_numeric(df_combine[\"Vertical\"])\n",
    "df_combine[\"Bench\"] = pd.to_numeric(df_combine[\"Bench\"])\n",
    "df_combine[\"Broad Jump\"] = pd.to_numeric(df_combine[\"Broad Jump\"])\n",
    "df_combine[\"3Cone\"] = pd.to_numeric(df_combine[\"3Cone\"])\n",
    "df_combine[\"Shuttle\"] = pd.to_numeric(df_combine[\"Shuttle\"])\n",
    "df_combine[\"Round\"] = pd.to_numeric(df_combine[\"Round\"])\n",
    "df_combine[\"Pick\"] = pd.to_numeric(df_combine[\"Pick\"])\n",
    "df_combine[\"Year\"] = pd.to_numeric(df_combine[\"Year\"])\n",
    "df_combine = df_combine.fillna(0)"
   ]
  },
  {
   "cell_type": "markdown",
   "id": "31a1882b",
   "metadata": {},
   "source": [
    "**populate drafted column with 0 where Round = 0 otherwise populate it with 1 if it has a value greater than 0.**\n",
    "**drop columns"
   ]
  },
  {
   "cell_type": "code",
   "execution_count": 41,
   "id": "513ffdfa",
   "metadata": {},
   "outputs": [],
   "source": [
    "df_combine['Drafted'] = np.where(df_combine['Round']!= 0, 1, 0)\n",
    "df_combine1 = df_combine\n",
    "df_combine1 = df_combine1.drop(columns=['Player','College','Team','Round','Year','Pick'])"
   ]
  },
  {
   "cell_type": "markdown",
   "id": "be7415fd",
   "metadata": {},
   "source": [
    "**Describe dataframe of 2015 thru 2021 draft**"
   ]
  },
  {
   "cell_type": "code",
   "execution_count": 42,
   "id": "782da3eb",
   "metadata": {},
   "outputs": [
    {
     "data": {
      "text/html": [
       "<div>\n",
       "<style scoped>\n",
       "    .dataframe tbody tr th:only-of-type {\n",
       "        vertical-align: middle;\n",
       "    }\n",
       "\n",
       "    .dataframe tbody tr th {\n",
       "        vertical-align: top;\n",
       "    }\n",
       "\n",
       "    .dataframe thead th {\n",
       "        text-align: right;\n",
       "    }\n",
       "</style>\n",
       "<table border=\"1\" class=\"dataframe\">\n",
       "  <thead>\n",
       "    <tr style=\"text-align: right;\">\n",
       "      <th></th>\n",
       "      <th>Pos</th>\n",
       "      <th>School</th>\n",
       "      <th>Ht</th>\n",
       "      <th>Wt</th>\n",
       "      <th>40yd</th>\n",
       "      <th>Vertical</th>\n",
       "      <th>Bench</th>\n",
       "      <th>Broad Jump</th>\n",
       "      <th>3Cone</th>\n",
       "      <th>Shuttle</th>\n",
       "      <th>Drafted</th>\n",
       "    </tr>\n",
       "  </thead>\n",
       "  <tbody>\n",
       "    <tr>\n",
       "      <th>count</th>\n",
       "      <td>3304.000000</td>\n",
       "      <td>3304.000000</td>\n",
       "      <td>3304.000000</td>\n",
       "      <td>3304.000000</td>\n",
       "      <td>3304.000000</td>\n",
       "      <td>3304.000000</td>\n",
       "      <td>3304.000000</td>\n",
       "      <td>3304.000000</td>\n",
       "      <td>3304.000000</td>\n",
       "      <td>3304.000000</td>\n",
       "      <td>3304.000000</td>\n",
       "    </tr>\n",
       "    <tr>\n",
       "      <th>mean</th>\n",
       "      <td>8.493039</td>\n",
       "      <td>126.158596</td>\n",
       "      <td>74.018160</td>\n",
       "      <td>241.836259</td>\n",
       "      <td>3.852352</td>\n",
       "      <td>25.705357</td>\n",
       "      <td>12.848668</td>\n",
       "      <td>89.994855</td>\n",
       "      <td>3.954897</td>\n",
       "      <td>2.537561</td>\n",
       "      <td>0.590799</td>\n",
       "    </tr>\n",
       "    <tr>\n",
       "      <th>std</th>\n",
       "      <td>5.706672</td>\n",
       "      <td>73.396086</td>\n",
       "      <td>2.602481</td>\n",
       "      <td>44.825245</td>\n",
       "      <td>1.875964</td>\n",
       "      <td>14.266833</td>\n",
       "      <td>10.590302</td>\n",
       "      <td>49.824132</td>\n",
       "      <td>3.638804</td>\n",
       "      <td>2.190482</td>\n",
       "      <td>0.491761</td>\n",
       "    </tr>\n",
       "    <tr>\n",
       "      <th>min</th>\n",
       "      <td>1.000000</td>\n",
       "      <td>0.000000</td>\n",
       "      <td>65.000000</td>\n",
       "      <td>156.000000</td>\n",
       "      <td>0.000000</td>\n",
       "      <td>0.000000</td>\n",
       "      <td>0.000000</td>\n",
       "      <td>0.000000</td>\n",
       "      <td>0.000000</td>\n",
       "      <td>0.000000</td>\n",
       "      <td>0.000000</td>\n",
       "    </tr>\n",
       "    <tr>\n",
       "      <th>25%</th>\n",
       "      <td>4.000000</td>\n",
       "      <td>66.000000</td>\n",
       "      <td>72.000000</td>\n",
       "      <td>205.000000</td>\n",
       "      <td>4.420000</td>\n",
       "      <td>25.000000</td>\n",
       "      <td>0.000000</td>\n",
       "      <td>97.000000</td>\n",
       "      <td>0.000000</td>\n",
       "      <td>0.000000</td>\n",
       "      <td>0.000000</td>\n",
       "    </tr>\n",
       "    <tr>\n",
       "      <th>50%</th>\n",
       "      <td>7.000000</td>\n",
       "      <td>120.000000</td>\n",
       "      <td>74.000000</td>\n",
       "      <td>230.000000</td>\n",
       "      <td>4.590000</td>\n",
       "      <td>31.500000</td>\n",
       "      <td>15.000000</td>\n",
       "      <td>115.000000</td>\n",
       "      <td>6.810000</td>\n",
       "      <td>4.140000</td>\n",
       "      <td>1.000000</td>\n",
       "    </tr>\n",
       "    <tr>\n",
       "      <th>75%</th>\n",
       "      <td>11.000000</td>\n",
       "      <td>198.250000</td>\n",
       "      <td>76.000000</td>\n",
       "      <td>278.250000</td>\n",
       "      <td>4.870000</td>\n",
       "      <td>35.000000</td>\n",
       "      <td>21.000000</td>\n",
       "      <td>121.000000</td>\n",
       "      <td>7.210000</td>\n",
       "      <td>4.400000</td>\n",
       "      <td>1.000000</td>\n",
       "    </tr>\n",
       "    <tr>\n",
       "      <th>max</th>\n",
       "      <td>22.000000</td>\n",
       "      <td>249.000000</td>\n",
       "      <td>82.000000</td>\n",
       "      <td>384.000000</td>\n",
       "      <td>5.850000</td>\n",
       "      <td>45.000000</td>\n",
       "      <td>42.000000</td>\n",
       "      <td>147.000000</td>\n",
       "      <td>8.720000</td>\n",
       "      <td>5.380000</td>\n",
       "      <td>1.000000</td>\n",
       "    </tr>\n",
       "  </tbody>\n",
       "</table>\n",
       "</div>"
      ],
      "text/plain": [
       "               Pos       School           Ht           Wt         40yd  \\\n",
       "count  3304.000000  3304.000000  3304.000000  3304.000000  3304.000000   \n",
       "mean      8.493039   126.158596    74.018160   241.836259     3.852352   \n",
       "std       5.706672    73.396086     2.602481    44.825245     1.875964   \n",
       "min       1.000000     0.000000    65.000000   156.000000     0.000000   \n",
       "25%       4.000000    66.000000    72.000000   205.000000     4.420000   \n",
       "50%       7.000000   120.000000    74.000000   230.000000     4.590000   \n",
       "75%      11.000000   198.250000    76.000000   278.250000     4.870000   \n",
       "max      22.000000   249.000000    82.000000   384.000000     5.850000   \n",
       "\n",
       "          Vertical        Bench   Broad Jump        3Cone      Shuttle  \\\n",
       "count  3304.000000  3304.000000  3304.000000  3304.000000  3304.000000   \n",
       "mean     25.705357    12.848668    89.994855     3.954897     2.537561   \n",
       "std      14.266833    10.590302    49.824132     3.638804     2.190482   \n",
       "min       0.000000     0.000000     0.000000     0.000000     0.000000   \n",
       "25%      25.000000     0.000000    97.000000     0.000000     0.000000   \n",
       "50%      31.500000    15.000000   115.000000     6.810000     4.140000   \n",
       "75%      35.000000    21.000000   121.000000     7.210000     4.400000   \n",
       "max      45.000000    42.000000   147.000000     8.720000     5.380000   \n",
       "\n",
       "           Drafted  \n",
       "count  3304.000000  \n",
       "mean      0.590799  \n",
       "std       0.491761  \n",
       "min       0.000000  \n",
       "25%       0.000000  \n",
       "50%       1.000000  \n",
       "75%       1.000000  \n",
       "max       1.000000  "
      ]
     },
     "execution_count": 42,
     "metadata": {},
     "output_type": "execute_result"
    }
   ],
   "source": [
    "#describe dataframe of 2015 thru 2021 draft\n",
    "df_combine1.describe()"
   ]
  },
  {
   "cell_type": "markdown",
   "id": "8a0c0ede",
   "metadata": {},
   "source": [
    "**Create Correlation Matrix of fields** "
   ]
  },
  {
   "cell_type": "code",
   "execution_count": 43,
   "id": "ee1459bb",
   "metadata": {
    "scrolled": true
   },
   "outputs": [
    {
     "name": "stdout",
     "output_type": "stream",
     "text": [
      "                 Pos    School        Ht        Wt      40yd  Vertical  \\\n",
      "Broad Jump -0.044213  0.053828 -0.054988 -0.101551  0.471218  0.862780   \n",
      "Vertical   -0.041734  0.037340 -0.084989 -0.145540  0.468963  1.000000   \n",
      "Drafted    -0.007165  0.014247  0.032067  0.085726  0.118650  0.101696   \n",
      "School      0.011652  1.000000  0.025518  0.013900  0.063470  0.037340   \n",
      "Bench       0.019725  0.053829  0.100249  0.321691  0.166221  0.142608   \n",
      "Shuttle     0.076004  0.063228  0.173553  0.209715  0.398940  0.497265   \n",
      "3Cone       0.077447  0.050140  0.167197  0.201564  0.381759  0.464731   \n",
      "40yd        0.112659  0.063470  0.038021  0.097064  1.000000  0.468963   \n",
      "Ht          0.141321  0.025518  1.000000  0.705810  0.038021 -0.084989   \n",
      "Wt          0.212061  0.013900  0.705810  1.000000  0.097064 -0.145540   \n",
      "Pos         1.000000  0.011652  0.141321  0.212061  0.112659 -0.041734   \n",
      "\n",
      "               Bench  Broad Jump     3Cone   Shuttle   Drafted  \n",
      "Broad Jump  0.159335    1.000000  0.486419  0.508969  0.083840  \n",
      "Vertical    0.142608    0.862780  0.464731  0.497265  0.101696  \n",
      "Drafted     0.145823    0.083840  0.122096  0.117806  1.000000  \n",
      "School      0.053829    0.053828  0.050140  0.063228  0.014247  \n",
      "Bench       1.000000    0.159335  0.258207  0.259637  0.145823  \n",
      "Shuttle     0.259637    0.508969  0.872891  1.000000  0.117806  \n",
      "3Cone       0.258207    0.486419  1.000000  0.872891  0.122096  \n",
      "40yd        0.166221    0.471218  0.381759  0.398940  0.118650  \n",
      "Ht          0.100249   -0.054988  0.167197  0.173553  0.032067  \n",
      "Wt          0.321691   -0.101551  0.201564  0.209715  0.085726  \n",
      "Pos         0.019725   -0.044213  0.077447  0.076004 -0.007165  \n"
     ]
    }
   ],
   "source": [
    "corrM = df_combine1.corr()\n",
    "corrM = corrM.sort_values(by ='Pos',ascending=True)\n",
    "print(corrM)"
   ]
  },
  {
   "cell_type": "markdown",
   "id": "77cb97d3",
   "metadata": {},
   "source": [
    "**Create Correlation Heat Map**"
   ]
  },
  {
   "cell_type": "code",
   "execution_count": 44,
   "id": "e90d005f",
   "metadata": {},
   "outputs": [
    {
     "data": {
      "image/png": "[encoded data removed]",
      "text/plain": [
       "<Figure size 864x648 with 2 Axes>"
      ]
     },
     "metadata": {
      "needs_background": "light"
     },
     "output_type": "display_data"
    }
   ],
   "source": [
    "import seaborn as sns\n",
    "import matplotlib.pyplot as plt\n",
    "\n",
    "corrmat = df_combine1.corr()\n",
    "f, ax = plt.subplots(figsize=(12, 9))\n",
    "sns.heatmap(corrmat,vmax=.8,  square=True);"
   ]
  },
  {
   "cell_type": "markdown",
   "id": "205b17ad",
   "metadata": {},
   "source": [
    "**Calculate Covariance values**"
   ]
  },
  {
   "cell_type": "code",
   "execution_count": 45,
   "id": "afc8ea12",
   "metadata": {},
   "outputs": [
    {
     "name": "stdout",
     "output_type": "stream",
     "text": [
      "                  Pos       School         Ht           Wt       40yd  \\\n",
      "Broad Jump -12.571183   196.843989  -7.130091  -226.802538  44.043945   \n",
      "Wt          54.245757    45.732001  82.337519  2009.302578   8.162205   \n",
      "Bench        1.192104    41.840235   2.762967   152.710908   3.302309   \n",
      "Vertical    -3.397828    39.099725  -3.155562   -93.075054  12.551358   \n",
      "School       4.880608  5386.985436   4.874201    45.732001   8.739015   \n",
      "Drafted     -0.020106     0.514206   0.041039     1.889683   0.109458   \n",
      "3Cone        1.608230    13.391037   1.583344    32.877148   2.605986   \n",
      "Shuttle      0.950077    10.165373   0.989372    20.591708   1.639348   \n",
      "40yd         1.206073     8.739015   0.185625     8.162205   3.519240   \n",
      "Ht           2.098825     4.874201   6.772907    82.337519   0.185625   \n",
      "Pos         32.566104     4.880608   2.098825    54.245757   1.206073   \n",
      "\n",
      "              Vertical       Bench   Broad Jump      3Cone    Shuttle  \\\n",
      "Broad Jump  613.292156   84.073396  2482.444115  88.187894  55.548307   \n",
      "Wt          -93.075054  152.710908  -226.802538  32.877148  20.591708   \n",
      "Bench        21.546678  112.154506    84.073396   9.950260   6.023019   \n",
      "Vertical    203.542511   21.546678   613.292156  24.126130  15.540159   \n",
      "School       39.099725   41.840235   196.843989  13.391037  10.165373   \n",
      "Drafted       0.713486    0.759431     2.054206   0.218480   0.126900   \n",
      "3Cone        24.126130    9.950260    88.187894  13.240892   6.957579   \n",
      "Shuttle      15.540159    6.023019    55.548307   6.957579   4.798211   \n",
      "40yd         12.551358    3.302309    44.043945   2.605986   1.639348   \n",
      "Ht           -3.155562    2.762967    -7.130091   1.583344   0.989372   \n",
      "Pos          -3.397828    1.192104   -12.571183   1.608230   0.950077   \n",
      "\n",
      "             Drafted  \n",
      "Broad Jump  2.054206  \n",
      "Wt          1.889683  \n",
      "Bench       0.759431  \n",
      "Vertical    0.713486  \n",
      "School      0.514206  \n",
      "Drafted     0.241829  \n",
      "3Cone       0.218480  \n",
      "Shuttle     0.126900  \n",
      "40yd        0.109458  \n",
      "Ht          0.041039  \n",
      "Pos        -0.020106  \n"
     ]
    }
   ],
   "source": [
    "covar1 = df_combine1.cov()\n",
    "covar1 = covar1.sort_values(by ='Drafted',ascending=False)\n",
    "print(covar1)"
   ]
  },
  {
   "cell_type": "markdown",
   "id": "f3bdac7d",
   "metadata": {},
   "source": [
    "**Create Boxplots of variables with top covariances**"
   ]
  },
  {
   "cell_type": "code",
   "execution_count": 46,
   "id": "a5de4d11",
   "metadata": {},
   "outputs": [
    {
     "data": {
      "image/png": "[encoded data removed]",
      "text/plain": [
       "<Figure size 360x360 with 1 Axes>"
      ]
     },
     "metadata": {
      "needs_background": "light"
     },
     "output_type": "display_data"
    },
    {
     "data": {
      "image/png": "[encoded data removed]",
      "text/plain": [
       "<Figure size 360x360 with 1 Axes>"
      ]
     },
     "metadata": {
      "needs_background": "light"
     },
     "output_type": "display_data"
    },
    {
     "data": {
      "image/png": "[encoded data removed]",
      "text/plain": [
       "<Figure size 360x360 with 1 Axes>"
      ]
     },
     "metadata": {
      "needs_background": "light"
     },
     "output_type": "display_data"
    }
   ],
   "source": [
    "sns.catplot(x=\"Drafted\", y=\"Broad Jump\",  kind=\"box\",data=df_combine1)\n",
    "sns.catplot(x=\"Drafted\", y=\"Wt\",  kind=\"box\",data=df_combine1)\n",
    "sns.catplot(x=\"Drafted\", y=\"Vertical\",  kind=\"box\",data=df_combine1);"
   ]
  },
  {
   "cell_type": "markdown",
   "id": "b07b0a7e",
   "metadata": {},
   "source": [
    "**Create skewness and curtosis plots**"
   ]
  },
  {
   "cell_type": "code",
   "execution_count": 47,
   "id": "20dd125a",
   "metadata": {},
   "outputs": [
    {
     "name": "stdout",
     "output_type": "stream",
     "text": [
      "Skewness: -0.369505\n",
      "Kurtosis: -1.864595\n"
     ]
    },
    {
     "data": {
      "image/png": "[encoded data removed]",
      "text/plain": [
       "<Figure size 432x288 with 1 Axes>"
      ]
     },
     "metadata": {
      "needs_background": "light"
     },
     "output_type": "display_data"
    }
   ],
   "source": [
    "df_combine1.to_csv('drafted.csv')\n",
    "sns.distplot(df_combine1['Drafted']);\n",
    "print(\"Skewness: %f\" % df_combine1['Drafted'].skew())\n",
    "print(\"Kurtosis: %f\" % df_combine1['Drafted'].kurt());"
   ]
  },
  {
   "cell_type": "markdown",
   "id": "3d1eb47b",
   "metadata": {},
   "source": [
    "**Histogram of Drafted vs Undrafted**"
   ]
  },
  {
   "cell_type": "code",
   "execution_count": 48,
   "id": "138e44c8",
   "metadata": {},
   "outputs": [
    {
     "data": {
      "image/png": "[encoded data removed]",
      "text/plain": [
       "<Figure size 432x288 with 1 Axes>"
      ]
     },
     "metadata": {},
     "output_type": "display_data"
    }
   ],
   "source": [
    "sns.set_theme(style=\"whitegrid\")\n",
    "sns.histplot(df_combine1['Drafted']);"
   ]
  },
  {
   "cell_type": "markdown",
   "id": "27560ae3",
   "metadata": {},
   "source": [
    "**Create feature and targets**"
   ]
  },
  {
   "cell_type": "code",
   "execution_count": 49,
   "id": "c5cc52e7",
   "metadata": {},
   "outputs": [],
   "source": [
    "feature_cols  = ['Pos','School','Ht','Wt','40yd','Vertical','Bench','Broad Jump','3Cone','Shuttle']\n",
    "target = df_combine1['Drafted']\n",
    "X = df_combine1[feature_cols]\n",
    "y = target"
   ]
  },
  {
   "cell_type": "markdown",
   "id": "a5e124ef",
   "metadata": {},
   "source": [
    "**Split into training and test**"
   ]
  },
  {
   "cell_type": "code",
   "execution_count": 50,
   "id": "ca58516e",
   "metadata": {},
   "outputs": [],
   "source": [
    "from sklearn.model_selection import train_test_split\n",
    "X_train,X_test,y_train,y_test=train_test_split(X,y,test_size=0.25,random_state=0)"
   ]
  },
  {
   "cell_type": "markdown",
   "id": "0f0dc557",
   "metadata": {},
   "source": [
    "**scale train and test**"
   ]
  },
  {
   "cell_type": "code",
   "execution_count": 51,
   "id": "db745d45",
   "metadata": {},
   "outputs": [],
   "source": [
    "from sklearn.preprocessing import StandardScaler\n",
    "\n",
    "sc_x = StandardScaler()\n",
    "xtrain = sc_x.fit_transform(X_train)\n",
    "xtest = sc_x.transform(X_test) \n"
   ]
  },
  {
   "cell_type": "markdown",
   "id": "12adc6ae",
   "metadata": {},
   "source": [
    "**Perform Logistic Regression to predict whether player will be drafted or not**"
   ]
  },
  {
   "cell_type": "code",
   "execution_count": 52,
   "id": "1506123a",
   "metadata": {},
   "outputs": [],
   "source": [
    "from sklearn.linear_model import LogisticRegression\n",
    "\n",
    "logreg = LogisticRegression()\n",
    "logreg.fit(xtrain,y_train)\n",
    "y_pred=logreg.predict(xtest)"
   ]
  },
  {
   "cell_type": "markdown",
   "id": "5b6156fb",
   "metadata": {},
   "source": [
    "**Confusion Matrix Calculation**"
   ]
  },
  {
   "cell_type": "code",
   "execution_count": 53,
   "id": "e8c5d84a",
   "metadata": {},
   "outputs": [
    {
     "data": {
      "text/plain": [
       "array([[ 92, 231],\n",
       "       [ 75, 428]], dtype=int64)"
      ]
     },
     "execution_count": 53,
     "metadata": {},
     "output_type": "execute_result"
    }
   ],
   "source": [
    "from sklearn import metrics\n",
    "\n",
    "cnf_matrix = metrics.confusion_matrix(y_test, y_pred)\n",
    "cnf_matrix"
   ]
  },
  {
   "cell_type": "code",
   "execution_count": 54,
   "id": "5fff0e72",
   "metadata": {},
   "outputs": [
    {
     "data": {
      "text/html": [
       "<div>\n",
       "<style scoped>\n",
       "    .dataframe tbody tr th:only-of-type {\n",
       "        vertical-align: middle;\n",
       "    }\n",
       "\n",
       "    .dataframe tbody tr th {\n",
       "        vertical-align: top;\n",
       "    }\n",
       "\n",
       "    .dataframe thead th {\n",
       "        text-align: right;\n",
       "    }\n",
       "</style>\n",
       "<table border=\"1\" class=\"dataframe\">\n",
       "  <thead>\n",
       "    <tr style=\"text-align: right;\">\n",
       "      <th>Predicted</th>\n",
       "      <th>0</th>\n",
       "      <th>1</th>\n",
       "      <th>All</th>\n",
       "    </tr>\n",
       "    <tr>\n",
       "      <th>True</th>\n",
       "      <th></th>\n",
       "      <th></th>\n",
       "      <th></th>\n",
       "    </tr>\n",
       "  </thead>\n",
       "  <tbody>\n",
       "    <tr>\n",
       "      <th>0</th>\n",
       "      <td>92</td>\n",
       "      <td>231</td>\n",
       "      <td>323</td>\n",
       "    </tr>\n",
       "    <tr>\n",
       "      <th>1</th>\n",
       "      <td>75</td>\n",
       "      <td>428</td>\n",
       "      <td>503</td>\n",
       "    </tr>\n",
       "    <tr>\n",
       "      <th>All</th>\n",
       "      <td>167</td>\n",
       "      <td>659</td>\n",
       "      <td>826</td>\n",
       "    </tr>\n",
       "  </tbody>\n",
       "</table>\n",
       "</div>"
      ],
      "text/plain": [
       "Predicted    0    1  All\n",
       "True                    \n",
       "0           92  231  323\n",
       "1           75  428  503\n",
       "All        167  659  826"
      ]
     },
     "execution_count": 54,
     "metadata": {},
     "output_type": "execute_result"
    }
   ],
   "source": [
    "pd.crosstab(y_test, y_pred, rownames=['True'], colnames=['Predicted'], margins=True)"
   ]
  },
  {
   "cell_type": "markdown",
   "id": "0382ee3e",
   "metadata": {},
   "source": [
    "**Create confusion matrix for predicted**"
   ]
  },
  {
   "cell_type": "code",
   "execution_count": 55,
   "id": "922b9155",
   "metadata": {},
   "outputs": [],
   "source": [
    "%matplotlib inline"
   ]
  },
  {
   "cell_type": "code",
   "execution_count": 56,
   "id": "42f2bfe9",
   "metadata": {},
   "outputs": [
    {
     "data": {
      "text/plain": [
       "Text(0.5, 257.44, 'Predicted label')"
      ]
     },
     "execution_count": 56,
     "metadata": {},
     "output_type": "execute_result"
    },
    {
     "data": {
      "image/png": "[encoded data removed]",
      "text/plain": [
       "<Figure size 432x288 with 2 Axes>"
      ]
     },
     "metadata": {
      "needs_background": "light"
     },
     "output_type": "display_data"
    }
   ],
   "source": [
    "\n",
    "class_names=[0,1] # name  of classes\n",
    "fig, ax = plt.subplots()\n",
    "tick_marks = np.arange(len(class_names))\n",
    "plt.xticks(tick_marks, class_names)\n",
    "plt.yticks(tick_marks, class_names)\n",
    "# create heatmap\n",
    "sns.heatmap(pd.DataFrame(cnf_matrix), annot=True, cmap=\"YlGnBu\" ,fmt='g')\n",
    "ax.xaxis.set_label_position(\"top\")\n",
    "plt.tight_layout()\n",
    "plt.title('Confusion matrix', y=1.1)\n",
    "plt.ylabel('Actual label')\n",
    "plt.xlabel('Predicted label')"
   ]
  },
  {
   "cell_type": "markdown",
   "id": "fbc936d9",
   "metadata": {},
   "source": [
    "**Print Accuracy, Precision and Recall**"
   ]
  },
  {
   "cell_type": "code",
   "execution_count": 57,
   "id": "19964f2d",
   "metadata": {},
   "outputs": [
    {
     "name": "stdout",
     "output_type": "stream",
     "text": [
      "              precision    recall  f1-score   support\n",
      "\n",
      "           0       0.55      0.28      0.38       323\n",
      "           1       0.65      0.85      0.74       503\n",
      "\n",
      "    accuracy                           0.63       826\n",
      "   macro avg       0.60      0.57      0.56       826\n",
      "weighted avg       0.61      0.63      0.60       826\n",
      "\n"
     ]
    }
   ],
   "source": [
    "# metrics.precision_score(y_test, y_pred)\n",
    "print(metrics.classification_report(y_test, y_pred))\n"
   ]
  },
  {
   "cell_type": "markdown",
   "id": "c8a00d25",
   "metadata": {},
   "source": [
    "**Calculate and plot AUC**"
   ]
  },
  {
   "cell_type": "code",
   "execution_count": 58,
   "id": "e9cfe9e1",
   "metadata": {},
   "outputs": [
    {
     "data": {
      "image/png": "[encoded data removed]",
      "text/plain": [
       "<Figure size 432x288 with 1 Axes>"
      ]
     },
     "metadata": {
      "needs_background": "light"
     },
     "output_type": "display_data"
    }
   ],
   "source": [
    "#plot AUC\n",
    "y_pred_proba = logreg.predict_proba(X_test)[::,1]\n",
    "fpr, tpr, _ = metrics.roc_curve(y_test,  y_pred_proba)\n",
    "auc = metrics.roc_auc_score(y_test, y_pred_proba)\n",
    "plt.plot(fpr,tpr,label=\"data 1, auc=\"+str(auc))\n",
    "plt.legend(loc=4)\n",
    "plt.show()"
   ]
  },
  {
   "cell_type": "markdown",
   "id": "a14a91a3",
   "metadata": {},
   "source": [
    "**Use Neural Net to calculate whether player is drafted or not**"
   ]
  },
  {
   "cell_type": "code",
   "execution_count": 59,
   "id": "7c85230d",
   "metadata": {},
   "outputs": [
    {
     "name": "stdout",
     "output_type": "stream",
     "text": [
      "Epoch 1/150\n",
      "248/248 [==============================] - 1s 1ms/step - loss: 0.6779 - accuracy: 0.5799\n",
      "Epoch 2/150\n",
      "248/248 [==============================] - 0s 1ms/step - loss: 0.6675 - accuracy: 0.5775\n",
      "Epoch 3/150\n",
      "248/248 [==============================] - 0s 1ms/step - loss: 0.6643 - accuracy: 0.5831\n",
      "Epoch 4/150\n",
      "248/248 [==============================] - 0s 1ms/step - loss: 0.6618 - accuracy: 0.5839\n",
      "Epoch 5/150\n",
      "248/248 [==============================] - 0s 1ms/step - loss: 0.6595 - accuracy: 0.5847\n",
      "Epoch 6/150\n",
      "248/248 [==============================] - 0s 1ms/step - loss: 0.6581 - accuracy: 0.5932\n",
      "Epoch 7/150\n",
      "248/248 [==============================] - 0s 1ms/step - loss: 0.6565 - accuracy: 0.6069\n",
      "Epoch 8/150\n",
      "248/248 [==============================] - 0s 1ms/step - loss: 0.6550 - accuracy: 0.6057\n",
      "Epoch 9/150\n",
      "248/248 [==============================] - 0s 1ms/step - loss: 0.6527 - accuracy: 0.6065\n",
      "Epoch 10/150\n",
      "248/248 [==============================] - 0s 1ms/step - loss: 0.6517 - accuracy: 0.6126\n",
      "Epoch 11/150\n",
      "248/248 [==============================] - 0s 1ms/step - loss: 0.6506 - accuracy: 0.6146\n",
      "Epoch 12/150\n",
      "248/248 [==============================] - 0s 1ms/step - loss: 0.6491 - accuracy: 0.6182\n",
      "Epoch 13/150\n",
      "248/248 [==============================] - 0s 1ms/step - loss: 0.6481 - accuracy: 0.6150\n",
      "Epoch 14/150\n",
      "248/248 [==============================] - 0s 2ms/step - loss: 0.6465 - accuracy: 0.6162\n",
      "Epoch 15/150\n",
      "248/248 [==============================] - 0s 2ms/step - loss: 0.6456 - accuracy: 0.6166\n",
      "Epoch 16/150\n",
      "248/248 [==============================] - 0s 1ms/step - loss: 0.6444 - accuracy: 0.6207\n",
      "Epoch 17/150\n",
      "248/248 [==============================] - 0s 2ms/step - loss: 0.6434 - accuracy: 0.6211\n",
      "Epoch 18/150\n",
      "248/248 [==============================] - 0s 1ms/step - loss: 0.6424 - accuracy: 0.6186\n",
      "Epoch 19/150\n",
      "248/248 [==============================] - 0s 1ms/step - loss: 0.6412 - accuracy: 0.6186\n",
      "Epoch 20/150\n",
      "248/248 [==============================] - 0s 1ms/step - loss: 0.6403 - accuracy: 0.6186\n",
      "Epoch 21/150\n",
      "248/248 [==============================] - 0s 1ms/step - loss: 0.6394 - accuracy: 0.6219\n",
      "Epoch 22/150\n",
      "248/248 [==============================] - 0s 1ms/step - loss: 0.6382 - accuracy: 0.6178\n",
      "Epoch 23/150\n",
      "248/248 [==============================] - 0s 1ms/step - loss: 0.6375 - accuracy: 0.6203\n",
      "Epoch 24/150\n",
      "248/248 [==============================] - 0s 1ms/step - loss: 0.6368 - accuracy: 0.6207\n",
      "Epoch 25/150\n",
      "248/248 [==============================] - 0s 1ms/step - loss: 0.6359 - accuracy: 0.6203\n",
      "Epoch 26/150\n",
      "248/248 [==============================] - 0s 1ms/step - loss: 0.6349 - accuracy: 0.6203\n",
      "Epoch 27/150\n",
      "248/248 [==============================] - 0s 1ms/step - loss: 0.6339 - accuracy: 0.6231\n",
      "Epoch 28/150\n",
      "248/248 [==============================] - 0s 1ms/step - loss: 0.6332 - accuracy: 0.6203\n",
      "Epoch 29/150\n",
      "248/248 [==============================] - 0s 1ms/step - loss: 0.6327 - accuracy: 0.6239\n",
      "Epoch 30/150\n",
      "248/248 [==============================] - 0s 1ms/step - loss: 0.6321 - accuracy: 0.6134\n",
      "Epoch 31/150\n",
      "248/248 [==============================] - 0s 1ms/step - loss: 0.6314 - accuracy: 0.6199\n",
      "Epoch 32/150\n",
      "248/248 [==============================] - 0s 1ms/step - loss: 0.6300 - accuracy: 0.6170\n",
      "Epoch 33/150\n",
      "248/248 [==============================] - 0s 1ms/step - loss: 0.6301 - accuracy: 0.6215\n",
      "Epoch 34/150\n",
      "248/248 [==============================] - 0s 1ms/step - loss: 0.6302 - accuracy: 0.6215\n",
      "Epoch 35/150\n",
      "248/248 [==============================] - 0s 1ms/step - loss: 0.6288 - accuracy: 0.6138\n",
      "Epoch 36/150\n",
      "248/248 [==============================] - 0s 1ms/step - loss: 0.6283 - accuracy: 0.6199\n",
      "Epoch 37/150\n",
      "248/248 [==============================] - 0s 1ms/step - loss: 0.6268 - accuracy: 0.6247\n",
      "Epoch 38/150\n",
      "248/248 [==============================] - 0s 1ms/step - loss: 0.6265 - accuracy: 0.6247\n",
      "Epoch 39/150\n",
      "248/248 [==============================] - 0s 1ms/step - loss: 0.6249 - accuracy: 0.6195\n",
      "Epoch 40/150\n",
      "248/248 [==============================] - 0s 1ms/step - loss: 0.6240 - accuracy: 0.6251\n",
      "Epoch 41/150\n",
      "248/248 [==============================] - 0s 1ms/step - loss: 0.6244 - accuracy: 0.6207\n",
      "Epoch 42/150\n",
      "248/248 [==============================] - 0s 1ms/step - loss: 0.6234 - accuracy: 0.6235\n",
      "Epoch 43/150\n",
      "248/248 [==============================] - 0s 1ms/step - loss: 0.6224 - accuracy: 0.6207\n",
      "Epoch 44/150\n",
      "248/248 [==============================] - 0s 1ms/step - loss: 0.6215 - accuracy: 0.6243\n",
      "Epoch 45/150\n",
      "248/248 [==============================] - 0s 1ms/step - loss: 0.6203 - accuracy: 0.6219\n",
      "Epoch 46/150\n",
      "248/248 [==============================] - 0s 1ms/step - loss: 0.6199 - accuracy: 0.6275\n",
      "Epoch 47/150\n",
      "248/248 [==============================] - 0s 1ms/step - loss: 0.6191 - accuracy: 0.6267\n",
      "Epoch 48/150\n",
      "248/248 [==============================] - 0s 1ms/step - loss: 0.6168 - accuracy: 0.6283\n",
      "Epoch 49/150\n",
      "248/248 [==============================] - 0s 1ms/step - loss: 0.6181 - accuracy: 0.6279\n",
      "Epoch 50/150\n",
      "248/248 [==============================] - 0s 1ms/step - loss: 0.6168 - accuracy: 0.6320\n",
      "Epoch 51/150\n",
      "248/248 [==============================] - 0s 2ms/step - loss: 0.6165 - accuracy: 0.6283\n",
      "Epoch 52/150\n",
      "248/248 [==============================] - 0s 1ms/step - loss: 0.6150 - accuracy: 0.6352\n",
      "Epoch 53/150\n",
      "248/248 [==============================] - 0s 1ms/step - loss: 0.6154 - accuracy: 0.6348\n",
      "Epoch 54/150\n",
      "248/248 [==============================] - 0s 1ms/step - loss: 0.6136 - accuracy: 0.6352\n",
      "Epoch 55/150\n",
      "248/248 [==============================] - 0s 1ms/step - loss: 0.6139 - accuracy: 0.6368\n",
      "Epoch 56/150\n",
      "248/248 [==============================] - 0s 1ms/step - loss: 0.6133 - accuracy: 0.6348\n",
      "Epoch 57/150\n",
      "248/248 [==============================] - 0s 1ms/step - loss: 0.6132 - accuracy: 0.6348\n",
      "Epoch 58/150\n",
      "248/248 [==============================] - 0s 1ms/step - loss: 0.6123 - accuracy: 0.6312\n",
      "Epoch 59/150\n",
      "248/248 [==============================] - 0s 1ms/step - loss: 0.6126 - accuracy: 0.6368\n",
      "Epoch 60/150\n",
      "248/248 [==============================] - 0s 1ms/step - loss: 0.6126 - accuracy: 0.6356\n",
      "Epoch 61/150\n",
      "248/248 [==============================] - 0s 1ms/step - loss: 0.6107 - accuracy: 0.6328\n",
      "Epoch 62/150\n",
      "248/248 [==============================] - 0s 1ms/step - loss: 0.6112 - accuracy: 0.6348\n",
      "Epoch 63/150\n",
      "248/248 [==============================] - 0s 1ms/step - loss: 0.6113 - accuracy: 0.6303\n",
      "Epoch 64/150\n",
      "248/248 [==============================] - 0s 1ms/step - loss: 0.6110 - accuracy: 0.6372\n",
      "Epoch 65/150\n",
      "248/248 [==============================] - 0s 1ms/step - loss: 0.6104 - accuracy: 0.6295\n",
      "Epoch 66/150\n",
      "248/248 [==============================] - 0s 1ms/step - loss: 0.6111 - accuracy: 0.6364\n",
      "Epoch 67/150\n",
      "248/248 [==============================] - 0s 1ms/step - loss: 0.6108 - accuracy: 0.6400\n",
      "Epoch 68/150\n",
      "248/248 [==============================] - 0s 1ms/step - loss: 0.6098 - accuracy: 0.6380\n",
      "Epoch 69/150\n",
      "248/248 [==============================] - 0s 1ms/step - loss: 0.6091 - accuracy: 0.6303\n",
      "Epoch 70/150\n",
      "248/248 [==============================] - 0s 1ms/step - loss: 0.6108 - accuracy: 0.6445\n",
      "Epoch 71/150\n",
      "248/248 [==============================] - 0s 1ms/step - loss: 0.6097 - accuracy: 0.6408\n",
      "Epoch 72/150\n",
      "248/248 [==============================] - 0s 1ms/step - loss: 0.6093 - accuracy: 0.6376\n",
      "Epoch 73/150\n",
      "248/248 [==============================] - 0s 1ms/step - loss: 0.6090 - accuracy: 0.6400\n",
      "Epoch 74/150\n",
      "248/248 [==============================] - 0s 1ms/step - loss: 0.6094 - accuracy: 0.6328\n",
      "Epoch 75/150\n",
      "248/248 [==============================] - 0s 1ms/step - loss: 0.6088 - accuracy: 0.6380\n",
      "Epoch 76/150\n",
      "248/248 [==============================] - 0s 1ms/step - loss: 0.6093 - accuracy: 0.6336\n",
      "Epoch 77/150\n",
      "248/248 [==============================] - 0s 1ms/step - loss: 0.6081 - accuracy: 0.6356\n",
      "Epoch 78/150\n",
      "248/248 [==============================] - 0s 1ms/step - loss: 0.6075 - accuracy: 0.6336\n",
      "Epoch 79/150\n",
      "248/248 [==============================] - 0s 1ms/step - loss: 0.6077 - accuracy: 0.6372\n",
      "Epoch 80/150\n",
      "248/248 [==============================] - 0s 1ms/step - loss: 0.6079 - accuracy: 0.6364\n",
      "Epoch 81/150\n"
     ]
    },
    {
     "name": "stdout",
     "output_type": "stream",
     "text": [
      "248/248 [==============================] - 0s 1ms/step - loss: 0.6064 - accuracy: 0.6360\n",
      "Epoch 82/150\n",
      "248/248 [==============================] - 0s 1ms/step - loss: 0.6068 - accuracy: 0.6368\n",
      "Epoch 83/150\n",
      "248/248 [==============================] - 0s 1ms/step - loss: 0.6063 - accuracy: 0.6360\n",
      "Epoch 84/150\n",
      "248/248 [==============================] - 0s 1ms/step - loss: 0.6060 - accuracy: 0.6356\n",
      "Epoch 85/150\n",
      "248/248 [==============================] - 0s 1ms/step - loss: 0.6052 - accuracy: 0.6368\n",
      "Epoch 86/150\n",
      "248/248 [==============================] - 0s 2ms/step - loss: 0.6057 - accuracy: 0.6388\n",
      "Epoch 87/150\n",
      "248/248 [==============================] - 0s 2ms/step - loss: 0.6048 - accuracy: 0.6384\n",
      "Epoch 88/150\n",
      "248/248 [==============================] - 0s 1ms/step - loss: 0.6048 - accuracy: 0.6364\n",
      "Epoch 89/150\n",
      "248/248 [==============================] - 0s 1ms/step - loss: 0.6047 - accuracy: 0.6433\n",
      "Epoch 90/150\n",
      "248/248 [==============================] - 0s 1ms/step - loss: 0.6047 - accuracy: 0.6437\n",
      "Epoch 91/150\n",
      "248/248 [==============================] - 0s 1ms/step - loss: 0.6042 - accuracy: 0.6344\n",
      "Epoch 92/150\n",
      "248/248 [==============================] - 0s 2ms/step - loss: 0.6033 - accuracy: 0.6421\n",
      "Epoch 93/150\n",
      "248/248 [==============================] - 0s 1ms/step - loss: 0.6031 - accuracy: 0.6429\n",
      "Epoch 94/150\n",
      "248/248 [==============================] - 0s 2ms/step - loss: 0.6025 - accuracy: 0.6404\n",
      "Epoch 95/150\n",
      "248/248 [==============================] - 0s 1ms/step - loss: 0.6023 - accuracy: 0.6429\n",
      "Epoch 96/150\n",
      "248/248 [==============================] - 0s 1ms/step - loss: 0.6028 - accuracy: 0.6461\n",
      "Epoch 97/150\n",
      "248/248 [==============================] - 0s 1ms/step - loss: 0.6018 - accuracy: 0.6425\n",
      "Epoch 98/150\n",
      "248/248 [==============================] - 0s 1ms/step - loss: 0.6010 - accuracy: 0.6493\n",
      "Epoch 99/150\n",
      "248/248 [==============================] - 0s 1ms/step - loss: 0.6007 - accuracy: 0.6513\n",
      "Epoch 100/150\n",
      "248/248 [==============================] - 0s 1ms/step - loss: 0.6010 - accuracy: 0.6429\n",
      "Epoch 101/150\n",
      "248/248 [==============================] - 0s 1ms/step - loss: 0.6006 - accuracy: 0.6477\n",
      "Epoch 102/150\n",
      "248/248 [==============================] - 0s 1ms/step - loss: 0.6001 - accuracy: 0.6465\n",
      "Epoch 103/150\n",
      "248/248 [==============================] - 0s 1ms/step - loss: 0.6003 - accuracy: 0.6429\n",
      "Epoch 104/150\n",
      "248/248 [==============================] - 0s 1ms/step - loss: 0.6002 - accuracy: 0.6461\n",
      "Epoch 105/150\n",
      "248/248 [==============================] - 0s 1ms/step - loss: 0.5988 - accuracy: 0.6465\n",
      "Epoch 106/150\n",
      "248/248 [==============================] - 0s 1ms/step - loss: 0.5990 - accuracy: 0.6493\n",
      "Epoch 107/150\n",
      "248/248 [==============================] - 0s 1ms/step - loss: 0.5984 - accuracy: 0.6481\n",
      "Epoch 108/150\n",
      "248/248 [==============================] - 0s 1ms/step - loss: 0.5985 - accuracy: 0.6469\n",
      "Epoch 109/150\n",
      "248/248 [==============================] - 0s 1ms/step - loss: 0.5983 - accuracy: 0.6469\n",
      "Epoch 110/150\n",
      "248/248 [==============================] - 0s 1ms/step - loss: 0.5977 - accuracy: 0.6449\n",
      "Epoch 111/150\n",
      "248/248 [==============================] - 0s 1ms/step - loss: 0.5975 - accuracy: 0.6477\n",
      "Epoch 112/150\n",
      "248/248 [==============================] - 0s 1ms/step - loss: 0.5967 - accuracy: 0.6493\n",
      "Epoch 113/150\n",
      "248/248 [==============================] - 0s 1ms/step - loss: 0.5975 - accuracy: 0.6489\n",
      "Epoch 114/150\n",
      "248/248 [==============================] - 0s 1ms/step - loss: 0.5963 - accuracy: 0.6525\n",
      "Epoch 115/150\n",
      "248/248 [==============================] - 0s 1ms/step - loss: 0.5965 - accuracy: 0.6453\n",
      "Epoch 116/150\n",
      "248/248 [==============================] - 0s 1ms/step - loss: 0.5959 - accuracy: 0.6481\n",
      "Epoch 117/150\n",
      "248/248 [==============================] - 0s 1ms/step - loss: 0.5956 - accuracy: 0.6521\n",
      "Epoch 118/150\n",
      "248/248 [==============================] - 0s 1ms/step - loss: 0.5950 - accuracy: 0.6558\n",
      "Epoch 119/150\n",
      "248/248 [==============================] - 0s 1ms/step - loss: 0.5946 - accuracy: 0.6509\n",
      "Epoch 120/150\n",
      "248/248 [==============================] - 0s 1ms/step - loss: 0.5937 - accuracy: 0.6521\n",
      "Epoch 121/150\n",
      "248/248 [==============================] - 0s 1ms/step - loss: 0.5944 - accuracy: 0.6529\n",
      "Epoch 122/150\n",
      "248/248 [==============================] - 0s 1ms/step - loss: 0.5934 - accuracy: 0.6538\n",
      "Epoch 123/150\n",
      "248/248 [==============================] - 0s 1ms/step - loss: 0.5933 - accuracy: 0.6469\n",
      "Epoch 124/150\n",
      "248/248 [==============================] - 0s 1ms/step - loss: 0.5925 - accuracy: 0.6505\n",
      "Epoch 125/150\n",
      "248/248 [==============================] - 0s 1ms/step - loss: 0.5926 - accuracy: 0.6562\n",
      "Epoch 126/150\n",
      "248/248 [==============================] - 0s 1ms/step - loss: 0.5941 - accuracy: 0.6550\n",
      "Epoch 127/150\n",
      "248/248 [==============================] - 0s 1ms/step - loss: 0.5924 - accuracy: 0.6554\n",
      "Epoch 128/150\n",
      "248/248 [==============================] - 0s 1ms/step - loss: 0.5921 - accuracy: 0.6501\n",
      "Epoch 129/150\n",
      "248/248 [==============================] - 0s 1ms/step - loss: 0.5923 - accuracy: 0.6513\n",
      "Epoch 130/150\n",
      "248/248 [==============================] - 0s 1ms/step - loss: 0.5918 - accuracy: 0.6546\n",
      "Epoch 131/150\n",
      "248/248 [==============================] - 0s 1ms/step - loss: 0.5920 - accuracy: 0.6521\n",
      "Epoch 132/150\n",
      "248/248 [==============================] - 0s 1ms/step - loss: 0.5913 - accuracy: 0.6570\n",
      "Epoch 133/150\n",
      "248/248 [==============================] - 0s 1ms/step - loss: 0.5908 - accuracy: 0.6525\n",
      "Epoch 134/150\n",
      "248/248 [==============================] - 0s 1ms/step - loss: 0.5910 - accuracy: 0.6586\n",
      "Epoch 135/150\n",
      "248/248 [==============================] - 0s 1ms/step - loss: 0.5916 - accuracy: 0.6578\n",
      "Epoch 136/150\n",
      "248/248 [==============================] - 0s 1ms/step - loss: 0.5901 - accuracy: 0.6550\n",
      "Epoch 137/150\n",
      "248/248 [==============================] - 0s 1ms/step - loss: 0.5905 - accuracy: 0.6525\n",
      "Epoch 138/150\n",
      "248/248 [==============================] - 0s 1ms/step - loss: 0.5899 - accuracy: 0.6546\n",
      "Epoch 139/150\n",
      "248/248 [==============================] - 0s 1ms/step - loss: 0.5906 - accuracy: 0.6501\n",
      "Epoch 140/150\n",
      "248/248 [==============================] - 0s 1ms/step - loss: 0.5904 - accuracy: 0.6558\n",
      "Epoch 141/150\n",
      "248/248 [==============================] - 0s 1ms/step - loss: 0.5895 - accuracy: 0.6542\n",
      "Epoch 142/150\n",
      "248/248 [==============================] - 0s 1ms/step - loss: 0.5905 - accuracy: 0.6566\n",
      "Epoch 143/150\n",
      "248/248 [==============================] - 0s 1ms/step - loss: 0.5897 - accuracy: 0.6558\n",
      "Epoch 144/150\n",
      "248/248 [==============================] - 0s 1ms/step - loss: 0.5885 - accuracy: 0.6622\n",
      "Epoch 145/150\n",
      "248/248 [==============================] - 0s 1ms/step - loss: 0.5899 - accuracy: 0.6602\n",
      "Epoch 146/150\n",
      "248/248 [==============================] - 0s 1ms/step - loss: 0.5898 - accuracy: 0.6521\n",
      "Epoch 147/150\n",
      "248/248 [==============================] - 0s 1ms/step - loss: 0.5890 - accuracy: 0.6538\n",
      "Epoch 148/150\n",
      "248/248 [==============================] - 0s 1ms/step - loss: 0.5889 - accuracy: 0.6578\n",
      "Epoch 149/150\n",
      "248/248 [==============================] - 0s 1ms/step - loss: 0.5888 - accuracy: 0.6590\n",
      "Epoch 150/150\n",
      "248/248 [==============================] - 0s 1ms/step - loss: 0.5890 - accuracy: 0.6594\n"
     ]
    },
    {
     "data": {
      "text/plain": [
       "<keras.callbacks.History at 0x1ea9f71ef10>"
      ]
     },
     "execution_count": 59,
     "metadata": {},
     "output_type": "execute_result"
    }
   ],
   "source": [
    "# Importing Keras libraries\n",
    "from keras.models import Sequential\n",
    "from keras.layers import Dense\n",
    "\n",
    "classifier = Sequential()\n",
    "\n",
    "# Adding input layer 8 inputs\n",
    "classifier.add(Dense(8, activation = 'relu'))\n",
    "\n",
    "# Adding hidden layer 1st hidden layer rule of thumb take # of inputs add outputs and divide by 2\n",
    "# 8 inputs + 2 outputs (1,0) /2 = 5\n",
    "# more hidden layers longer processing time\n",
    "classifier.add(Dense(5, activation = 'relu'))\n",
    "\n",
    "classifier.add(Dense(2, activation = 'relu'))\n",
    "\n",
    "\n",
    "# Adding output layer Binary so only one sigmoid used to classify data into 2 types (from logistic regression)\n",
    "classifier.add(Dense(1, activation = 'sigmoid'))\n",
    "\n",
    "# Compiling ANN Algorithm\n",
    "classifier.compile(optimizer = 'adam', loss = 'binary_crossentropy', metrics = ['accuracy'])\n",
    "\n",
    "# Fitting ANN Algorithm to Training set\n",
    "classifier.fit(xtrain, y_train, batch_size = 10, epochs = 150)"
   ]
  },
  {
   "cell_type": "markdown",
   "id": "22b91aba",
   "metadata": {},
   "source": [
    "**Predict drafted**"
   ]
  },
  {
   "cell_type": "code",
   "execution_count": 60,
   "id": "52e23d48",
   "metadata": {},
   "outputs": [
    {
     "name": "stdout",
     "output_type": "stream",
     "text": [
      "26/26 [==============================] - 0s 1ms/step - loss: 0.6712 - accuracy: 0.5726\n",
      "Accuracy: 57.26\n"
     ]
    }
   ],
   "source": [
    "# # Predicting y_test using X_test \n",
    "# y_pred = classifier.predict(xtest)\n",
    "_, accuracy = classifier.evaluate(xtest, y_test)\n",
    "print('Accuracy: %.2f' % (accuracy*100))"
   ]
  },
  {
   "cell_type": "markdown",
   "id": "9c386d18",
   "metadata": {},
   "source": [
    "**Predict using K Nearest Neighbors**"
   ]
  },
  {
   "cell_type": "code",
   "execution_count": 61,
   "id": "ea8ea640",
   "metadata": {
    "scrolled": true
   },
   "outputs": [],
   "source": [
    "# predict round for drafted players\n",
    "df_round_df = df_combine.loc[df_combine['Round'] > 0]\n",
    "feature_cols  = ['Pos','School','Ht','Wt','40yd','Vertical','Bench','Broad Jump','3Cone']\n",
    "target = df_round_df['Round']\n",
    "X = df_round_df[feature_cols]\n",
    "y = target\n"
   ]
  },
  {
   "cell_type": "markdown",
   "id": "d6b9bf90",
   "metadata": {},
   "source": [
    "**Train test split**"
   ]
  },
  {
   "cell_type": "code",
   "execution_count": 62,
   "id": "f4b5cbaf",
   "metadata": {},
   "outputs": [],
   "source": [
    "from sklearn.model_selection import train_test_split\n",
    "X_train,X_test,y_train,y_test=train_test_split(X,y,test_size=0.20)"
   ]
  },
  {
   "cell_type": "markdown",
   "id": "9e2ac86b",
   "metadata": {},
   "source": [
    "**Feature Scaling**"
   ]
  },
  {
   "cell_type": "code",
   "execution_count": 63,
   "id": "68e8fcfa",
   "metadata": {},
   "outputs": [],
   "source": [
    "from sklearn.preprocessing import StandardScaler\n",
    "scaler = StandardScaler()\n",
    "scaler.fit(X_train)\n",
    "\n",
    "X_train = scaler.transform(X_train)\n",
    "X_test = scaler.transform(X_test)"
   ]
  },
  {
   "cell_type": "code",
   "execution_count": 64,
   "id": "e7d125b5",
   "metadata": {},
   "outputs": [],
   "source": [
    "from sklearn import neighbors\n",
    "from sklearn.metrics import mean_squared_error \n",
    "from math import sqrt\n",
    "import matplotlib.pyplot as plt\n",
    "%matplotlib inline"
   ]
  },
  {
   "cell_type": "markdown",
   "id": "bdaef8a2",
   "metadata": {},
   "source": [
    "**Look at the error rate for different k values**"
   ]
  },
  {
   "cell_type": "code",
   "execution_count": 65,
   "id": "32995ec2",
   "metadata": {},
   "outputs": [
    {
     "name": "stdout",
     "output_type": "stream",
     "text": [
      "RMSE value for k=  1 is: 1.8359858359393246\n",
      "RMSE value for k=  2 is: 1.6924686490086716\n",
      "RMSE value for k=  3 is: 1.636903903853807\n",
      "RMSE value for k=  4 is: 1.6990669923523554\n",
      "RMSE value for k=  5 is: 1.7430901214095325\n",
      "RMSE value for k=  6 is: 1.7939860381526587\n",
      "RMSE value for k=  7 is: 1.8000701716289413\n",
      "RMSE value for k=  8 is: 1.7978145478156515\n",
      "RMSE value for k=  9 is: 1.8159791584013039\n",
      "RMSE value for k=  10 is: 1.8182788860394545\n",
      "RMSE value for k=  11 is: 1.81391035102524\n",
      "RMSE value for k=  12 is: 1.8237708843777982\n",
      "RMSE value for k=  13 is: 1.8377200960867273\n",
      "RMSE value for k=  14 is: 1.8414927555280383\n",
      "RMSE value for k=  15 is: 1.84980817419805\n",
      "RMSE value for k=  16 is: 1.8505465296608723\n",
      "RMSE value for k=  17 is: 1.8438906536906234\n",
      "RMSE value for k=  18 is: 1.8409449575282442\n",
      "RMSE value for k=  19 is: 1.8299659627707767\n",
      "RMSE value for k=  20 is: 1.8270838224114534\n"
     ]
    }
   ],
   "source": [
    "rmse_val = [] #to store rmse values for different k\n",
    "for K in range(20):\n",
    "    K = K+1\n",
    "    model = neighbors.KNeighborsRegressor(n_neighbors = K)\n",
    "\n",
    "    model.fit(X_train, y_train)  #fit the model\n",
    "    pred=model.predict(X_test) #make prediction on test set\n",
    "    error = sqrt(mean_squared_error(y_test,pred)) #calculate rmse\n",
    "    rmse_val.append(error) #store rmse values\n",
    "    print('RMSE value for k= ' , K , 'is:', error)"
   ]
  },
  {
   "cell_type": "markdown",
   "id": "8b7fbc10",
   "metadata": {},
   "source": [
    "**Plot RMSE against K values**"
   ]
  },
  {
   "cell_type": "code",
   "execution_count": 66,
   "id": "fc051630",
   "metadata": {},
   "outputs": [
    {
     "data": {
      "image/png": "[encoded data removed]",
      "text/plain": [
       "<Figure size 432x288 with 1 Axes>"
      ]
     },
     "metadata": {
      "needs_background": "light"
     },
     "output_type": "display_data"
    }
   ],
   "source": [
    "curve = pd.DataFrame(rmse_val) #elbow curve \n",
    "curve.plot();"
   ]
  },
  {
   "cell_type": "markdown",
   "id": "3c9ea5a9",
   "metadata": {},
   "source": [
    "**Use GridsearchCV to find best value**"
   ]
  },
  {
   "cell_type": "code",
   "execution_count": 67,
   "id": "81d85bc2",
   "metadata": {},
   "outputs": [
    {
     "data": {
      "text/plain": [
       "{'n_neighbors': 2}"
      ]
     },
     "execution_count": 67,
     "metadata": {},
     "output_type": "execute_result"
    }
   ],
   "source": [
    "from sklearn.model_selection import GridSearchCV\n",
    "params = {'n_neighbors':[2,3,4,5,6,7,8,9]}\n",
    "\n",
    "knn = neighbors.KNeighborsRegressor()\n",
    "\n",
    "model = GridSearchCV(knn, params, cv=5)\n",
    "model.fit(X_train,y_train)\n",
    "model.best_params_"
   ]
  },
  {
   "cell_type": "code",
   "execution_count": 68,
   "id": "95aac346",
   "metadata": {},
   "outputs": [
    {
     "data": {
      "text/plain": [
       "KNeighborsClassifier(n_neighbors=9)"
      ]
     },
     "execution_count": 68,
     "metadata": {},
     "output_type": "execute_result"
    }
   ],
   "source": [
    "from sklearn.neighbors import KNeighborsClassifier\n",
    "knn = KNeighborsClassifier(n_neighbors=9)\n",
    "knn.fit(X_train, y_train)"
   ]
  },
  {
   "cell_type": "code",
   "execution_count": 69,
   "id": "fdf72d38",
   "metadata": {},
   "outputs": [
    {
     "name": "stdout",
     "output_type": "stream",
     "text": [
      "Accuracy: 31.71\n"
     ]
    }
   ],
   "source": [
    "accuracy = knn.score(X_test, y_test)\n",
    "print('Accuracy: %.2f' % (accuracy*100))"
   ]
  },
  {
   "cell_type": "markdown",
   "id": "2e0bf55b",
   "metadata": {},
   "source": [
    "**Linear Regression**"
   ]
  },
  {
   "cell_type": "code",
   "execution_count": 70,
   "id": "d51f0838",
   "metadata": {},
   "outputs": [],
   "source": [
    "feature_cols  = ['Pos','School','Ht','Wt','40yd','Vertical','Bench','Broad Jump','3Cone','Shuttle']\n",
    "target = df_combine1['Drafted']\n",
    "X = df_combine1[feature_cols]\n",
    "y = target"
   ]
  },
  {
   "cell_type": "code",
   "execution_count": 71,
   "id": "1b38bba5",
   "metadata": {},
   "outputs": [],
   "source": [
    "from sklearn.model_selection import train_test_split\n",
    "X_train,X_test,y_train,y_test=train_test_split(X,y,test_size=0.25,random_state=0)"
   ]
  },
  {
   "cell_type": "code",
   "execution_count": 72,
   "id": "02caa427",
   "metadata": {},
   "outputs": [],
   "source": [
    "from sklearn.preprocessing import StandardScaler\n",
    "sc_x = StandardScaler()\n",
    "xtrain = sc_x.fit_transform(X_train)\n",
    "xtest = sc_x.transform(X_test)"
   ]
  },
  {
   "cell_type": "markdown",
   "id": "4798aa4c",
   "metadata": {},
   "source": [
    "**Create model using Random Forest**"
   ]
  },
  {
   "cell_type": "code",
   "execution_count": 73,
   "id": "9a0ab5cc",
   "metadata": {},
   "outputs": [],
   "source": [
    "from sklearn.ensemble import RandomForestClassifier\n",
    "clf = RandomForestClassifier(n_estimators=100)\n",
    "clf.fit(X_train,y_train);\n"
   ]
  },
  {
   "cell_type": "markdown",
   "id": "7eda557e",
   "metadata": {},
   "source": [
    "**Calculate Accuracy of Random Forest**"
   ]
  },
  {
   "cell_type": "code",
   "execution_count": 74,
   "id": "80adb467",
   "metadata": {},
   "outputs": [
    {
     "name": "stdout",
     "output_type": "stream",
     "text": [
      "Accuracy: 77.36\n"
     ]
    }
   ],
   "source": [
    "y_pred=clf.predict(X_test)\n",
    "Accuracy = metrics.accuracy_score(y_test, y_pred)\n",
    "print('Accuracy: %.2f' % (Accuracy*100))"
   ]
  },
  {
   "cell_type": "code",
   "execution_count": 75,
   "id": "3cd1b732",
   "metadata": {},
   "outputs": [
    {
     "name": "stdout",
     "output_type": "stream",
     "text": [
      "Mean squared error: 0.23\n",
      "Coefficient of determination: 0.05\n"
     ]
    }
   ],
   "source": [
    "print(\"Mean squared error: %.2f\" % mean_squared_error(y_test, y_pred))\n",
    "print(\"Coefficient of determination: %.2f\" % r2_score(y_test, y_pred))"
   ]
  },
  {
   "cell_type": "code",
   "execution_count": 76,
   "id": "e137ebde",
   "metadata": {},
   "outputs": [],
   "source": [
    "import seaborn as sn\n",
    "\n",
    "from sklearn.metrics import confusion_matrix\n",
    "cm = confusion_matrix(y_test, y_pred)\n"
   ]
  },
  {
   "cell_type": "code",
   "execution_count": 77,
   "id": "cbb6f665",
   "metadata": {},
   "outputs": [
    {
     "name": "stdout",
     "output_type": "stream",
     "text": [
      "              precision    recall  f1-score   support\n",
      "\n",
      "           0       0.72      0.69      0.70       323\n",
      "           1       0.81      0.83      0.82       503\n",
      "\n",
      "    accuracy                           0.77       826\n",
      "   macro avg       0.76      0.76      0.76       826\n",
      "weighted avg       0.77      0.77      0.77       826\n",
      "\n"
     ]
    },
    {
     "data": {
      "image/png": "[encoded data removed]",
      "text/plain": [
       "<Figure size 432x288 with 2 Axes>"
      ]
     },
     "metadata": {
      "needs_background": "light"
     },
     "output_type": "display_data"
    }
   ],
   "source": [
    "from sklearn.metrics import ConfusionMatrixDisplay\n",
    "## Display the visualization of the Confusion Matrix.\n",
    "ConfusionMatrixDisplay.from_predictions(\n",
    "   y_test, y_pred);\n",
    "print(metrics.classification_report(y_test, y_pred))"
   ]
  },
  {
   "cell_type": "markdown",
   "id": "7e7be511",
   "metadata": {},
   "source": [
    "**So it appears that Random Forest is the best method to use in this cse to predict whether a player will be drafted or not based on their NFL Scouting Combine Measurements.**"
   ]
  },
  {
   "cell_type": "code",
   "execution_count": null,
   "id": "1317a87d",
   "metadata": {},
   "outputs": [],
   "source": []
  }
 ],
 "metadata": {
  "kernelspec": {
   "display_name": "Python 3 (ipykernel)",
   "language": "python",
   "name": "python3"
  },
  "language_info": {
   "codemirror_mode": {
    "name": "ipython",
    "version": 3
   },
   "file_extension": ".py",
   "mimetype": "text/x-python",
   "name": "python",
   "nbconvert_exporter": "python",
   "pygments_lexer": "ipython3",
   "version": "3.9.12"
  }
 },
 "nbformat": 4,
 "nbformat_minor": 5
}
